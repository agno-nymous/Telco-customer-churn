{
 "cells": [
  {
   "cell_type": "code",
   "execution_count": 28,
   "metadata": {
    "id": "IjQ4ZitSRukF"
   },
   "outputs": [],
   "source": [
    "MAIN_FOLDER = \"..\""
   ]
  },
  {
   "cell_type": "code",
   "execution_count": 29,
   "metadata": {
    "id": "tMTjeSMrIf_J"
   },
   "outputs": [],
   "source": [
    "import pandas as pd\n",
    "import numpy as np\n",
    "import joblib\n",
    "import os\n",
    "import sys\n",
    "\n",
    "sys.path.append(MAIN_FOLDER)\n",
    "import utils.resp_enc as resp\n",
    "\n",
    "\n",
    "# import all models\n",
    "from sklearn.linear_model import LogisticRegression\n",
    "from sklearn.tree import DecisionTreeClassifier\n",
    "from sklearn.ensemble import RandomForestClassifier\n",
    "import sklearn.model_selection as model_selection\n",
    "import xgboost as xgb\n",
    "import lightgbm as lgb\n",
    "\n",
    "# import all metrics\n",
    "import sklearn.metrics as metrics\n",
    "\n",
    "import warnings\n",
    "\n",
    "warnings.filterwarnings(\"ignore\")\n",
    "import os\n",
    "\n",
    "os.environ[\"KMP_DUPLICATE_LIB_OK\"] = \"True\""
   ]
  },
  {
   "cell_type": "code",
   "execution_count": 30,
   "metadata": {
    "colab": {
     "base_uri": "https://localhost:8080/"
    },
    "id": "IGAeCwPdIf_O",
    "outputId": "a020dc2b-f6d8-42ef-8270-fcf6e3bc7c3b"
   },
   "outputs": [
    {
     "data": {
      "text/plain": [
       "((5634, 18), (1409, 18))"
      ]
     },
     "execution_count": 30,
     "metadata": {},
     "output_type": "execute_result"
    }
   ],
   "source": [
    "# read data\n",
    "train = pd.read_csv(os.path.join(MAIN_FOLDER, \"data/train.csv\"))\n",
    "test = pd.read_csv(os.path.join(MAIN_FOLDER, \"data/test.csv\"))\n",
    "\n",
    "train.shape, test.shape"
   ]
  },
  {
   "cell_type": "code",
   "execution_count": 31,
   "metadata": {
    "colab": {
     "base_uri": "https://localhost:8080/",
     "height": 313
    },
    "id": "0BAY0j_ZIf_P",
    "outputId": "ffb2c605-ce9b-43b1-aa80-78e4e52d4c00"
   },
   "outputs": [
    {
     "data": {
      "text/html": [
       "<div>\n",
       "<style scoped>\n",
       "    .dataframe tbody tr th:only-of-type {\n",
       "        vertical-align: middle;\n",
       "    }\n",
       "\n",
       "    .dataframe tbody tr th {\n",
       "        vertical-align: top;\n",
       "    }\n",
       "\n",
       "    .dataframe thead th {\n",
       "        text-align: right;\n",
       "    }\n",
       "</style>\n",
       "<table border=\"1\" class=\"dataframe\">\n",
       "  <thead>\n",
       "    <tr style=\"text-align: right;\">\n",
       "      <th></th>\n",
       "      <th>customerID</th>\n",
       "      <th>SeniorCitizen</th>\n",
       "      <th>Partner</th>\n",
       "      <th>Dependents</th>\n",
       "      <th>tenure</th>\n",
       "      <th>MultipleLines</th>\n",
       "      <th>InternetService</th>\n",
       "      <th>OnlineSecurity</th>\n",
       "      <th>OnlineBackup</th>\n",
       "      <th>DeviceProtection</th>\n",
       "      <th>TechSupport</th>\n",
       "      <th>StreamingTV</th>\n",
       "      <th>StreamingMovies</th>\n",
       "      <th>Contract</th>\n",
       "      <th>PaperlessBilling</th>\n",
       "      <th>PaymentMethod</th>\n",
       "      <th>MonthlyCharges</th>\n",
       "      <th>Churn</th>\n",
       "    </tr>\n",
       "  </thead>\n",
       "  <tbody>\n",
       "    <tr>\n",
       "      <th>0</th>\n",
       "      <td>8173-RXAYP</td>\n",
       "      <td>0</td>\n",
       "      <td>Yes</td>\n",
       "      <td>Yes</td>\n",
       "      <td>24</td>\n",
       "      <td>No</td>\n",
       "      <td>No</td>\n",
       "      <td>No internet service</td>\n",
       "      <td>No internet service</td>\n",
       "      <td>No internet service</td>\n",
       "      <td>No internet service</td>\n",
       "      <td>No internet service</td>\n",
       "      <td>No internet service</td>\n",
       "      <td>Two year</td>\n",
       "      <td>No</td>\n",
       "      <td>Mailed check</td>\n",
       "      <td>19.70</td>\n",
       "      <td>0</td>\n",
       "    </tr>\n",
       "    <tr>\n",
       "      <th>1</th>\n",
       "      <td>1325-USMEC</td>\n",
       "      <td>0</td>\n",
       "      <td>Yes</td>\n",
       "      <td>No</td>\n",
       "      <td>70</td>\n",
       "      <td>Yes</td>\n",
       "      <td>Fiber optic</td>\n",
       "      <td>Yes</td>\n",
       "      <td>Yes</td>\n",
       "      <td>Yes</td>\n",
       "      <td>No</td>\n",
       "      <td>Yes</td>\n",
       "      <td>No</td>\n",
       "      <td>Two year</td>\n",
       "      <td>Yes</td>\n",
       "      <td>Credit card (automatic)</td>\n",
       "      <td>99.35</td>\n",
       "      <td>0</td>\n",
       "    </tr>\n",
       "    <tr>\n",
       "      <th>2</th>\n",
       "      <td>6892-BOGQE</td>\n",
       "      <td>0</td>\n",
       "      <td>Yes</td>\n",
       "      <td>No</td>\n",
       "      <td>71</td>\n",
       "      <td>No</td>\n",
       "      <td>No</td>\n",
       "      <td>No internet service</td>\n",
       "      <td>No internet service</td>\n",
       "      <td>No internet service</td>\n",
       "      <td>No internet service</td>\n",
       "      <td>No internet service</td>\n",
       "      <td>No internet service</td>\n",
       "      <td>Two year</td>\n",
       "      <td>Yes</td>\n",
       "      <td>Bank transfer (automatic)</td>\n",
       "      <td>20.90</td>\n",
       "      <td>0</td>\n",
       "    </tr>\n",
       "    <tr>\n",
       "      <th>3</th>\n",
       "      <td>7134-MJPDY</td>\n",
       "      <td>1</td>\n",
       "      <td>No</td>\n",
       "      <td>No</td>\n",
       "      <td>66</td>\n",
       "      <td>Yes</td>\n",
       "      <td>Fiber optic</td>\n",
       "      <td>No</td>\n",
       "      <td>No</td>\n",
       "      <td>Yes</td>\n",
       "      <td>Yes</td>\n",
       "      <td>Yes</td>\n",
       "      <td>Yes</td>\n",
       "      <td>One year</td>\n",
       "      <td>Yes</td>\n",
       "      <td>Credit card (automatic)</td>\n",
       "      <td>102.85</td>\n",
       "      <td>0</td>\n",
       "    </tr>\n",
       "    <tr>\n",
       "      <th>4</th>\n",
       "      <td>2535-PBCGC</td>\n",
       "      <td>0</td>\n",
       "      <td>Yes</td>\n",
       "      <td>No</td>\n",
       "      <td>70</td>\n",
       "      <td>No phone service</td>\n",
       "      <td>DSL</td>\n",
       "      <td>Yes</td>\n",
       "      <td>Yes</td>\n",
       "      <td>Yes</td>\n",
       "      <td>Yes</td>\n",
       "      <td>Yes</td>\n",
       "      <td>Yes</td>\n",
       "      <td>Two year</td>\n",
       "      <td>No</td>\n",
       "      <td>Bank transfer (automatic)</td>\n",
       "      <td>64.55</td>\n",
       "      <td>0</td>\n",
       "    </tr>\n",
       "  </tbody>\n",
       "</table>\n",
       "</div>"
      ],
      "text/plain": [
       "   customerID  SeniorCitizen Partner Dependents  tenure     MultipleLines  \\\n",
       "0  8173-RXAYP              0     Yes        Yes      24                No   \n",
       "1  1325-USMEC              0     Yes         No      70               Yes   \n",
       "2  6892-BOGQE              0     Yes         No      71                No   \n",
       "3  7134-MJPDY              1      No         No      66               Yes   \n",
       "4  2535-PBCGC              0     Yes         No      70  No phone service   \n",
       "\n",
       "  InternetService       OnlineSecurity         OnlineBackup  \\\n",
       "0              No  No internet service  No internet service   \n",
       "1     Fiber optic                  Yes                  Yes   \n",
       "2              No  No internet service  No internet service   \n",
       "3     Fiber optic                   No                   No   \n",
       "4             DSL                  Yes                  Yes   \n",
       "\n",
       "      DeviceProtection          TechSupport          StreamingTV  \\\n",
       "0  No internet service  No internet service  No internet service   \n",
       "1                  Yes                   No                  Yes   \n",
       "2  No internet service  No internet service  No internet service   \n",
       "3                  Yes                  Yes                  Yes   \n",
       "4                  Yes                  Yes                  Yes   \n",
       "\n",
       "       StreamingMovies  Contract PaperlessBilling              PaymentMethod  \\\n",
       "0  No internet service  Two year               No               Mailed check   \n",
       "1                   No  Two year              Yes    Credit card (automatic)   \n",
       "2  No internet service  Two year              Yes  Bank transfer (automatic)   \n",
       "3                  Yes  One year              Yes    Credit card (automatic)   \n",
       "4                  Yes  Two year               No  Bank transfer (automatic)   \n",
       "\n",
       "   MonthlyCharges  Churn  \n",
       "0           19.70      0  \n",
       "1           99.35      0  \n",
       "2           20.90      0  \n",
       "3          102.85      0  \n",
       "4           64.55      0  "
      ]
     },
     "execution_count": 31,
     "metadata": {},
     "output_type": "execute_result"
    }
   ],
   "source": [
    "train.head()"
   ]
  },
  {
   "cell_type": "code",
   "execution_count": 32,
   "metadata": {
    "colab": {
     "base_uri": "https://localhost:8080/"
    },
    "id": "2EevXoDfIf_Q",
    "outputId": "927b39d0-c5e7-4fc5-fdad-f4f6fe4417f5"
   },
   "outputs": [
    {
     "name": "stdout",
     "output_type": "stream",
     "text": [
      "<class 'pandas.core.frame.DataFrame'>\n",
      "RangeIndex: 5634 entries, 0 to 5633\n",
      "Data columns (total 18 columns):\n",
      " #   Column            Non-Null Count  Dtype  \n",
      "---  ------            --------------  -----  \n",
      " 0   customerID        5634 non-null   object \n",
      " 1   SeniorCitizen     5634 non-null   int64  \n",
      " 2   Partner           5634 non-null   object \n",
      " 3   Dependents        5634 non-null   object \n",
      " 4   tenure            5634 non-null   int64  \n",
      " 5   MultipleLines     5634 non-null   object \n",
      " 6   InternetService   5634 non-null   object \n",
      " 7   OnlineSecurity    5634 non-null   object \n",
      " 8   OnlineBackup      5634 non-null   object \n",
      " 9   DeviceProtection  5634 non-null   object \n",
      " 10  TechSupport       5634 non-null   object \n",
      " 11  StreamingTV       5634 non-null   object \n",
      " 12  StreamingMovies   5634 non-null   object \n",
      " 13  Contract          5634 non-null   object \n",
      " 14  PaperlessBilling  5634 non-null   object \n",
      " 15  PaymentMethod     5634 non-null   object \n",
      " 16  MonthlyCharges    5634 non-null   float64\n",
      " 17  Churn             5634 non-null   int64  \n",
      "dtypes: float64(1), int64(3), object(14)\n",
      "memory usage: 792.4+ KB\n"
     ]
    }
   ],
   "source": [
    "train.info()"
   ]
  },
  {
   "cell_type": "markdown",
   "metadata": {
    "id": "-UrLEDLdRn7f"
   },
   "source": [
    "Get those columns which are of object type and those columns which are of int type"
   ]
  },
  {
   "cell_type": "code",
   "execution_count": null,
   "metadata": {},
   "outputs": [],
   "source": [
    "train.drop(\"customerID\", axis=1, inplace=True)\n",
    "test.drop(\"customerID\", axis=1, inplace=True)"
   ]
  },
  {
   "cell_type": "code",
   "execution_count": 7,
   "metadata": {
    "id": "VldUAEmOIf_Q"
   },
   "outputs": [],
   "source": [
    "get_obj_cols = [col for col in train.columns if train[col].dtype == \"object\"]\n",
    "get_int_cols = [col for col in train.columns if train[col].dtype != \"object\"]"
   ]
  },
  {
   "cell_type": "markdown",
   "metadata": {
    "id": "1gir00G3If_Q"
   },
   "source": [
    "# Response Encoding\n",
    "\n",
    "[More info check this link](https://medium.com/@thewingedwolf.winterfell/response-coding-for-categorical-data-7bb8916c6dc1)"
   ]
  },
  {
   "cell_type": "markdown",
   "metadata": {
    "id": "V3COZZUTRn7h"
   },
   "source": [
    "We will response encode the categorical data instead of using one hot encoding the categorical data. The below is the code for that."
   ]
  },
  {
   "cell_type": "code",
   "execution_count": 8,
   "metadata": {
    "colab": {
     "base_uri": "https://localhost:8080/",
     "height": 226
    },
    "id": "F5YVzL9tIf_T",
    "outputId": "6f83aa38-c4e5-441c-f58d-346ee8d3b6d7"
   },
   "outputs": [
    {
     "data": {
      "text/html": [
       "<div>\n",
       "<style scoped>\n",
       "    .dataframe tbody tr th:only-of-type {\n",
       "        vertical-align: middle;\n",
       "    }\n",
       "\n",
       "    .dataframe tbody tr th {\n",
       "        vertical-align: top;\n",
       "    }\n",
       "\n",
       "    .dataframe thead th {\n",
       "        text-align: right;\n",
       "    }\n",
       "</style>\n",
       "<table border=\"1\" class=\"dataframe\">\n",
       "  <thead>\n",
       "    <tr style=\"text-align: right;\">\n",
       "      <th></th>\n",
       "      <th>SeniorCitizen</th>\n",
       "      <th>Partner</th>\n",
       "      <th>Dependents</th>\n",
       "      <th>tenure</th>\n",
       "      <th>MultipleLines</th>\n",
       "      <th>InternetService</th>\n",
       "      <th>OnlineSecurity</th>\n",
       "      <th>OnlineBackup</th>\n",
       "      <th>DeviceProtection</th>\n",
       "      <th>TechSupport</th>\n",
       "      <th>StreamingTV</th>\n",
       "      <th>StreamingMovies</th>\n",
       "      <th>Contract</th>\n",
       "      <th>PaperlessBilling</th>\n",
       "      <th>PaymentMethod</th>\n",
       "      <th>MonthlyCharges</th>\n",
       "      <th>Churn</th>\n",
       "    </tr>\n",
       "  </thead>\n",
       "  <tbody>\n",
       "    <tr>\n",
       "      <th>0</th>\n",
       "      <td>0</td>\n",
       "      <td>0.33</td>\n",
       "      <td>0.31</td>\n",
       "      <td>1</td>\n",
       "      <td>0.25</td>\n",
       "      <td>0.41</td>\n",
       "      <td>0.42</td>\n",
       "      <td>0.22</td>\n",
       "      <td>0.39</td>\n",
       "      <td>0.42</td>\n",
       "      <td>0.34</td>\n",
       "      <td>0.34</td>\n",
       "      <td>0.43</td>\n",
       "      <td>0.34</td>\n",
       "      <td>0.46</td>\n",
       "      <td>74.7</td>\n",
       "      <td>1</td>\n",
       "    </tr>\n",
       "    <tr>\n",
       "      <th>1</th>\n",
       "      <td>0</td>\n",
       "      <td>0.33</td>\n",
       "      <td>0.31</td>\n",
       "      <td>1</td>\n",
       "      <td>0.25</td>\n",
       "      <td>0.41</td>\n",
       "      <td>0.42</td>\n",
       "      <td>0.39</td>\n",
       "      <td>0.39</td>\n",
       "      <td>0.42</td>\n",
       "      <td>0.34</td>\n",
       "      <td>0.34</td>\n",
       "      <td>0.43</td>\n",
       "      <td>0.34</td>\n",
       "      <td>0.46</td>\n",
       "      <td>69.6</td>\n",
       "      <td>1</td>\n",
       "    </tr>\n",
       "    <tr>\n",
       "      <th>2</th>\n",
       "      <td>0</td>\n",
       "      <td>0.33</td>\n",
       "      <td>0.31</td>\n",
       "      <td>13</td>\n",
       "      <td>0.25</td>\n",
       "      <td>0.41</td>\n",
       "      <td>0.42</td>\n",
       "      <td>0.39</td>\n",
       "      <td>0.22</td>\n",
       "      <td>0.42</td>\n",
       "      <td>0.30</td>\n",
       "      <td>0.34</td>\n",
       "      <td>0.43</td>\n",
       "      <td>0.34</td>\n",
       "      <td>0.46</td>\n",
       "      <td>83.2</td>\n",
       "      <td>1</td>\n",
       "    </tr>\n",
       "    <tr>\n",
       "      <th>3</th>\n",
       "      <td>0</td>\n",
       "      <td>0.33</td>\n",
       "      <td>0.31</td>\n",
       "      <td>1</td>\n",
       "      <td>0.25</td>\n",
       "      <td>0.19</td>\n",
       "      <td>0.42</td>\n",
       "      <td>0.39</td>\n",
       "      <td>0.39</td>\n",
       "      <td>0.42</td>\n",
       "      <td>0.34</td>\n",
       "      <td>0.34</td>\n",
       "      <td>0.43</td>\n",
       "      <td>0.34</td>\n",
       "      <td>0.19</td>\n",
       "      <td>44.9</td>\n",
       "      <td>0</td>\n",
       "    </tr>\n",
       "    <tr>\n",
       "      <th>4</th>\n",
       "      <td>0</td>\n",
       "      <td>0.33</td>\n",
       "      <td>0.31</td>\n",
       "      <td>13</td>\n",
       "      <td>0.25</td>\n",
       "      <td>0.08</td>\n",
       "      <td>0.08</td>\n",
       "      <td>0.08</td>\n",
       "      <td>0.08</td>\n",
       "      <td>0.08</td>\n",
       "      <td>0.08</td>\n",
       "      <td>0.08</td>\n",
       "      <td>0.11</td>\n",
       "      <td>0.16</td>\n",
       "      <td>0.19</td>\n",
       "      <td>20.2</td>\n",
       "      <td>0</td>\n",
       "    </tr>\n",
       "  </tbody>\n",
       "</table>\n",
       "</div>"
      ],
      "text/plain": [
       "   SeniorCitizen  Partner  Dependents  tenure  MultipleLines  InternetService  \\\n",
       "0              0     0.33        0.31       1           0.25             0.41   \n",
       "1              0     0.33        0.31       1           0.25             0.41   \n",
       "2              0     0.33        0.31      13           0.25             0.41   \n",
       "3              0     0.33        0.31       1           0.25             0.19   \n",
       "4              0     0.33        0.31      13           0.25             0.08   \n",
       "\n",
       "   OnlineSecurity  OnlineBackup  DeviceProtection  TechSupport  StreamingTV  \\\n",
       "0            0.42          0.22              0.39         0.42         0.34   \n",
       "1            0.42          0.39              0.39         0.42         0.34   \n",
       "2            0.42          0.39              0.22         0.42         0.30   \n",
       "3            0.42          0.39              0.39         0.42         0.34   \n",
       "4            0.08          0.08              0.08         0.08         0.08   \n",
       "\n",
       "   StreamingMovies  Contract  PaperlessBilling  PaymentMethod  MonthlyCharges  \\\n",
       "0             0.34      0.43              0.34           0.46            74.7   \n",
       "1             0.34      0.43              0.34           0.46            69.6   \n",
       "2             0.34      0.43              0.34           0.46            83.2   \n",
       "3             0.34      0.43              0.34           0.19            44.9   \n",
       "4             0.08      0.11              0.16           0.19            20.2   \n",
       "\n",
       "   Churn  \n",
       "0      1  \n",
       "1      1  \n",
       "2      1  \n",
       "3      0  \n",
       "4      0  "
      ]
     },
     "execution_count": 8,
     "metadata": {},
     "output_type": "execute_result"
    }
   ],
   "source": [
    "# fit the response_encoding class to the train data\n",
    "# response encoding all the categorical columns\n",
    "# resp_enc = resp.response_encoding(cols=get_obj_cols,target='Churn',alpha=0.1, target_value=1)\n",
    "# resp_enc.fit(train)\n",
    "resp_enc = joblib.load(os.path.join(MAIN_FOLDER, \"model/resp_enc.pkl\"))\n",
    "train = resp_enc.transform(train)\n",
    "test = resp_enc.transform(test)\n",
    "\n",
    "train.head()"
   ]
  },
  {
   "cell_type": "code",
   "execution_count": 9,
   "metadata": {
    "id": "JXjcsRhFRn7i"
   },
   "outputs": [],
   "source": [
    "# save the resp_enc object to a file\n",
    "# with open('./model/resp_enc.pkl','wb') as f:\n",
    "#     joblib.dump(resp_enc,f)"
   ]
  },
  {
   "cell_type": "code",
   "execution_count": 10,
   "metadata": {
    "id": "jEJvKoM1Rn7j"
   },
   "outputs": [],
   "source": [
    "# train.to_csv('../data/train_encoded.csv',index=False)\n",
    "# test.to_csv('../data/test_encoded.csv',index=False)"
   ]
  },
  {
   "cell_type": "code",
   "execution_count": 11,
   "metadata": {},
   "outputs": [],
   "source": [
    "# train = pd.read_csv(os.path.join(MAIN_FOLDER,\"data/train_encoded.csv\"))\n",
    "# test = pd.read_csv(os.path.join(MAIN_FOLDER,\"data/test_encoded.csv\"))\n",
    "\n",
    "# train.shape, test.shape"
   ]
  },
  {
   "cell_type": "markdown",
   "metadata": {
    "id": "LbW2RuVLIf_T"
   },
   "source": [
    "# Modelling"
   ]
  },
  {
   "cell_type": "code",
   "execution_count": 12,
   "metadata": {
    "id": "knHgl3-6If_U"
   },
   "outputs": [],
   "source": [
    "# split the data into x and y\n",
    "x_train = train.drop([\"Churn\"], axis=1)\n",
    "y_train = train[\"Churn\"]\n",
    "\n",
    "x_test = test.drop([\"Churn\"], axis=1)\n",
    "y_test = test[\"Churn\"]"
   ]
  },
  {
   "cell_type": "markdown",
   "metadata": {
    "id": "md9beqGoRn7j"
   },
   "source": [
    "Since this is an imbalanced classification we need to assign weights to the classes. We will use the below code to do that. This is specifically for XGBoost and it is not applicable for other models as specified in the official documentation. For other models we will use 'balanced'."
   ]
  },
  {
   "cell_type": "code",
   "execution_count": 13,
   "metadata": {
    "id": "7i0GvvTYIf_U"
   },
   "outputs": [],
   "source": [
    "# for xgboost\n",
    "# weight = no. of negative classes/no. of positive classes\n",
    "weight = (y_train == 0).sum() / (y_train == 1).sum()"
   ]
  },
  {
   "cell_type": "markdown",
   "metadata": {
    "id": "uqi9reC4Rn7j"
   },
   "source": [
    "We will be fitting Decision Tree Classifier, Random Forest Classifier, XGBoost Classifier and LightGBM Classifier."
   ]
  },
  {
   "cell_type": "code",
   "execution_count": 14,
   "metadata": {
    "colab": {
     "base_uri": "https://localhost:8080/"
    },
    "id": "DzydSbFnIf_V",
    "outputId": "a214023d-4bd1-4c41-9215-3d6fa902187f"
   },
   "outputs": [
    {
     "name": "stdout",
     "output_type": "stream",
     "text": [
      "Decision Tree\n",
      "Mean roc_auc: 0.65\n",
      "Mean f1: 0.48\n",
      "Mean precision: 0.48\n",
      "Mean recall: 0.49\n",
      "\n",
      "\n",
      "Random Forest\n",
      "Mean roc_auc: 0.84\n",
      "Mean f1: 0.62\n",
      "Mean precision: 0.58\n",
      "Mean recall: 0.67\n",
      "\n",
      "\n",
      "XGBoost\n",
      "Mean roc_auc: 0.84\n",
      "Mean f1: 0.63\n",
      "Mean precision: 0.52\n",
      "Mean recall: 0.79\n",
      "\n",
      "\n",
      "LightGBM\n",
      "Mean roc_auc: 0.83\n",
      "Mean f1: 0.61\n",
      "Mean precision: 0.53\n",
      "Mean recall: 0.71\n",
      "\n",
      "\n"
     ]
    }
   ],
   "source": [
    "models = {\n",
    "    \"Decision Tree\": DecisionTreeClassifier(class_weight=\"balanced\", random_state=420),\n",
    "    \"Random Forest\": RandomForestClassifier(\n",
    "        class_weight=\"balanced_subsample\",\n",
    "        n_jobs=-1,\n",
    "        n_estimators=50,\n",
    "        max_depth=10,\n",
    "        random_state=420,\n",
    "    ),\n",
    "    \"XGBoost\": xgb.XGBClassifier(\n",
    "        scale_pos_weight=weight, use_label_encoder=False, n_jobs=-1, random_state=420\n",
    "    ),\n",
    "    \"LightGBM\": lgb.LGBMClassifier(\n",
    "        class_weight=\"balanced\", n_jobs=-1, random_state=420\n",
    "    ),\n",
    "}\n",
    "\n",
    "cv = model_selection.RepeatedStratifiedKFold(n_splits=3, n_repeats=2, random_state=420)\n",
    "\n",
    "for model_name, model in models.items():\n",
    "    print(model_name)\n",
    "    for score in [\"roc_auc\", \"f1\", \"precision\", \"recall\"]:\n",
    "        scores = model_selection.cross_val_score(\n",
    "            model, x_train, y_train, scoring=score, cv=cv, n_jobs=-1\n",
    "        )\n",
    "        print(f\"Mean {score}: {np.mean(scores):.2f}\")\n",
    "    print(\"\\n\")"
   ]
  },
  {
   "cell_type": "markdown",
   "metadata": {
    "id": "CbUWE5ydj3rC"
   },
   "source": [
    "The best model is found to be XGBoost which had the large scores in both roc-auc, f1, precision and recall.\n",
    "\n",
    "# Next Steps\n",
    "\n",
    "* Hyperparameter tune the XGBoost model and validate it on test data.\n",
    "* Study feature importance using Shapley values.\n",
    "\n",
    "# Hyperparameter tune the best model (here XGBoost)"
   ]
  },
  {
   "cell_type": "code",
   "execution_count": 28,
   "metadata": {
    "id": "a-4xi9AKyOOk"
   },
   "outputs": [],
   "source": [
    "import optuna"
   ]
  },
  {
   "cell_type": "code",
   "execution_count": 29,
   "metadata": {
    "id": "yhPnIAksUo7a"
   },
   "outputs": [],
   "source": [
    "def objective(trial, data=x_train, target=y_train):\n",
    "    param = {\n",
    "        #'tree_method':'gpu_hist',  # this parameter means using the GPU when training our model to speedup the training process\n",
    "        \"colsample_bytree\": trial.suggest_categorical(\n",
    "            \"colsample_bytree\", [0.3, 0.4, 0.5, 0.6, 0.7, 0.8, 0.9, 1.0]\n",
    "        ),\n",
    "        \"subsample\": trial.suggest_categorical(\n",
    "            \"subsample\", [0.4, 0.5, 0.6, 0.7, 0.8, 1.0]\n",
    "        ),\n",
    "        \"learning_rate\": trial.suggest_categorical(\n",
    "            \"learning_rate\", [0.008, 0.009, 0.01, 0.012, 0.014, 0.016, 0.018, 0.02]\n",
    "        ),\n",
    "        \"n_estimators\": trial.suggest_int(\"n_estimators\", 100, 1000),\n",
    "        \"max_depth\": trial.suggest_categorical(\"max_depth\", [i + 1 for i in range(9)]),\n",
    "        \"random_state\": 420,\n",
    "        \"min_child_weight\": trial.suggest_int(\"min_child_weight\", 1, 300),\n",
    "        \"scale_pos_weight\": weight,\n",
    "    }\n",
    "    model = xgb.XGBClassifier(**param)\n",
    "\n",
    "    cv = model_selection.RepeatedStratifiedKFold(\n",
    "        n_splits=3, n_repeats=2, random_state=420\n",
    "    )\n",
    "\n",
    "    scores = model_selection.cross_val_score(\n",
    "        model, data, target, scoring=\"f1\", cv=cv, n_jobs=-1\n",
    "    )\n",
    "\n",
    "    return np.mean(scores)"
   ]
  },
  {
   "cell_type": "code",
   "execution_count": 30,
   "metadata": {
    "colab": {
     "base_uri": "https://localhost:8080/"
    },
    "id": "6LBtuJywy3Gm",
    "outputId": "fab3c2c5-782c-492f-ed02-18a474dca3cb"
   },
   "outputs": [
    {
     "name": "stderr",
     "output_type": "stream",
     "text": [
      "\u001b[32m[I 2021-10-18 19:30:13,007]\u001b[0m A new study created in memory with name: no-name-3fb8b240-34ec-4753-82ce-ed2b496db2de\u001b[0m\n",
      "\u001b[32m[I 2021-10-18 19:30:14,659]\u001b[0m Trial 0 finished with value: 0.6282078075515352 and parameters: {'colsample_bytree': 0.4, 'subsample': 0.8, 'learning_rate': 0.01, 'n_estimators': 402, 'max_depth': 3, 'min_child_weight': 154}. Best is trial 0 with value: 0.6282078075515352.\u001b[0m\n",
      "\u001b[32m[I 2021-10-18 19:30:17,913]\u001b[0m Trial 1 finished with value: 0.6286640572338134 and parameters: {'colsample_bytree': 0.9, 'subsample': 0.5, 'learning_rate': 0.014, 'n_estimators': 871, 'max_depth': 9, 'min_child_weight': 101}. Best is trial 1 with value: 0.6286640572338134.\u001b[0m\n",
      "\u001b[32m[I 2021-10-18 19:30:20,882]\u001b[0m Trial 2 finished with value: 0.6312470400393627 and parameters: {'colsample_bytree': 0.7, 'subsample': 0.6, 'learning_rate': 0.016, 'n_estimators': 924, 'max_depth': 8, 'min_child_weight': 110}. Best is trial 2 with value: 0.6312470400393627.\u001b[0m\n",
      "\u001b[32m[I 2021-10-18 19:30:24,287]\u001b[0m Trial 3 finished with value: 0.6297709143682374 and parameters: {'colsample_bytree': 1.0, 'subsample': 0.6, 'learning_rate': 0.009, 'n_estimators': 853, 'max_depth': 4, 'min_child_weight': 108}. Best is trial 2 with value: 0.6312470400393627.\u001b[0m\n",
      "\u001b[32m[I 2021-10-18 19:30:26,854]\u001b[0m Trial 4 finished with value: 0.6252039505127868 and parameters: {'colsample_bytree': 0.8, 'subsample': 0.7, 'learning_rate': 0.02, 'n_estimators': 983, 'max_depth': 3, 'min_child_weight': 225}. Best is trial 2 with value: 0.6312470400393627.\u001b[0m\n",
      "\u001b[32m[I 2021-10-18 19:30:29,768]\u001b[0m Trial 5 finished with value: 0.6234861706842268 and parameters: {'colsample_bytree': 1.0, 'subsample': 0.7, 'learning_rate': 0.009, 'n_estimators': 955, 'max_depth': 6, 'min_child_weight': 228}. Best is trial 2 with value: 0.6312470400393627.\u001b[0m\n",
      "\u001b[32m[I 2021-10-18 19:30:30,214]\u001b[0m Trial 6 finished with value: 0.6229638884188383 and parameters: {'colsample_bytree': 0.7, 'subsample': 0.4, 'learning_rate': 0.02, 'n_estimators': 158, 'max_depth': 2, 'min_child_weight': 119}. Best is trial 2 with value: 0.6312470400393627.\u001b[0m\n",
      "\u001b[32m[I 2021-10-18 19:30:31,320]\u001b[0m Trial 7 finished with value: 0.6279853915717167 and parameters: {'colsample_bytree': 0.4, 'subsample': 0.7, 'learning_rate': 0.008, 'n_estimators': 371, 'max_depth': 6, 'min_child_weight': 100}. Best is trial 2 with value: 0.6312470400393627.\u001b[0m\n",
      "\u001b[32m[I 2021-10-18 19:30:33,678]\u001b[0m Trial 8 finished with value: 0.6273155117409264 and parameters: {'colsample_bytree': 0.7, 'subsample': 0.7, 'learning_rate': 0.008, 'n_estimators': 745, 'max_depth': 8, 'min_child_weight': 167}. Best is trial 2 with value: 0.6312470400393627.\u001b[0m\n",
      "\u001b[32m[I 2021-10-18 19:30:35,737]\u001b[0m Trial 9 finished with value: 0.6251913578114799 and parameters: {'colsample_bytree': 0.5, 'subsample': 0.7, 'learning_rate': 0.009, 'n_estimators': 789, 'max_depth': 5, 'min_child_weight': 202}. Best is trial 2 with value: 0.6312470400393627.\u001b[0m\n",
      "\u001b[32m[I 2021-10-18 19:30:37,871]\u001b[0m Trial 10 finished with value: 0.6274244355261228 and parameters: {'colsample_bytree': 0.3, 'subsample': 1.0, 'learning_rate': 0.016, 'n_estimators': 605, 'max_depth': 8, 'min_child_weight': 5}. Best is trial 2 with value: 0.6312470400393627.\u001b[0m\n",
      "\u001b[32m[I 2021-10-18 19:30:41,205]\u001b[0m Trial 11 finished with value: 0.6315452896998189 and parameters: {'colsample_bytree': 1.0, 'subsample': 0.6, 'learning_rate': 0.012, 'n_estimators': 729, 'max_depth': 4, 'min_child_weight': 35}. Best is trial 11 with value: 0.6315452896998189.\u001b[0m\n",
      "\u001b[32m[I 2021-10-18 19:30:43,526]\u001b[0m Trial 12 finished with value: 0.6307520196413477 and parameters: {'colsample_bytree': 0.6, 'subsample': 0.6, 'learning_rate': 0.012, 'n_estimators': 653, 'max_depth': 4, 'min_child_weight': 28}. Best is trial 11 with value: 0.6315452896998189.\u001b[0m\n",
      "\u001b[32m[I 2021-10-18 19:30:44,787]\u001b[0m Trial 13 finished with value: 0.6161136035652953 and parameters: {'colsample_bytree': 0.7, 'subsample': 0.6, 'learning_rate': 0.018, 'n_estimators': 482, 'max_depth': 7, 'min_child_weight': 287}. Best is trial 11 with value: 0.6315452896998189.\u001b[0m\n",
      "\u001b[32m[I 2021-10-18 19:30:46,453]\u001b[0m Trial 14 finished with value: 0.630238467690315 and parameters: {'colsample_bytree': 1.0, 'subsample': 0.6, 'learning_rate': 0.016, 'n_estimators': 700, 'max_depth': 1, 'min_child_weight': 60}. Best is trial 11 with value: 0.6315452896998189.\u001b[0m\n",
      "\u001b[32m[I 2021-10-18 19:30:50,452]\u001b[0m Trial 15 finished with value: 0.6308957589789768 and parameters: {'colsample_bytree': 0.9, 'subsample': 0.6, 'learning_rate': 0.012, 'n_estimators': 866, 'max_depth': 8, 'min_child_weight': 61}. Best is trial 11 with value: 0.6315452896998189.\u001b[0m\n",
      "\u001b[32m[I 2021-10-18 19:30:52,146]\u001b[0m Trial 16 finished with value: 0.6320737445190493 and parameters: {'colsample_bytree': 0.5, 'subsample': 1.0, 'learning_rate': 0.012, 'n_estimators': 534, 'max_depth': 4, 'min_child_weight': 56}. Best is trial 16 with value: 0.6320737445190493.\u001b[0m\n",
      "\u001b[32m[I 2021-10-18 19:30:53,773]\u001b[0m Trial 17 finished with value: 0.631517811062512 and parameters: {'colsample_bytree': 0.5, 'subsample': 1.0, 'learning_rate': 0.012, 'n_estimators': 510, 'max_depth': 4, 'min_child_weight': 52}. Best is trial 16 with value: 0.6320737445190493.\u001b[0m\n",
      "\u001b[32m[I 2021-10-18 19:30:54,807]\u001b[0m Trial 18 finished with value: 0.6307054258015458 and parameters: {'colsample_bytree': 0.5, 'subsample': 1.0, 'learning_rate': 0.012, 'n_estimators': 312, 'max_depth': 4, 'min_child_weight': 6}. Best is trial 16 with value: 0.6320737445190493.\u001b[0m\n",
      "\u001b[32m[I 2021-10-18 19:30:57,119]\u001b[0m Trial 19 finished with value: 0.6303331631982194 and parameters: {'colsample_bytree': 0.8, 'subsample': 0.8, 'learning_rate': 0.012, 'n_estimators': 582, 'max_depth': 4, 'min_child_weight': 40}. Best is trial 16 with value: 0.6320737445190493.\u001b[0m\n",
      "\u001b[32m[I 2021-10-18 19:30:58,599]\u001b[0m Trial 20 finished with value: 0.6307291035186094 and parameters: {'colsample_bytree': 0.6, 'subsample': 0.4, 'learning_rate': 0.01, 'n_estimators': 470, 'max_depth': 9, 'min_child_weight': 65}. Best is trial 16 with value: 0.6320737445190493.\u001b[0m\n",
      "\u001b[32m[I 2021-10-18 19:31:00,252]\u001b[0m Trial 21 finished with value: 0.6309399054207233 and parameters: {'colsample_bytree': 0.5, 'subsample': 1.0, 'learning_rate': 0.012, 'n_estimators': 512, 'max_depth': 4, 'min_child_weight': 37}. Best is trial 16 with value: 0.6320737445190493.\u001b[0m\n",
      "\u001b[32m[I 2021-10-18 19:31:00,966]\u001b[0m Trial 22 finished with value: 0.6256082071818123 and parameters: {'colsample_bytree': 0.5, 'subsample': 1.0, 'learning_rate': 0.012, 'n_estimators': 210, 'max_depth': 4, 'min_child_weight': 74}. Best is trial 16 with value: 0.6320737445190493.\u001b[0m\n",
      "\u001b[32m[I 2021-10-18 19:31:03,021]\u001b[0m Trial 23 finished with value: 0.62727688766832 and parameters: {'colsample_bytree': 0.5, 'subsample': 1.0, 'learning_rate': 0.012, 'n_estimators': 645, 'max_depth': 4, 'min_child_weight': 27}. Best is trial 16 with value: 0.6320737445190493.\u001b[0m\n",
      "\u001b[32m[I 2021-10-18 19:31:04,417]\u001b[0m Trial 24 finished with value: 0.6328062250223011 and parameters: {'colsample_bytree': 0.3, 'subsample': 0.5, 'learning_rate': 0.018, 'n_estimators': 554, 'max_depth': 7, 'min_child_weight': 84}. Best is trial 24 with value: 0.6328062250223011.\u001b[0m\n",
      "\u001b[32m[I 2021-10-18 19:31:06,237]\u001b[0m Trial 25 finished with value: 0.6327329449857849 and parameters: {'colsample_bytree': 0.3, 'subsample': 0.5, 'learning_rate': 0.018, 'n_estimators': 717, 'max_depth': 7, 'min_child_weight': 82}. Best is trial 24 with value: 0.6328062250223011.\u001b[0m\n",
      "\u001b[32m[I 2021-10-18 19:31:07,269]\u001b[0m Trial 26 finished with value: 0.6344772861632898 and parameters: {'colsample_bytree': 0.3, 'subsample': 0.5, 'learning_rate': 0.018, 'n_estimators': 405, 'max_depth': 7, 'min_child_weight': 85}. Best is trial 26 with value: 0.6344772861632898.\u001b[0m\n",
      "\u001b[32m[I 2021-10-18 19:31:07,946]\u001b[0m Trial 27 finished with value: 0.6250906642738917 and parameters: {'colsample_bytree': 0.3, 'subsample': 0.5, 'learning_rate': 0.018, 'n_estimators': 284, 'max_depth': 7, 'min_child_weight': 134}. Best is trial 26 with value: 0.6344772861632898.\u001b[0m\n",
      "\u001b[32m[I 2021-10-18 19:31:08,964]\u001b[0m Trial 28 finished with value: 0.6349481029356361 and parameters: {'colsample_bytree': 0.3, 'subsample': 0.5, 'learning_rate': 0.018, 'n_estimators': 393, 'max_depth': 7, 'min_child_weight': 84}. Best is trial 28 with value: 0.6349481029356361.\u001b[0m\n",
      "\u001b[32m[I 2021-10-18 19:31:09,926]\u001b[0m Trial 29 finished with value: 0.6284995982024448 and parameters: {'colsample_bytree': 0.3, 'subsample': 0.5, 'learning_rate': 0.018, 'n_estimators': 424, 'max_depth': 7, 'min_child_weight': 163}. Best is trial 28 with value: 0.6349481029356361.\u001b[0m\n",
      "\u001b[32m[I 2021-10-18 19:31:10,822]\u001b[0m Trial 30 finished with value: 0.6316958274062391 and parameters: {'colsample_bytree': 0.3, 'subsample': 0.5, 'learning_rate': 0.018, 'n_estimators': 348, 'max_depth': 7, 'min_child_weight': 87}. Best is trial 28 with value: 0.6349481029356361.\u001b[0m\n",
      "\u001b[32m[I 2021-10-18 19:31:11,808]\u001b[0m Trial 31 finished with value: 0.6278967252419668 and parameters: {'colsample_bytree': 0.3, 'subsample': 0.5, 'learning_rate': 0.018, 'n_estimators': 418, 'max_depth': 7, 'min_child_weight': 129}. Best is trial 28 with value: 0.6349481029356361.\u001b[0m\n",
      "\u001b[32m[I 2021-10-18 19:31:12,400]\u001b[0m Trial 32 finished with value: 0.6281985407506113 and parameters: {'colsample_bytree': 0.3, 'subsample': 0.5, 'learning_rate': 0.018, 'n_estimators': 226, 'max_depth': 7, 'min_child_weight': 83}. Best is trial 28 with value: 0.6349481029356361.\u001b[0m\n",
      "\u001b[32m[I 2021-10-18 19:31:13,447]\u001b[0m Trial 33 finished with value: 0.6259897168669074 and parameters: {'colsample_bytree': 0.3, 'subsample': 0.5, 'learning_rate': 0.014, 'n_estimators': 447, 'max_depth': 7, 'min_child_weight': 138}. Best is trial 28 with value: 0.6349481029356361.\u001b[0m\n",
      "\u001b[32m[I 2021-10-18 19:31:14,886]\u001b[0m Trial 34 finished with value: 0.6330088669187819 and parameters: {'colsample_bytree': 0.3, 'subsample': 0.5, 'learning_rate': 0.018, 'n_estimators': 573, 'max_depth': 7, 'min_child_weight': 94}. Best is trial 28 with value: 0.6349481029356361.\u001b[0m\n",
      "\u001b[32m[I 2021-10-18 19:31:16,329]\u001b[0m Trial 35 finished with value: 0.6318925052007028 and parameters: {'colsample_bytree': 0.3, 'subsample': 0.5, 'learning_rate': 0.018, 'n_estimators': 580, 'max_depth': 3, 'min_child_weight': 96}. Best is trial 28 with value: 0.6349481029356361.\u001b[0m\n",
      "\u001b[32m[I 2021-10-18 19:31:17,402]\u001b[0m Trial 36 finished with value: 0.6289755518054331 and parameters: {'colsample_bytree': 0.4, 'subsample': 0.5, 'learning_rate': 0.018, 'n_estimators': 391, 'max_depth': 7, 'min_child_weight': 112}. Best is trial 28 with value: 0.6349481029356361.\u001b[0m\n",
      "\u001b[32m[I 2021-10-18 19:31:18,114]\u001b[0m Trial 37 finished with value: 0.6237737194214952 and parameters: {'colsample_bytree': 0.3, 'subsample': 0.8, 'learning_rate': 0.01, 'n_estimators': 298, 'max_depth': 2, 'min_child_weight': 175}. Best is trial 28 with value: 0.6349481029356361.\u001b[0m\n",
      "\u001b[32m[I 2021-10-18 19:31:18,591]\u001b[0m Trial 38 finished with value: 0.6190421842911743 and parameters: {'colsample_bytree': 0.9, 'subsample': 0.5, 'learning_rate': 0.018, 'n_estimators': 107, 'max_depth': 5, 'min_child_weight': 153}. Best is trial 28 with value: 0.6349481029356361.\u001b[0m\n",
      "\u001b[32m[I 2021-10-18 19:31:20,124]\u001b[0m Trial 39 finished with value: 0.6264608834476308 and parameters: {'colsample_bytree': 0.3, 'subsample': 0.5, 'learning_rate': 0.02, 'n_estimators': 645, 'max_depth': 1, 'min_child_weight': 119}. Best is trial 28 with value: 0.6349481029356361.\u001b[0m\n",
      "\u001b[32m[I 2021-10-18 19:31:21,513]\u001b[0m Trial 40 finished with value: 0.6274389776395185 and parameters: {'colsample_bytree': 0.3, 'subsample': 0.4, 'learning_rate': 0.014, 'n_estimators': 546, 'max_depth': 9, 'min_child_weight': 101}. Best is trial 28 with value: 0.6349481029356361.\u001b[0m\n",
      "\u001b[32m[I 2021-10-18 19:31:23,711]\u001b[0m Trial 41 finished with value: 0.6309262084669192 and parameters: {'colsample_bytree': 0.3, 'subsample': 0.5, 'learning_rate': 0.018, 'n_estimators': 789, 'max_depth': 7, 'min_child_weight': 82}. Best is trial 28 with value: 0.6349481029356361.\u001b[0m\n",
      "\u001b[32m[I 2021-10-18 19:31:26,638]\u001b[0m Trial 42 finished with value: 0.6311023048619943 and parameters: {'colsample_bytree': 0.8, 'subsample': 0.5, 'learning_rate': 0.018, 'n_estimators': 695, 'max_depth': 7, 'min_child_weight': 77}. Best is trial 28 with value: 0.6349481029356361.\u001b[0m\n",
      "\u001b[32m[I 2021-10-18 19:31:27,641]\u001b[0m Trial 43 finished with value: 0.6298354771408098 and parameters: {'colsample_bytree': 0.3, 'subsample': 0.5, 'learning_rate': 0.018, 'n_estimators': 348, 'max_depth': 7, 'min_child_weight': 95}. Best is trial 28 with value: 0.6349481029356361.\u001b[0m\n",
      "\u001b[32m[I 2021-10-18 19:31:29,855]\u001b[0m Trial 44 finished with value: 0.6277005688459129 and parameters: {'colsample_bytree': 0.3, 'subsample': 0.5, 'learning_rate': 0.008, 'n_estimators': 803, 'max_depth': 6, 'min_child_weight': 116}. Best is trial 28 with value: 0.6349481029356361.\u001b[0m\n",
      "\u001b[32m[I 2021-10-18 19:31:31,674]\u001b[0m Trial 45 finished with value: 0.6319129459266081 and parameters: {'colsample_bytree': 0.3, 'subsample': 0.5, 'learning_rate': 0.009, 'n_estimators': 607, 'max_depth': 7, 'min_child_weight': 70}. Best is trial 28 with value: 0.6349481029356361.\u001b[0m\n",
      "\u001b[32m[I 2021-10-18 19:31:33,095]\u001b[0m Trial 46 finished with value: 0.6316024283579841 and parameters: {'colsample_bytree': 0.4, 'subsample': 0.8, 'learning_rate': 0.018, 'n_estimators': 497, 'max_depth': 3, 'min_child_weight': 48}. Best is trial 28 with value: 0.6349481029356361.\u001b[0m\n",
      "\u001b[32m[I 2021-10-18 19:31:34,383]\u001b[0m Trial 47 finished with value: 0.6093370667579264 and parameters: {'colsample_bytree': 0.7, 'subsample': 0.5, 'learning_rate': 0.018, 'n_estimators': 454, 'max_depth': 2, 'min_child_weight': 266}. Best is trial 28 with value: 0.6349481029356361.\u001b[0m\n",
      "\u001b[32m[I 2021-10-18 19:31:36,989]\u001b[0m Trial 48 finished with value: 0.6259704472756179 and parameters: {'colsample_bytree': 0.6, 'subsample': 0.7, 'learning_rate': 0.016, 'n_estimators': 904, 'max_depth': 7, 'min_child_weight': 193}. Best is trial 28 with value: 0.6349481029356361.\u001b[0m\n",
      "\u001b[32m[I 2021-10-18 19:31:40,382]\u001b[0m Trial 49 finished with value: 0.6227742746450659 and parameters: {'colsample_bytree': 1.0, 'subsample': 0.5, 'learning_rate': 0.02, 'n_estimators': 587, 'max_depth': 5, 'min_child_weight': 14}. Best is trial 28 with value: 0.6349481029356361.\u001b[0m\n"
     ]
    },
    {
     "name": "stdout",
     "output_type": "stream",
     "text": [
      "Number of finished trials: 50\n",
      "Best trial: {'colsample_bytree': 0.3, 'subsample': 0.5, 'learning_rate': 0.018, 'n_estimators': 393, 'max_depth': 7, 'min_child_weight': 84}\n"
     ]
    }
   ],
   "source": [
    "study = optuna.create_study(direction=\"maximize\")\n",
    "study.optimize(objective, n_trials=50)\n",
    "print(\"Number of finished trials:\", len(study.trials))\n",
    "print(\"Best trial:\", study.best_trial.params)"
   ]
  },
  {
   "cell_type": "code",
   "execution_count": 31,
   "metadata": {
    "id": "-SX7cQauyCD3"
   },
   "outputs": [],
   "source": [
    "model_name = \"XGBoost (all features)\"\n",
    "params = {}\n",
    "params[model_name] = study.best_params\n",
    "params[model_name][\"scale_pos_weight\"] = weight\n",
    "params[model_name][\"random_state\"] = 420\n",
    "model = xgb.XGBClassifier(**params[model_name])\n",
    "cv = model_selection.RepeatedStratifiedKFold(n_splits=3, n_repeats=2, random_state=420)"
   ]
  },
  {
   "cell_type": "code",
   "execution_count": 32,
   "metadata": {
    "colab": {
     "base_uri": "https://localhost:8080/"
    },
    "id": "I7JVM8Gg6Z4G",
    "outputId": "1467c90a-b9ef-4ebe-9294-15c92222e4c5"
   },
   "outputs": [
    {
     "name": "stdout",
     "output_type": "stream",
     "text": [
      "Mean roc_auc: 0.84\n",
      "Mean f1: 0.63\n",
      "Mean precision: 0.53\n",
      "Mean recall: 0.79\n"
     ]
    }
   ],
   "source": [
    "for score in [\"roc_auc\", \"f1\", \"precision\", \"recall\"]:\n",
    "    scores = model_selection.cross_val_score(\n",
    "        model, x_train, y_train, scoring=score, cv=cv, n_jobs=-1\n",
    "    )\n",
    "    print(f\"Mean {score}: {np.mean(scores):.2f}\")"
   ]
  },
  {
   "cell_type": "code",
   "execution_count": 33,
   "metadata": {
    "colab": {
     "base_uri": "https://localhost:8080/",
     "height": 405
    },
    "id": "y_LzN9Ot7CDu",
    "outputId": "36410308-a013-4a50-8846-49cc2f0c8288"
   },
   "outputs": [
    {
     "name": "stdout",
     "output_type": "stream",
     "text": [
      "Model performance on Test data\n",
      "-----------------------------------\n",
      "aoc: 0.85\n",
      "f1: 0.64\n",
      "precision: 0.52\n",
      "recall: 0.82\n"
     ]
    },
    {
     "data": {
      "image/png": "[encoded data removed]",
      "text/plain": [
       "<Figure size 432x288 with 2 Axes>"
      ]
     },
     "metadata": {
      "needs_background": "light"
     },
     "output_type": "display_data"
    }
   ],
   "source": [
    "model.fit(x_train, y_train)\n",
    "y_pred = model.predict(x_test)\n",
    "y_pred_proba = model.predict_proba(x_test)[:, 1]\n",
    "\n",
    "aoc = metrics.roc_auc_score(y_test, y_pred_proba)\n",
    "f1 = metrics.f1_score(y_test, y_pred)\n",
    "precision = metrics.precision_score(y_test, y_pred)\n",
    "recall = metrics.recall_score(y_test, y_pred)\n",
    "print(\"Model performance on Test data\")\n",
    "print(\"-\" * 35)\n",
    "print(f\"aoc: {aoc:.2}\")\n",
    "print(f\"f1: {f1:.2}\")\n",
    "print(f\"precision: {precision:.2}\")\n",
    "print(f\"recall: {recall:.2}\")\n",
    "\n",
    "import matplotlib.pyplot as plt\n",
    "import seaborn as sns\n",
    "\n",
    "sns.heatmap(\n",
    "    metrics.confusion_matrix(y_test, y_pred),\n",
    "    annot=True,\n",
    "    cmap=\"Blues\",\n",
    "    fmt=\"d\",\n",
    "    xticklabels=[\"No\", \"Yes\"],\n",
    "    yticklabels=[\"No\", \"Yes\"],\n",
    ")\n",
    "plt.xlabel(\"Predicted\")\n",
    "plt.ylabel(\"True\")\n",
    "plt.title(\"Confustion Matrix for test data\")\n",
    "plt.show()"
   ]
  },
  {
   "cell_type": "code",
   "execution_count": 34,
   "metadata": {
    "colab": {
     "base_uri": "https://localhost:8080/",
     "height": 81
    },
    "id": "xtGEf1HEgA_9",
    "outputId": "606dd825-f4eb-41e0-be44-719a46f4d89c"
   },
   "outputs": [
    {
     "data": {
      "text/html": [
       "<div>\n",
       "<style scoped>\n",
       "    .dataframe tbody tr th:only-of-type {\n",
       "        vertical-align: middle;\n",
       "    }\n",
       "\n",
       "    .dataframe tbody tr th {\n",
       "        vertical-align: top;\n",
       "    }\n",
       "\n",
       "    .dataframe thead th {\n",
       "        text-align: right;\n",
       "    }\n",
       "</style>\n",
       "<table border=\"1\" class=\"dataframe\">\n",
       "  <thead>\n",
       "    <tr style=\"text-align: right;\">\n",
       "      <th></th>\n",
       "      <th>Model</th>\n",
       "      <th>test auc</th>\n",
       "      <th>test f1</th>\n",
       "      <th>test precision</th>\n",
       "      <th>test recall</th>\n",
       "    </tr>\n",
       "  </thead>\n",
       "  <tbody>\n",
       "    <tr>\n",
       "      <th>0</th>\n",
       "      <td>XGBoost (all features)</td>\n",
       "      <td>0.850218</td>\n",
       "      <td>0.636269</td>\n",
       "      <td>0.519459</td>\n",
       "      <td>0.820856</td>\n",
       "    </tr>\n",
       "  </tbody>\n",
       "</table>\n",
       "</div>"
      ],
      "text/plain": [
       "                    Model  test auc   test f1  test precision  test recall\n",
       "0  XGBoost (all features)  0.850218  0.636269        0.519459     0.820856"
      ]
     },
     "execution_count": 34,
     "metadata": {},
     "output_type": "execute_result"
    }
   ],
   "source": [
    "model_perf = pd.DataFrame(\n",
    "    columns=[\"Model\", \"test auc\", \"test f1\", \"test precision\", \"test recall\"]\n",
    ")\n",
    "\n",
    "model_perf = model_perf.append(\n",
    "    dict(zip(model_perf.columns, [model_name, aoc, f1, precision, recall])),\n",
    "    ignore_index=True,\n",
    ")\n",
    "model_perf"
   ]
  },
  {
   "cell_type": "markdown",
   "metadata": {
    "id": "T0jiB2BtCDCK"
   },
   "source": [
    "# Model inferencing using SHAP"
   ]
  },
  {
   "cell_type": "code",
   "execution_count": 14,
   "metadata": {
    "id": "WwV1LClrHPqJ"
   },
   "outputs": [],
   "source": [
    "import shap"
   ]
  },
  {
   "cell_type": "code",
   "execution_count": 36,
   "metadata": {
    "id": "c8rYKRrXHQqS"
   },
   "outputs": [],
   "source": [
    "# explain the model's predictions using SHAP\n",
    "explainer = shap.Explainer(model)\n",
    "shap_values = explainer(x_train)"
   ]
  },
  {
   "cell_type": "code",
   "execution_count": 37,
   "metadata": {
    "colab": {
     "base_uri": "https://localhost:8080/",
     "height": 418
    },
    "id": "iRxoBEwzHY_q",
    "outputId": "df15c9e7-79e8-44ae-cd01-5e49855c0eb2"
   },
   "outputs": [
    {
     "data": {
      "image/png": "[encoded data removed]",
      "text/plain": [
       "<Figure size 576x468 with 1 Axes>"
      ]
     },
     "metadata": {},
     "output_type": "display_data"
    }
   ],
   "source": [
    "shap.plots.bar(shap_values)"
   ]
  },
  {
   "cell_type": "code",
   "execution_count": 38,
   "metadata": {
    "colab": {
     "base_uri": "https://localhost:8080/"
    },
    "id": "AA-wTDLvHcWb",
    "outputId": "667a0dc7-4d4d-4e72-b8e1-03eb0c1667ae"
   },
   "outputs": [
    {
     "name": "stdout",
     "output_type": "stream",
     "text": [
      "No. of columns remove because of 0 mean Shapley Values: 16\n"
     ]
    }
   ],
   "source": [
    "# get top features with highest magnitude shap values\n",
    "mean_shap = np.abs(shap_values.values).mean(0)\n",
    "\n",
    "# getting those indices where mean shap values is greater than 0\n",
    "imp_feat = np.argwhere(mean_shap > 0)\n",
    "\n",
    "# getting those indices of mean_shap values descending\n",
    "vals_indice = np.argsort(mean_shap)[::-1]  # descending\n",
    "\n",
    "# the features with high magnitude\n",
    "top_feat = x_train.columns[[i for i in vals_indice if i in imp_feat]]\n",
    "x_train_new = x_train.loc[:, top_feat].copy()\n",
    "x_test_new = x_test.loc[:, top_feat].copy()\n",
    "\n",
    "print(f\"No. of columns remove because of 0 mean Shapley Values: {len(imp_feat)}\")"
   ]
  },
  {
   "cell_type": "code",
   "execution_count": 39,
   "metadata": {
    "id": "vOGySxSjXAO4"
   },
   "outputs": [],
   "source": [
    "def objective(trial, data=x_train_new, target=y_train):\n",
    "    param = {\n",
    "        #'tree_method':'gpu_hist',  # this parameter means using the GPU when training our model to speedup the training process\n",
    "        \"colsample_bytree\": trial.suggest_categorical(\n",
    "            \"colsample_bytree\", [0.3, 0.4, 0.5, 0.6, 0.7, 0.8, 0.9, 1.0]\n",
    "        ),\n",
    "        \"subsample\": trial.suggest_categorical(\n",
    "            \"subsample\", [0.4, 0.5, 0.6, 0.7, 0.8, 1.0]\n",
    "        ),\n",
    "        \"learning_rate\": trial.suggest_categorical(\n",
    "            \"learning_rate\", [0.008, 0.009, 0.01, 0.012, 0.014, 0.016, 0.018, 0.02]\n",
    "        ),\n",
    "        \"n_estimators\": trial.suggest_int(\"n_estimators\", 100, 1000),\n",
    "        \"max_depth\": trial.suggest_categorical(\"max_depth\", [i + 1 for i in range(9)]),\n",
    "        \"random_state\": 420,\n",
    "        \"min_child_weight\": trial.suggest_int(\"min_child_weight\", 1, 300),\n",
    "        \"scale_pos_weight\": weight,\n",
    "    }\n",
    "    model = xgb.XGBClassifier(**param)\n",
    "\n",
    "    cv = model_selection.RepeatedStratifiedKFold(\n",
    "        n_splits=3, n_repeats=2, random_state=420\n",
    "    )\n",
    "\n",
    "    scores = model_selection.cross_val_score(\n",
    "        model, data, target, scoring=\"f1\", cv=cv, n_jobs=-1\n",
    "    )\n",
    "\n",
    "    return np.mean(scores)"
   ]
  },
  {
   "cell_type": "code",
   "execution_count": 40,
   "metadata": {
    "colab": {
     "base_uri": "https://localhost:8080/"
    },
    "id": "JEz_cZZ3T-S8",
    "outputId": "d9005fdd-0418-4bf7-985a-683fa1fcd1ac"
   },
   "outputs": [
    {
     "name": "stderr",
     "output_type": "stream",
     "text": [
      "\u001b[32m[I 2021-10-18 19:31:47,015]\u001b[0m A new study created in memory with name: no-name-5218544d-7849-4a04-9804-722f3b6f55b9\u001b[0m\n",
      "\u001b[32m[I 2021-10-18 19:31:48,115]\u001b[0m Trial 0 finished with value: 0.6257141699821362 and parameters: {'colsample_bytree': 0.8, 'subsample': 0.4, 'learning_rate': 0.016, 'n_estimators': 499, 'max_depth': 1, 'min_child_weight': 70}. Best is trial 0 with value: 0.6257141699821362.\u001b[0m\n",
      "\u001b[32m[I 2021-10-18 19:31:49,554]\u001b[0m Trial 1 finished with value: 0.6337095088539696 and parameters: {'colsample_bytree': 0.3, 'subsample': 0.8, 'learning_rate': 0.014, 'n_estimators': 547, 'max_depth': 5, 'min_child_weight': 113}. Best is trial 1 with value: 0.6337095088539696.\u001b[0m\n",
      "\u001b[32m[I 2021-10-18 19:31:50,201]\u001b[0m Trial 2 finished with value: 0.6280940095287819 and parameters: {'colsample_bytree': 0.8, 'subsample': 0.7, 'learning_rate': 0.016, 'n_estimators': 188, 'max_depth': 3, 'min_child_weight': 54}. Best is trial 1 with value: 0.6337095088539696.\u001b[0m\n",
      "\u001b[32m[I 2021-10-18 19:31:54,171]\u001b[0m Trial 3 finished with value: 0.6189592127116397 and parameters: {'colsample_bytree': 0.6, 'subsample': 0.4, 'learning_rate': 0.02, 'n_estimators': 888, 'max_depth': 9, 'min_child_weight': 14}. Best is trial 1 with value: 0.6337095088539696.\u001b[0m\n",
      "\u001b[32m[I 2021-10-18 19:31:55,870]\u001b[0m Trial 4 finished with value: 0.6306621457421827 and parameters: {'colsample_bytree': 0.3, 'subsample': 0.4, 'learning_rate': 0.018, 'n_estimators': 567, 'max_depth': 8, 'min_child_weight': 25}. Best is trial 1 with value: 0.6337095088539696.\u001b[0m\n",
      "\u001b[32m[I 2021-10-18 19:31:57,021]\u001b[0m Trial 5 finished with value: 0.588679142692276 and parameters: {'colsample_bytree': 0.5, 'subsample': 0.5, 'learning_rate': 0.014, 'n_estimators': 508, 'max_depth': 7, 'min_child_weight': 299}. Best is trial 1 with value: 0.6337095088539696.\u001b[0m\n",
      "\u001b[32m[I 2021-10-18 19:31:59,066]\u001b[0m Trial 6 finished with value: 0.6300763235030086 and parameters: {'colsample_bytree': 0.7, 'subsample': 0.4, 'learning_rate': 0.009, 'n_estimators': 667, 'max_depth': 3, 'min_child_weight': 79}. Best is trial 1 with value: 0.6337095088539696.\u001b[0m\n",
      "\u001b[32m[I 2021-10-18 19:32:00,322]\u001b[0m Trial 7 finished with value: 0.6288563274654753 and parameters: {'colsample_bytree': 0.5, 'subsample': 0.7, 'learning_rate': 0.014, 'n_estimators': 405, 'max_depth': 7, 'min_child_weight': 140}. Best is trial 1 with value: 0.6337095088539696.\u001b[0m\n",
      "\u001b[32m[I 2021-10-18 19:32:01,599]\u001b[0m Trial 8 finished with value: 0.6240806235829265 and parameters: {'colsample_bytree': 0.6, 'subsample': 0.5, 'learning_rate': 0.009, 'n_estimators': 501, 'max_depth': 8, 'min_child_weight': 213}. Best is trial 1 with value: 0.6337095088539696.\u001b[0m\n",
      "\u001b[32m[I 2021-10-18 19:32:04,108]\u001b[0m Trial 9 finished with value: 0.6244262164817306 and parameters: {'colsample_bytree': 1.0, 'subsample': 0.5, 'learning_rate': 0.01, 'n_estimators': 780, 'max_depth': 9, 'min_child_weight': 166}. Best is trial 1 with value: 0.6337095088539696.\u001b[0m\n",
      "\u001b[32m[I 2021-10-18 19:32:04,775]\u001b[0m Trial 10 finished with value: 0.6237098509168556 and parameters: {'colsample_bytree': 0.3, 'subsample': 0.8, 'learning_rate': 0.008, 'n_estimators': 241, 'max_depth': 5, 'min_child_weight': 122}. Best is trial 1 with value: 0.6337095088539696.\u001b[0m\n",
      "\u001b[32m[I 2021-10-18 19:32:06,625]\u001b[0m Trial 11 finished with value: 0.6307921000881934 and parameters: {'colsample_bytree': 0.3, 'subsample': 1.0, 'learning_rate': 0.018, 'n_estimators': 682, 'max_depth': 4, 'min_child_weight': 12}. Best is trial 1 with value: 0.6337095088539696.\u001b[0m\n",
      "\u001b[32m[I 2021-10-18 19:32:08,948]\u001b[0m Trial 12 finished with value: 0.6285791009173273 and parameters: {'colsample_bytree': 0.3, 'subsample': 1.0, 'learning_rate': 0.012, 'n_estimators': 986, 'max_depth': 4, 'min_child_weight': 197}. Best is trial 1 with value: 0.6337095088539696.\u001b[0m\n",
      "\u001b[32m[I 2021-10-18 19:32:11,029]\u001b[0m Trial 13 finished with value: 0.6306162081537737 and parameters: {'colsample_bytree': 0.9, 'subsample': 0.6, 'learning_rate': 0.018, 'n_estimators': 695, 'max_depth': 2, 'min_child_weight': 103}. Best is trial 1 with value: 0.6337095088539696.\u001b[0m\n",
      "\u001b[32m[I 2021-10-18 19:32:12,179]\u001b[0m Trial 14 finished with value: 0.6277644875866685 and parameters: {'colsample_bytree': 0.4, 'subsample': 1.0, 'learning_rate': 0.014, 'n_estimators': 331, 'max_depth': 5, 'min_child_weight': 2}. Best is trial 1 with value: 0.6337095088539696.\u001b[0m\n",
      "\u001b[32m[I 2021-10-18 19:32:13,681]\u001b[0m Trial 15 finished with value: 0.6253620513874989 and parameters: {'colsample_bytree': 0.3, 'subsample': 0.8, 'learning_rate': 0.018, 'n_estimators': 700, 'max_depth': 4, 'min_child_weight': 270}. Best is trial 1 with value: 0.6337095088539696.\u001b[0m\n",
      "\u001b[32m[I 2021-10-18 19:32:16,239]\u001b[0m Trial 16 finished with value: 0.6299338303992368 and parameters: {'colsample_bytree': 0.3, 'subsample': 1.0, 'learning_rate': 0.02, 'n_estimators': 842, 'max_depth': 6, 'min_child_weight': 43}. Best is trial 1 with value: 0.6337095088539696.\u001b[0m\n",
      "\u001b[32m[I 2021-10-18 19:32:18,896]\u001b[0m Trial 17 finished with value: 0.6326390002886753 and parameters: {'colsample_bytree': 0.9, 'subsample': 0.8, 'learning_rate': 0.012, 'n_estimators': 595, 'max_depth': 5, 'min_child_weight': 94}. Best is trial 1 with value: 0.6337095088539696.\u001b[0m\n",
      "\u001b[32m[I 2021-10-18 19:32:20,407]\u001b[0m Trial 18 finished with value: 0.6318390225378492 and parameters: {'colsample_bytree': 0.9, 'subsample': 0.8, 'learning_rate': 0.012, 'n_estimators': 340, 'max_depth': 5, 'min_child_weight': 100}. Best is trial 1 with value: 0.6337095088539696.\u001b[0m\n",
      "\u001b[32m[I 2021-10-18 19:32:22,583]\u001b[0m Trial 19 finished with value: 0.6306092671869395 and parameters: {'colsample_bytree': 0.9, 'subsample': 0.8, 'learning_rate': 0.012, 'n_estimators': 589, 'max_depth': 5, 'min_child_weight': 170}. Best is trial 1 with value: 0.6337095088539696.\u001b[0m\n",
      "\u001b[32m[I 2021-10-18 19:32:24,018]\u001b[0m Trial 20 finished with value: 0.6234279151371867 and parameters: {'colsample_bytree': 1.0, 'subsample': 0.8, 'learning_rate': 0.01, 'n_estimators': 402, 'max_depth': 5, 'min_child_weight': 235}. Best is trial 1 with value: 0.6337095088539696.\u001b[0m\n",
      "\u001b[32m[I 2021-10-18 19:32:25,581]\u001b[0m Trial 21 finished with value: 0.6324806238655696 and parameters: {'colsample_bytree': 0.9, 'subsample': 0.8, 'learning_rate': 0.012, 'n_estimators': 337, 'max_depth': 5, 'min_child_weight': 88}. Best is trial 1 with value: 0.6337095088539696.\u001b[0m\n",
      "\u001b[32m[I 2021-10-18 19:32:26,036]\u001b[0m Trial 22 finished with value: 0.6174706111609497 and parameters: {'colsample_bytree': 0.9, 'subsample': 0.8, 'learning_rate': 0.012, 'n_estimators': 103, 'max_depth': 5, 'min_child_weight': 124}. Best is trial 1 with value: 0.6337095088539696.\u001b[0m\n",
      "\u001b[32m[I 2021-10-18 19:32:27,995]\u001b[0m Trial 23 finished with value: 0.6332279703688439 and parameters: {'colsample_bytree': 0.9, 'subsample': 0.8, 'learning_rate': 0.012, 'n_estimators': 421, 'max_depth': 5, 'min_child_weight': 90}. Best is trial 1 with value: 0.6337095088539696.\u001b[0m\n",
      "\u001b[32m[I 2021-10-18 19:32:28,856]\u001b[0m Trial 24 finished with value: 0.6131313611476416 and parameters: {'colsample_bytree': 0.4, 'subsample': 0.6, 'learning_rate': 0.008, 'n_estimators': 410, 'max_depth': 1, 'min_child_weight': 146}. Best is trial 1 with value: 0.6337095088539696.\u001b[0m\n",
      "\u001b[32m[I 2021-10-18 19:32:31,236]\u001b[0m Trial 25 finished with value: 0.6310835768126087 and parameters: {'colsample_bytree': 0.7, 'subsample': 0.8, 'learning_rate': 0.014, 'n_estimators': 581, 'max_depth': 6, 'min_child_weight': 119}. Best is trial 1 with value: 0.6337095088539696.\u001b[0m\n",
      "\u001b[32m[I 2021-10-18 19:32:33,189]\u001b[0m Trial 26 finished with value: 0.6329084060029042 and parameters: {'colsample_bytree': 0.9, 'subsample': 0.8, 'learning_rate': 0.012, 'n_estimators': 621, 'max_depth': 2, 'min_child_weight': 60}. Best is trial 1 with value: 0.6337095088539696.\u001b[0m\n",
      "\u001b[32m[I 2021-10-18 19:32:34,511]\u001b[0m Trial 27 finished with value: 0.6294723240352624 and parameters: {'colsample_bytree': 0.9, 'subsample': 0.8, 'learning_rate': 0.012, 'n_estimators': 445, 'max_depth': 2, 'min_child_weight': 54}. Best is trial 1 with value: 0.6337095088539696.\u001b[0m\n",
      "\u001b[32m[I 2021-10-18 19:32:36,825]\u001b[0m Trial 28 finished with value: 0.6313742672679933 and parameters: {'colsample_bytree': 0.9, 'subsample': 0.8, 'learning_rate': 0.014, 'n_estimators': 764, 'max_depth': 2, 'min_child_weight': 39}. Best is trial 1 with value: 0.6337095088539696.\u001b[0m\n",
      "\u001b[32m[I 2021-10-18 19:32:37,937]\u001b[0m Trial 29 finished with value: 0.6238411135284764 and parameters: {'colsample_bytree': 0.8, 'subsample': 0.6, 'learning_rate': 0.016, 'n_estimators': 472, 'max_depth': 1, 'min_child_weight': 64}. Best is trial 1 with value: 0.6337095088539696.\u001b[0m\n",
      "\u001b[32m[I 2021-10-18 19:32:38,695]\u001b[0m Trial 30 finished with value: 0.6206462354662147 and parameters: {'colsample_bytree': 0.5, 'subsample': 0.7, 'learning_rate': 0.012, 'n_estimators': 256, 'max_depth': 2, 'min_child_weight': 69}. Best is trial 1 with value: 0.6337095088539696.\u001b[0m\n",
      "\u001b[32m[I 2021-10-18 19:32:41,548]\u001b[0m Trial 31 finished with value: 0.6323541305890491 and parameters: {'colsample_bytree': 0.9, 'subsample': 0.8, 'learning_rate': 0.012, 'n_estimators': 621, 'max_depth': 5, 'min_child_weight': 96}. Best is trial 1 with value: 0.6337095088539696.\u001b[0m\n",
      "\u001b[32m[I 2021-10-18 19:32:44,110]\u001b[0m Trial 32 finished with value: 0.6331201779584836 and parameters: {'colsample_bytree': 0.9, 'subsample': 0.8, 'learning_rate': 0.012, 'n_estimators': 534, 'max_depth': 5, 'min_child_weight': 79}. Best is trial 1 with value: 0.6337095088539696.\u001b[0m\n",
      "\u001b[32m[I 2021-10-18 19:32:45,975]\u001b[0m Trial 33 finished with value: 0.6345691949336831 and parameters: {'colsample_bytree': 0.8, 'subsample': 0.8, 'learning_rate': 0.016, 'n_estimators': 511, 'max_depth': 3, 'min_child_weight': 72}. Best is trial 33 with value: 0.6345691949336831.\u001b[0m\n",
      "\u001b[32m[I 2021-10-18 19:32:47,934]\u001b[0m Trial 34 finished with value: 0.6312467637100426 and parameters: {'colsample_bytree': 0.8, 'subsample': 0.8, 'learning_rate': 0.016, 'n_estimators': 507, 'max_depth': 3, 'min_child_weight': 31}. Best is trial 33 with value: 0.6345691949336831.\u001b[0m\n",
      "\u001b[32m[I 2021-10-18 19:32:49,531]\u001b[0m Trial 35 finished with value: 0.62545419621742 and parameters: {'colsample_bytree': 0.8, 'subsample': 0.4, 'learning_rate': 0.016, 'n_estimators': 532, 'max_depth': 3, 'min_child_weight': 115}. Best is trial 33 with value: 0.6345691949336831.\u001b[0m\n",
      "\u001b[32m[I 2021-10-18 19:32:51,254]\u001b[0m Trial 36 finished with value: 0.6324408688165531 and parameters: {'colsample_bytree': 0.8, 'subsample': 0.7, 'learning_rate': 0.016, 'n_estimators': 452, 'max_depth': 3, 'min_child_weight': 77}. Best is trial 33 with value: 0.6345691949336831.\u001b[0m\n",
      "\u001b[32m[I 2021-10-18 19:32:52,542]\u001b[0m Trial 37 finished with value: 0.6304620467418 and parameters: {'colsample_bytree': 0.6, 'subsample': 0.8, 'learning_rate': 0.02, 'n_estimators': 364, 'max_depth': 7, 'min_child_weight': 132}. Best is trial 33 with value: 0.6345691949336831.\u001b[0m\n",
      "\u001b[32m[I 2021-10-18 19:32:53,261]\u001b[0m Trial 38 finished with value: 0.6233029165084516 and parameters: {'colsample_bytree': 0.7, 'subsample': 0.4, 'learning_rate': 0.016, 'n_estimators': 264, 'max_depth': 8, 'min_child_weight': 155}. Best is trial 33 with value: 0.6345691949336831.\u001b[0m\n",
      "\u001b[32m[I 2021-10-18 19:32:55,329]\u001b[0m Trial 39 finished with value: 0.6312400935884273 and parameters: {'colsample_bytree': 0.8, 'subsample': 0.5, 'learning_rate': 0.009, 'n_estimators': 535, 'max_depth': 9, 'min_child_weight': 81}. Best is trial 33 with value: 0.6345691949336831.\u001b[0m\n",
      "\u001b[32m[I 2021-10-18 19:32:57,762]\u001b[0m Trial 40 finished with value: 0.6318147598273834 and parameters: {'colsample_bytree': 1.0, 'subsample': 0.8, 'learning_rate': 0.014, 'n_estimators': 636, 'max_depth': 3, 'min_child_weight': 107}. Best is trial 33 with value: 0.6345691949336831.\u001b[0m\n",
      "\u001b[32m[I 2021-10-18 19:32:59,948]\u001b[0m Trial 41 finished with value: 0.6334131959337043 and parameters: {'colsample_bytree': 0.9, 'subsample': 0.8, 'learning_rate': 0.012, 'n_estimators': 740, 'max_depth': 2, 'min_child_weight': 53}. Best is trial 33 with value: 0.6345691949336831.\u001b[0m\n",
      "\u001b[32m[I 2021-10-18 19:33:02,974]\u001b[0m Trial 42 finished with value: 0.6308750265574307 and parameters: {'colsample_bytree': 0.6, 'subsample': 0.8, 'learning_rate': 0.01, 'n_estimators': 746, 'max_depth': 5, 'min_child_weight': 50}. Best is trial 33 with value: 0.6345691949336831.\u001b[0m\n",
      "\u001b[32m[I 2021-10-18 19:33:05,468]\u001b[0m Trial 43 finished with value: 0.6333625085043739 and parameters: {'colsample_bytree': 0.4, 'subsample': 0.8, 'learning_rate': 0.008, 'n_estimators': 558, 'max_depth': 9, 'min_child_weight': 22}. Best is trial 33 with value: 0.6345691949336831.\u001b[0m\n",
      "\u001b[32m[I 2021-10-18 19:33:08,519]\u001b[0m Trial 44 finished with value: 0.6322661089201708 and parameters: {'colsample_bytree': 0.4, 'subsample': 0.5, 'learning_rate': 0.008, 'n_estimators': 825, 'max_depth': 9, 'min_child_weight': 29}. Best is trial 33 with value: 0.6345691949336831.\u001b[0m\n",
      "\u001b[32m[I 2021-10-18 19:33:12,721]\u001b[0m Trial 45 finished with value: 0.6312898551547147 and parameters: {'colsample_bytree': 0.4, 'subsample': 0.7, 'learning_rate': 0.008, 'n_estimators': 971, 'max_depth': 9, 'min_child_weight': 20}. Best is trial 33 with value: 0.6345691949336831.\u001b[0m\n",
      "\u001b[32m[I 2021-10-18 19:33:16,374]\u001b[0m Trial 46 finished with value: 0.6268716377713783 and parameters: {'colsample_bytree': 0.4, 'subsample': 0.8, 'learning_rate': 0.008, 'n_estimators': 731, 'max_depth': 9, 'min_child_weight': 7}. Best is trial 33 with value: 0.6345691949336831.\u001b[0m\n",
      "\u001b[32m[I 2021-10-18 19:33:19,297]\u001b[0m Trial 47 finished with value: 0.6305835602179547 and parameters: {'colsample_bytree': 0.3, 'subsample': 0.8, 'learning_rate': 0.009, 'n_estimators': 903, 'max_depth': 7, 'min_child_weight': 40}. Best is trial 33 with value: 0.6345691949336831.\u001b[0m\n",
      "\u001b[32m[I 2021-10-18 19:33:20,757]\u001b[0m Trial 48 finished with value: 0.6310597535994048 and parameters: {'colsample_bytree': 0.5, 'subsample': 0.4, 'learning_rate': 0.014, 'n_estimators': 480, 'max_depth': 8, 'min_child_weight': 65}. Best is trial 33 with value: 0.6345691949336831.\u001b[0m\n",
      "\u001b[32m[I 2021-10-18 19:33:22,970]\u001b[0m Trial 49 finished with value: 0.6313588451488883 and parameters: {'colsample_bytree': 0.3, 'subsample': 0.6, 'learning_rate': 0.008, 'n_estimators': 662, 'max_depth': 6, 'min_child_weight': 22}. Best is trial 33 with value: 0.6345691949336831.\u001b[0m\n"
     ]
    },
    {
     "name": "stdout",
     "output_type": "stream",
     "text": [
      "Number of finished trials: 50\n",
      "Best trial: {'colsample_bytree': 0.8, 'subsample': 0.8, 'learning_rate': 0.016, 'n_estimators': 511, 'max_depth': 3, 'min_child_weight': 72}\n"
     ]
    }
   ],
   "source": [
    "study = optuna.create_study(direction=\"maximize\")\n",
    "study.optimize(objective, n_trials=50)\n",
    "print(\"Number of finished trials:\", len(study.trials))\n",
    "print(\"Best trial:\", study.best_trial.params)"
   ]
  },
  {
   "cell_type": "code",
   "execution_count": 41,
   "metadata": {
    "id": "LEGJLH5ZX9J0"
   },
   "outputs": [],
   "source": [
    "model_name = \"XGBoost (top features)\"\n",
    "params[model_name] = study.best_params\n",
    "params[model_name][\"scale_pos_weight\"] = weight\n",
    "params[model_name][\"random_state\"] = 420\n",
    "model = xgb.XGBClassifier(**params[model_name])\n",
    "cv = model_selection.RepeatedStratifiedKFold(n_splits=3, n_repeats=2, random_state=420)"
   ]
  },
  {
   "cell_type": "code",
   "execution_count": 42,
   "metadata": {
    "colab": {
     "base_uri": "https://localhost:8080/"
    },
    "id": "ZCHqj9hBX9J2",
    "outputId": "ad0c903a-2ab1-4390-f0bd-03ade5f5f3d5"
   },
   "outputs": [
    {
     "name": "stdout",
     "output_type": "stream",
     "text": [
      "Mean roc_auc: 0.85\n",
      "Mean f1: 0.63\n",
      "Mean precision: 0.53\n",
      "Mean recall: 0.80\n"
     ]
    }
   ],
   "source": [
    "for score in [\"roc_auc\", \"f1\", \"precision\", \"recall\"]:\n",
    "    scores = model_selection.cross_val_score(\n",
    "        model, x_train_new, y_train, scoring=score, cv=cv, n_jobs=-1\n",
    "    )\n",
    "    print(f\"Mean {score}: {np.mean(scores):.2f}\")"
   ]
  },
  {
   "cell_type": "code",
   "execution_count": 43,
   "metadata": {
    "colab": {
     "base_uri": "https://localhost:8080/",
     "height": 405
    },
    "id": "vYOEw04UX9J3",
    "outputId": "a983056f-974b-493c-a5fc-8e07ac185c8f"
   },
   "outputs": [
    {
     "name": "stdout",
     "output_type": "stream",
     "text": [
      "Model performance on Test data\n",
      "-----------------------------------\n",
      "aoc: 0.85\n",
      "f1: 0.63\n",
      "precision: 0.51\n",
      "recall: 0.82\n"
     ]
    },
    {
     "data": {
      "image/png": "[encoded data removed]",
      "text/plain": [
       "<Figure size 432x288 with 2 Axes>"
      ]
     },
     "metadata": {
      "needs_background": "light"
     },
     "output_type": "display_data"
    }
   ],
   "source": [
    "model.fit(x_train_new, y_test)\n",
    "y_pred = model.predict(x_test_new)\n",
    "y_pred_proba = model.predict_proba(x_test_new)[:, 1]\n",
    "\n",
    "aoc = metrics.roc_auc_score(y_test, y_pred_proba)\n",
    "f1 = metrics.f1_score(y_test, y_pred)\n",
    "precision = metrics.precision_score(y_test, y_pred)\n",
    "recall = metrics.recall_score(y_test, y_pred)\n",
    "print(\"Model performance on Test data\")\n",
    "print(\"-\" * 35)\n",
    "print(f\"aoc: {aoc:.2}\")\n",
    "print(f\"f1: {f1:.2}\")\n",
    "print(f\"precision: {precision:.2}\")\n",
    "print(f\"recall: {recall:.2}\")\n",
    "\n",
    "import matplotlib.pyplot as plt\n",
    "import seaborn as sns\n",
    "\n",
    "sns.heatmap(\n",
    "    metrics.confusion_matrix(y_test, y_pred),\n",
    "    annot=True,\n",
    "    cmap=\"Blues\",\n",
    "    fmt=\"d\",\n",
    "    xticklabels=[\"No\", \"Yes\"],\n",
    "    yticklabels=[\"No\", \"Yes\"],\n",
    ")\n",
    "plt.xlabel(\"Predicted\")\n",
    "plt.ylabel(\"True\")\n",
    "plt.title(\"Confustion Matrix for test data\")\n",
    "plt.show()"
   ]
  },
  {
   "cell_type": "code",
   "execution_count": 44,
   "metadata": {
    "colab": {
     "base_uri": "https://localhost:8080/",
     "height": 112
    },
    "id": "v5PD_SXfcqrA",
    "outputId": "7d79c2ec-d23d-4227-ce7a-3c13537078b0"
   },
   "outputs": [
    {
     "data": {
      "text/html": [
       "<div>\n",
       "<style scoped>\n",
       "    .dataframe tbody tr th:only-of-type {\n",
       "        vertical-align: middle;\n",
       "    }\n",
       "\n",
       "    .dataframe tbody tr th {\n",
       "        vertical-align: top;\n",
       "    }\n",
       "\n",
       "    .dataframe thead th {\n",
       "        text-align: right;\n",
       "    }\n",
       "</style>\n",
       "<table border=\"1\" class=\"dataframe\">\n",
       "  <thead>\n",
       "    <tr style=\"text-align: right;\">\n",
       "      <th></th>\n",
       "      <th>Model</th>\n",
       "      <th>test auc</th>\n",
       "      <th>test f1</th>\n",
       "      <th>test precision</th>\n",
       "      <th>test recall</th>\n",
       "    </tr>\n",
       "  </thead>\n",
       "  <tbody>\n",
       "    <tr>\n",
       "      <th>0</th>\n",
       "      <td>XGBoost (all features)</td>\n",
       "      <td>0.850218</td>\n",
       "      <td>0.636269</td>\n",
       "      <td>0.519459</td>\n",
       "      <td>0.820856</td>\n",
       "    </tr>\n",
       "    <tr>\n",
       "      <th>1</th>\n",
       "      <td>XGBoost (top features)</td>\n",
       "      <td>0.851845</td>\n",
       "      <td>0.630165</td>\n",
       "      <td>0.513468</td>\n",
       "      <td>0.815508</td>\n",
       "    </tr>\n",
       "  </tbody>\n",
       "</table>\n",
       "</div>"
      ],
      "text/plain": [
       "                    Model  test auc   test f1  test precision  test recall\n",
       "0  XGBoost (all features)  0.850218  0.636269        0.519459     0.820856\n",
       "1  XGBoost (top features)  0.851845  0.630165        0.513468     0.815508"
      ]
     },
     "execution_count": 44,
     "metadata": {},
     "output_type": "execute_result"
    }
   ],
   "source": [
    "model_perf = model_perf.append(\n",
    "    dict(zip(model_perf.columns, [model_name, aoc, f1, precision, recall])),\n",
    "    ignore_index=True,\n",
    ")\n",
    "model_perf.sort_values(by=\"test f1\", ascending=False, inplace=True)\n",
    "model_perf"
   ]
  },
  {
   "cell_type": "code",
   "execution_count": 15,
   "metadata": {
    "id": "cH_0K9e1blq_"
   },
   "outputs": [],
   "source": [
    "# model = xgb.XGBClassifier(\n",
    "#     **params[model_perf[\"Model\"].values[0]] #first element has the highest test f1\n",
    "# )\n",
    "# if model_perf[\"Model\"].values[0] == \"XGBoost (top features)\":\n",
    "#     x_tr = x_train_new\n",
    "#     x_te = x_test_new\n",
    "# else:\n",
    "#     x_tr = x_train\n",
    "#     x_te = x_test\n",
    "# model.fit(x_tr,y_train)\n",
    "\n",
    "model = joblib.load(os.path.join(MAIN_FOLDER, \"model/best_model.pkl\"))\n",
    "model.fit(x_train, y_train)\n",
    "# explain the model's predictions using SHAP\n",
    "explainer = shap.Explainer(model)\n",
    "shap_values = explainer(x_train)"
   ]
  },
  {
   "cell_type": "code",
   "execution_count": 58,
   "metadata": {},
   "outputs": [
    {
     "data": {
      "text/plain": [
       "['../model/shap_explainer.pkl']"
      ]
     },
     "execution_count": 58,
     "metadata": {},
     "output_type": "execute_result"
    }
   ],
   "source": [
    "# save explainer for future use\n",
    "# joblib.dump(explainer, os.path.join(MAIN_FOLDER,'model/shap_explainer.pkl'))\n",
    "explainer = joblib.load(os.path.join(MAIN_FOLDER, \"model/shap_explainer.pkl\"))"
   ]
  },
  {
   "cell_type": "code",
   "execution_count": 53,
   "metadata": {
    "colab": {
     "base_uri": "https://localhost:8080/",
     "height": 411
    },
    "id": "Pd6f-rYebm-e",
    "outputId": "57cd7f15-7d63-4566-acfa-dcc70d53d502"
   },
   "outputs": [
    {
     "data": {
      "image/png": "[encoded data removed]",
      "text/plain": [
       "<Figure size 576x453.6 with 2 Axes>"
      ]
     },
     "metadata": {
      "needs_background": "light"
     },
     "output_type": "display_data"
    }
   ],
   "source": [
    "shap.summary_plot(shap_values, max_display=12)"
   ]
  },
  {
   "cell_type": "code",
   "execution_count": 54,
   "metadata": {
    "id": "-PV7ui2DZjRB"
   },
   "outputs": [],
   "source": [
    "# save the best model object to a file\n",
    "# with open(os.path.join(MAIN_FOLDER,'model/best_model.pkl'),'wb') as f:\n",
    "#     joblib.dump(model,f)"
   ]
  },
  {
   "cell_type": "markdown",
   "metadata": {
    "id": "eLrhpwXQEG68"
   },
   "source": [
    "# Model inferencing using SHAP (SHapley Additive exPlanations)\n",
    "\n",
    "Interesting inference observations from the above chart (Note: The feature importance are in descending order):\n",
    "*   Here `Contract` is the most important feature for the model and `Dependents` is the least important feature out of the shown features.\n",
    "*   Customer who were on `Month-to-Month` Contract are more likely to churn than those who were on `One Year` Contract and `Two Year` Contract.\n",
    "*   Also as the value for `tenure` increases, the probability of churn for a specific customer decreases. Most of the customers who churned were recently joined.\n",
    "*   People who did not opt for `OnlineSecurity` had a higher churn rate.\n",
    "*   People who were on `Fiber optic` connection were more likely to churn than others. The company should investigate the quality of the fiber optic service they offer.\n",
    "*   People who had high `MonthlyCharges` are more likely to churn.\n",
    "*   Customers who did not opt for `TechSupport` service had a higher churn rate.\n",
    "*   Customers who paid by `Electronic check` were more likely to churn than others (`Bank transfer (automatic)`, `Credit card (automatic)`,`Mailed check` )[`PaymentMethod` feature].\n",
    "*   Customers who had signed for `Online Security` service were less likely to churn than those who did not.\n",
    "*   People who had signed for `TechSupport` service were less likely to churn than those who did not."
   ]
  },
  {
   "cell_type": "code",
   "execution_count": 55,
   "metadata": {
    "colab": {
     "base_uri": "https://localhost:8080/"
    },
    "id": "_2Cz1Ij8b7pr",
    "outputId": "5be8ca77-68c8-4881-f2cc-50db549904e6"
   },
   "outputs": [
    {
     "data": {
      "text/plain": [
       "{'Partner': {'No': 0.33, 'Yes': 0.19, 'UNK': 0.5},\n",
       " 'Dependents': {'No': 0.31, 'Yes': 0.15, 'UNK': 0.5},\n",
       " 'MultipleLines': {'No': 0.25,\n",
       "  'Yes': 0.28,\n",
       "  'No phone service': 0.25,\n",
       "  'UNK': 0.5},\n",
       " 'InternetService': {'Fiber optic': 0.41, 'DSL': 0.19, 'No': 0.08, 'UNK': 0.5},\n",
       " 'OnlineSecurity': {'No': 0.42,\n",
       "  'No internet service': 0.08,\n",
       "  'Yes': 0.14,\n",
       "  'UNK': 0.5},\n",
       " 'OnlineBackup': {'Yes': 0.22,\n",
       "  'No': 0.39,\n",
       "  'No internet service': 0.08,\n",
       "  'UNK': 0.5},\n",
       " 'DeviceProtection': {'No': 0.39,\n",
       "  'Yes': 0.22,\n",
       "  'No internet service': 0.08,\n",
       "  'UNK': 0.5},\n",
       " 'TechSupport': {'No': 0.42,\n",
       "  'No internet service': 0.08,\n",
       "  'Yes': 0.15,\n",
       "  'UNK': 0.5},\n",
       " 'StreamingTV': {'No': 0.34,\n",
       "  'Yes': 0.3,\n",
       "  'No internet service': 0.08,\n",
       "  'UNK': 0.5},\n",
       " 'StreamingMovies': {'No': 0.34,\n",
       "  'No internet service': 0.08,\n",
       "  'Yes': 0.29,\n",
       "  'UNK': 0.5},\n",
       " 'Contract': {'Month-to-month': 0.43,\n",
       "  'One year': 0.11,\n",
       "  'Two year': 0.03,\n",
       "  'UNK': 0.5},\n",
       " 'PaperlessBilling': {'Yes': 0.34, 'No': 0.16, 'UNK': 0.5},\n",
       " 'PaymentMethod': {'Electronic check': 0.46,\n",
       "  'Mailed check': 0.19,\n",
       "  'Bank transfer (automatic)': 0.16,\n",
       "  'Credit card (automatic)': 0.15,\n",
       "  'UNK': 0.5}}"
      ]
     },
     "execution_count": 55,
     "metadata": {},
     "output_type": "execute_result"
    }
   ],
   "source": [
    "resp_enc.master_dict"
   ]
  },
  {
   "cell_type": "markdown",
   "metadata": {
    "id": "WGqKHxKXEG69"
   },
   "source": [
    "# Next Steps\n",
    "\n",
    "* Produce python scripts to ensure future training can be done smoothly and can be reproduced.\n",
    "* Create a web application to visualize the results and also predict the results."
   ]
  }
 ],
 "metadata": {
  "colab": {
   "collapsed_sections": [],
   "name": "2_preprocessing.ipynb",
   "provenance": []
  },
  "interpreter": {
   "hash": "c6e4e9f98eb68ad3b7c296f83d20e6de614cb42e90992a65aa266555a3137d0d"
  },
  "kernelspec": {
   "display_name": "Python 3.9.6 64-bit ('base': conda)",
   "name": "python3"
  },
  "language_info": {
   "codemirror_mode": {
    "name": "ipython",
    "version": 3
   },
   "file_extension": ".py",
   "mimetype": "text/x-python",
   "name": "python",
   "nbconvert_exporter": "python",
   "pygments_lexer": "ipython3",
   "version": "3.9.6"
  }
 },
 "nbformat": 4,
 "nbformat_minor": 0
}
