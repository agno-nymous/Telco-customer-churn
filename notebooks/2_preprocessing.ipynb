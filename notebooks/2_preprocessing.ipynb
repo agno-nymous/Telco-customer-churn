{
  "nbformat": 4,
  "nbformat_minor": 0,
  "metadata": {
    "interpreter": {
      "hash": "96e5d53265b94df340949bd6ef5afdc360b59f503fc29fdfbde1773c536f468a"
    },
    "kernelspec": {
      "name": "python3",
      "display_name": "Python 3.8.12 64-bit ('tensorflow': conda)"
    },
    "language_info": {
      "name": "python",
      "version": "3.8.12",
      "mimetype": "text/x-python",
      "codemirror_mode": {
        "name": "ipython",
        "version": 3
      },
      "pygments_lexer": "ipython3",
      "nbconvert_exporter": "python",
      "file_extension": ".py"
    },
    "colab": {
      "name": "2_preprocessing.ipynb",
      "provenance": [],
      "collapsed_sections": []
    }
  },
  "cells": [
    {
      "cell_type": "code",
      "metadata": {
        "id": "tMTjeSMrIf_J"
      },
      "source": [
        "import pandas as pd\n",
        "import numpy as np\n",
        "import matplotlib.pyplot as plt\n",
        "import seaborn as sns\n",
        "\n",
        "\n",
        "#import all models\n",
        "from sklearn.linear_model import LogisticRegression\n",
        "from sklearn.tree import DecisionTreeClassifier\n",
        "from sklearn.ensemble import RandomForestClassifier\n",
        "import sklearn.model_selection as model_selection\n",
        "import xgboost as xgb\n",
        "import lightgbm as lgb\n",
        "\n",
        "#import all metrics\n",
        "import sklearn.metrics as metrics\n",
        "\n",
        "import warnings\n",
        "warnings.filterwarnings('ignore')\n",
        "import os\n",
        "os.environ['KMP_DUPLICATE_LIB_OK']='True'"
      ],
      "execution_count": 2,
      "outputs": []
    },
    {
      "cell_type": "code",
      "metadata": {
        "colab": {
          "base_uri": "https://localhost:8080/"
        },
        "id": "IGAeCwPdIf_O",
        "outputId": "5cdbe87e-46f0-48b5-91a9-ac55d322d7d6"
      },
      "source": [
        "#read data\n",
        "train = pd.read_csv('./data/train.csv')\n",
        "test = pd.read_csv('./data/test.csv')\n",
        "\n",
        "train.shape, test.shape"
      ],
      "execution_count": 3,
      "outputs": [
        {
          "output_type": "execute_result",
          "data": {
            "text/plain": [
              "((5634, 17), (1409, 17))"
            ]
          },
          "metadata": {},
          "execution_count": 3
        }
      ]
    },
    {
      "cell_type": "code",
      "metadata": {
        "colab": {
          "base_uri": "https://localhost:8080/",
          "height": 313
        },
        "id": "0BAY0j_ZIf_P",
        "outputId": "e3b7d54f-ae1e-4bb0-fd62-5c48c7368379"
      },
      "source": [
        "train.head()"
      ],
      "execution_count": 4,
      "outputs": [
        {
          "output_type": "execute_result",
          "data": {
            "text/html": [
              "<div>\n",
              "<style scoped>\n",
              "    .dataframe tbody tr th:only-of-type {\n",
              "        vertical-align: middle;\n",
              "    }\n",
              "\n",
              "    .dataframe tbody tr th {\n",
              "        vertical-align: top;\n",
              "    }\n",
              "\n",
              "    .dataframe thead th {\n",
              "        text-align: right;\n",
              "    }\n",
              "</style>\n",
              "<table border=\"1\" class=\"dataframe\">\n",
              "  <thead>\n",
              "    <tr style=\"text-align: right;\">\n",
              "      <th></th>\n",
              "      <th>SeniorCitizen</th>\n",
              "      <th>Partner</th>\n",
              "      <th>Dependents</th>\n",
              "      <th>tenure</th>\n",
              "      <th>MultipleLines</th>\n",
              "      <th>InternetService</th>\n",
              "      <th>OnlineSecurity</th>\n",
              "      <th>OnlineBackup</th>\n",
              "      <th>DeviceProtection</th>\n",
              "      <th>TechSupport</th>\n",
              "      <th>StreamingTV</th>\n",
              "      <th>StreamingMovies</th>\n",
              "      <th>Contract</th>\n",
              "      <th>PaperlessBilling</th>\n",
              "      <th>PaymentMethod</th>\n",
              "      <th>MonthlyCharges</th>\n",
              "      <th>Churn</th>\n",
              "    </tr>\n",
              "  </thead>\n",
              "  <tbody>\n",
              "    <tr>\n",
              "      <th>0</th>\n",
              "      <td>0</td>\n",
              "      <td>Yes</td>\n",
              "      <td>Yes</td>\n",
              "      <td>43</td>\n",
              "      <td>No</td>\n",
              "      <td>DSL</td>\n",
              "      <td>No</td>\n",
              "      <td>Yes</td>\n",
              "      <td>No</td>\n",
              "      <td>No</td>\n",
              "      <td>No</td>\n",
              "      <td>No</td>\n",
              "      <td>Month-to-month</td>\n",
              "      <td>No</td>\n",
              "      <td>Mailed check</td>\n",
              "      <td>50.20</td>\n",
              "      <td>0</td>\n",
              "    </tr>\n",
              "    <tr>\n",
              "      <th>1</th>\n",
              "      <td>0</td>\n",
              "      <td>Yes</td>\n",
              "      <td>Yes</td>\n",
              "      <td>37</td>\n",
              "      <td>Yes</td>\n",
              "      <td>Fiber optic</td>\n",
              "      <td>No</td>\n",
              "      <td>Yes</td>\n",
              "      <td>Yes</td>\n",
              "      <td>No</td>\n",
              "      <td>No</td>\n",
              "      <td>Yes</td>\n",
              "      <td>Month-to-month</td>\n",
              "      <td>Yes</td>\n",
              "      <td>Electronic check</td>\n",
              "      <td>95.15</td>\n",
              "      <td>0</td>\n",
              "    </tr>\n",
              "    <tr>\n",
              "      <th>2</th>\n",
              "      <td>0</td>\n",
              "      <td>No</td>\n",
              "      <td>No</td>\n",
              "      <td>35</td>\n",
              "      <td>Yes</td>\n",
              "      <td>DSL</td>\n",
              "      <td>Yes</td>\n",
              "      <td>No</td>\n",
              "      <td>Yes</td>\n",
              "      <td>Yes</td>\n",
              "      <td>Yes</td>\n",
              "      <td>Yes</td>\n",
              "      <td>One year</td>\n",
              "      <td>Yes</td>\n",
              "      <td>Credit card (automatic)</td>\n",
              "      <td>85.95</td>\n",
              "      <td>1</td>\n",
              "    </tr>\n",
              "    <tr>\n",
              "      <th>3</th>\n",
              "      <td>0</td>\n",
              "      <td>Yes</td>\n",
              "      <td>No</td>\n",
              "      <td>69</td>\n",
              "      <td>No phone service</td>\n",
              "      <td>DSL</td>\n",
              "      <td>Yes</td>\n",
              "      <td>No</td>\n",
              "      <td>Yes</td>\n",
              "      <td>Yes</td>\n",
              "      <td>Yes</td>\n",
              "      <td>Yes</td>\n",
              "      <td>Two year</td>\n",
              "      <td>No</td>\n",
              "      <td>Bank transfer (automatic)</td>\n",
              "      <td>60.25</td>\n",
              "      <td>0</td>\n",
              "    </tr>\n",
              "    <tr>\n",
              "      <th>4</th>\n",
              "      <td>0</td>\n",
              "      <td>Yes</td>\n",
              "      <td>Yes</td>\n",
              "      <td>69</td>\n",
              "      <td>No</td>\n",
              "      <td>No</td>\n",
              "      <td>No internet service</td>\n",
              "      <td>No internet service</td>\n",
              "      <td>No internet service</td>\n",
              "      <td>No internet service</td>\n",
              "      <td>No internet service</td>\n",
              "      <td>No internet service</td>\n",
              "      <td>Two year</td>\n",
              "      <td>No</td>\n",
              "      <td>Bank transfer (automatic)</td>\n",
              "      <td>20.20</td>\n",
              "      <td>0</td>\n",
              "    </tr>\n",
              "  </tbody>\n",
              "</table>\n",
              "</div>"
            ],
            "text/plain": [
              "   SeniorCitizen Partner  ... MonthlyCharges  Churn\n",
              "0              0     Yes  ...          50.20      0\n",
              "1              0     Yes  ...          95.15      0\n",
              "2              0      No  ...          85.95      1\n",
              "3              0     Yes  ...          60.25      0\n",
              "4              0     Yes  ...          20.20      0\n",
              "\n",
              "[5 rows x 17 columns]"
            ]
          },
          "metadata": {},
          "execution_count": 4
        }
      ]
    },
    {
      "cell_type": "code",
      "metadata": {
        "colab": {
          "base_uri": "https://localhost:8080/"
        },
        "id": "2EevXoDfIf_Q",
        "outputId": "347c716b-d09a-435b-8ca1-fa51834894e7"
      },
      "source": [
        "train.info()"
      ],
      "execution_count": 5,
      "outputs": [
        {
          "output_type": "stream",
          "name": "stdout",
          "text": [
            "<class 'pandas.core.frame.DataFrame'>\n",
            "RangeIndex: 5634 entries, 0 to 5633\n",
            "Data columns (total 17 columns):\n",
            " #   Column            Non-Null Count  Dtype  \n",
            "---  ------            --------------  -----  \n",
            " 0   SeniorCitizen     5634 non-null   int64  \n",
            " 1   Partner           5634 non-null   object \n",
            " 2   Dependents        5634 non-null   object \n",
            " 3   tenure            5634 non-null   int64  \n",
            " 4   MultipleLines     5634 non-null   object \n",
            " 5   InternetService   5634 non-null   object \n",
            " 6   OnlineSecurity    5634 non-null   object \n",
            " 7   OnlineBackup      5634 non-null   object \n",
            " 8   DeviceProtection  5634 non-null   object \n",
            " 9   TechSupport       5634 non-null   object \n",
            " 10  StreamingTV       5634 non-null   object \n",
            " 11  StreamingMovies   5634 non-null   object \n",
            " 12  Contract          5634 non-null   object \n",
            " 13  PaperlessBilling  5634 non-null   object \n",
            " 14  PaymentMethod     5634 non-null   object \n",
            " 15  MonthlyCharges    5634 non-null   float64\n",
            " 16  Churn             5634 non-null   int64  \n",
            "dtypes: float64(1), int64(3), object(13)\n",
            "memory usage: 748.4+ KB\n"
          ]
        }
      ]
    },
    {
      "cell_type": "code",
      "metadata": {
        "id": "VldUAEmOIf_Q"
      },
      "source": [
        "get_obj_cols = [col for col in train.columns if train[col].dtype == 'object']\n",
        "get_int_cols = [col for col in train.columns if train[col].dtype != 'object']"
      ],
      "execution_count": 6,
      "outputs": []
    },
    {
      "cell_type": "markdown",
      "metadata": {
        "id": "1gir00G3If_Q"
      },
      "source": [
        "# Response Encoding\n",
        "\n",
        "[More info check this link](https://medium.com/@thewingedwolf.winterfell/response-coding-for-categorical-data-7bb8916c6dc1)"
      ]
    },
    {
      "cell_type": "code",
      "metadata": {
        "id": "xXw0zWCMIf_S"
      },
      "source": [
        "#create a class response_encoding which fit and transform the categorical columns\n",
        "\n",
        "class response_encoding:\n",
        "  \"\"\"\n",
        "  This function is used to fit and transform the dataframe in one go.\n",
        "  This is only made for binary classification problems.\n",
        "  \"\"\"\n",
        "  def __init__(self,cols,target = 'Churn',alpha = 0, target_value = 1):\n",
        "    \"\"\"\n",
        "    Parameters:\n",
        "    -----------\n",
        "    cols: list of categorical columns\n",
        "    target: the target column\n",
        "    alpha: the smoothing parameter\n",
        "    target_value: the target value\n",
        "    \"\"\"\n",
        "    self.cols = cols\n",
        "    self.master_dict = {} #storing the original values\n",
        "    self.alpha = alpha #smoothing parameter\n",
        "    self.target = target\n",
        "    self.target_value = 1\n",
        "    \n",
        "  def fit(self,df):\n",
        "    alpha = self.alpha\n",
        "    target = self.target\n",
        "    for column in self.cols:\n",
        "      unique_values = df[column].unique() #all unique values in that categorical column\n",
        "      dict_values = {} #storing the response encoding values for target=1\n",
        "      for value in unique_values:\n",
        "        total = len(df[df[column]==value]) #the total no. of datapoints with 'value' catgeory\n",
        "        sum_promoted = len(df[(df[column]==value) & (df[target]==self.target_value)]) #no. of all datapoints with category being 'value' and target=='yes'\n",
        "        dict_values[value] = np.round((sum_promoted+alpha)/(total+alpha*len(unique_values)),2) #storing the obtained result in a dictionary\n",
        "      dict_values['UNK']=0.5 #unknown categories that are not seen in train will be assigned a score of 0.5\n",
        "      self.master_dict[column] = dict_values.copy() #storing the original values in a dictionary\n",
        "    \n",
        "    return None\n",
        "    \n",
        "  def transform(self,df):\n",
        "    for column in self.cols:\n",
        "      df[column] = df[column].map(self.master_dict[column]) #map the values in the column to the dictionary\n",
        "    return df"
      ],
      "execution_count": 7,
      "outputs": []
    },
    {
      "cell_type": "code",
      "metadata": {
        "colab": {
          "base_uri": "https://localhost:8080/",
          "height": 226
        },
        "id": "F5YVzL9tIf_T",
        "outputId": "98b0d0f1-150c-435d-bad4-a0dc2a318748"
      },
      "source": [
        "#fit the response_encoding class to the train data\n",
        "resp_enc = response_encoding(cols=get_obj_cols,target='Churn',alpha=0.1)\n",
        "resp_enc.fit(train)\n",
        "\n",
        "train = resp_enc.transform(train)\n",
        "test = resp_enc.transform(test)\n",
        "\n",
        "train.head()"
      ],
      "execution_count": 8,
      "outputs": [
        {
          "output_type": "execute_result",
          "data": {
            "text/html": [
              "<div>\n",
              "<style scoped>\n",
              "    .dataframe tbody tr th:only-of-type {\n",
              "        vertical-align: middle;\n",
              "    }\n",
              "\n",
              "    .dataframe tbody tr th {\n",
              "        vertical-align: top;\n",
              "    }\n",
              "\n",
              "    .dataframe thead th {\n",
              "        text-align: right;\n",
              "    }\n",
              "</style>\n",
              "<table border=\"1\" class=\"dataframe\">\n",
              "  <thead>\n",
              "    <tr style=\"text-align: right;\">\n",
              "      <th></th>\n",
              "      <th>SeniorCitizen</th>\n",
              "      <th>Partner</th>\n",
              "      <th>Dependents</th>\n",
              "      <th>tenure</th>\n",
              "      <th>MultipleLines</th>\n",
              "      <th>InternetService</th>\n",
              "      <th>OnlineSecurity</th>\n",
              "      <th>OnlineBackup</th>\n",
              "      <th>DeviceProtection</th>\n",
              "      <th>TechSupport</th>\n",
              "      <th>StreamingTV</th>\n",
              "      <th>StreamingMovies</th>\n",
              "      <th>Contract</th>\n",
              "      <th>PaperlessBilling</th>\n",
              "      <th>PaymentMethod</th>\n",
              "      <th>MonthlyCharges</th>\n",
              "      <th>Churn</th>\n",
              "    </tr>\n",
              "  </thead>\n",
              "  <tbody>\n",
              "    <tr>\n",
              "      <th>0</th>\n",
              "      <td>0</td>\n",
              "      <td>0.20</td>\n",
              "      <td>0.15</td>\n",
              "      <td>43</td>\n",
              "      <td>0.25</td>\n",
              "      <td>0.19</td>\n",
              "      <td>0.41</td>\n",
              "      <td>0.22</td>\n",
              "      <td>0.39</td>\n",
              "      <td>0.41</td>\n",
              "      <td>0.34</td>\n",
              "      <td>0.33</td>\n",
              "      <td>0.43</td>\n",
              "      <td>0.17</td>\n",
              "      <td>0.19</td>\n",
              "      <td>50.20</td>\n",
              "      <td>0</td>\n",
              "    </tr>\n",
              "    <tr>\n",
              "      <th>1</th>\n",
              "      <td>0</td>\n",
              "      <td>0.20</td>\n",
              "      <td>0.15</td>\n",
              "      <td>37</td>\n",
              "      <td>0.29</td>\n",
              "      <td>0.42</td>\n",
              "      <td>0.41</td>\n",
              "      <td>0.22</td>\n",
              "      <td>0.23</td>\n",
              "      <td>0.41</td>\n",
              "      <td>0.34</td>\n",
              "      <td>0.31</td>\n",
              "      <td>0.43</td>\n",
              "      <td>0.33</td>\n",
              "      <td>0.46</td>\n",
              "      <td>95.15</td>\n",
              "      <td>0</td>\n",
              "    </tr>\n",
              "    <tr>\n",
              "      <th>2</th>\n",
              "      <td>0</td>\n",
              "      <td>0.33</td>\n",
              "      <td>0.31</td>\n",
              "      <td>35</td>\n",
              "      <td>0.29</td>\n",
              "      <td>0.19</td>\n",
              "      <td>0.15</td>\n",
              "      <td>0.40</td>\n",
              "      <td>0.23</td>\n",
              "      <td>0.16</td>\n",
              "      <td>0.30</td>\n",
              "      <td>0.31</td>\n",
              "      <td>0.11</td>\n",
              "      <td>0.33</td>\n",
              "      <td>0.15</td>\n",
              "      <td>85.95</td>\n",
              "      <td>1</td>\n",
              "    </tr>\n",
              "    <tr>\n",
              "      <th>3</th>\n",
              "      <td>0</td>\n",
              "      <td>0.20</td>\n",
              "      <td>0.31</td>\n",
              "      <td>69</td>\n",
              "      <td>0.26</td>\n",
              "      <td>0.19</td>\n",
              "      <td>0.15</td>\n",
              "      <td>0.40</td>\n",
              "      <td>0.23</td>\n",
              "      <td>0.16</td>\n",
              "      <td>0.30</td>\n",
              "      <td>0.31</td>\n",
              "      <td>0.03</td>\n",
              "      <td>0.17</td>\n",
              "      <td>0.17</td>\n",
              "      <td>60.25</td>\n",
              "      <td>0</td>\n",
              "    </tr>\n",
              "    <tr>\n",
              "      <th>4</th>\n",
              "      <td>0</td>\n",
              "      <td>0.20</td>\n",
              "      <td>0.15</td>\n",
              "      <td>69</td>\n",
              "      <td>0.25</td>\n",
              "      <td>0.07</td>\n",
              "      <td>0.07</td>\n",
              "      <td>0.07</td>\n",
              "      <td>0.07</td>\n",
              "      <td>0.07</td>\n",
              "      <td>0.07</td>\n",
              "      <td>0.07</td>\n",
              "      <td>0.03</td>\n",
              "      <td>0.17</td>\n",
              "      <td>0.17</td>\n",
              "      <td>20.20</td>\n",
              "      <td>0</td>\n",
              "    </tr>\n",
              "  </tbody>\n",
              "</table>\n",
              "</div>"
            ],
            "text/plain": [
              "   SeniorCitizen  Partner  Dependents  ...  PaymentMethod  MonthlyCharges  Churn\n",
              "0              0     0.20        0.15  ...           0.19           50.20      0\n",
              "1              0     0.20        0.15  ...           0.46           95.15      0\n",
              "2              0     0.33        0.31  ...           0.15           85.95      1\n",
              "3              0     0.20        0.31  ...           0.17           60.25      0\n",
              "4              0     0.20        0.15  ...           0.17           20.20      0\n",
              "\n",
              "[5 rows x 17 columns]"
            ]
          },
          "metadata": {},
          "execution_count": 8
        }
      ]
    },
    {
      "cell_type": "markdown",
      "metadata": {
        "id": "LbW2RuVLIf_T"
      },
      "source": [
        "# Modelling"
      ]
    },
    {
      "cell_type": "code",
      "metadata": {
        "id": "knHgl3-6If_U"
      },
      "source": [
        "#split the data into x and y\n",
        "x_train = train.drop(['Churn'],axis=1)\n",
        "y_train = train['Churn']\n",
        "\n",
        "x_test = test.drop(['Churn'],axis=1)\n",
        "y_test = test['Churn']"
      ],
      "execution_count": 9,
      "outputs": []
    },
    {
      "cell_type": "code",
      "metadata": {
        "id": "7i0GvvTYIf_U"
      },
      "source": [
        "#for xgboost\n",
        "#weight = no. of negative classes/no. of positive classes\n",
        "weight = (y_train == 0).sum()/(y_train == 1).sum() "
      ],
      "execution_count": 11,
      "outputs": []
    },
    {
      "cell_type": "code",
      "metadata": {
        "colab": {
          "base_uri": "https://localhost:8080/"
        },
        "id": "DzydSbFnIf_V",
        "outputId": "a77d687c-e68f-4ba8-e2d1-8c6c29badced"
      },
      "source": [
        "models = {\n",
        "    'Decision Tree': DecisionTreeClassifier(class_weight='balanced', random_state=420),\n",
        "    'Random Forest': RandomForestClassifier(class_weight='balanced_subsample',n_jobs = -1,\n",
        "                                            n_estimators=50, max_depth=10, random_state=420),  \n",
        "    'XGBoost': xgb.XGBClassifier(scale_pos_weight = weight,use_label_encoder=False,\n",
        "                                n_jobs = -1, random_state=420),\n",
        "    'LightGBM': lgb.LGBMClassifier(class_weight='balanced', n_jobs = -1, random_state=420)\n",
        "}\n",
        "\n",
        "cv = model_selection.RepeatedStratifiedKFold(n_splits=3, n_repeats=2, random_state=420)\n",
        "\n",
        "for model_name, model in models.items():\n",
        "    print(model_name)\n",
        "    for score in [\"roc_auc\", \"f1\", \"precision\", \"recall\"]:\n",
        "        scores = model_selection.cross_val_score(model, x_train, y_train, scoring=score, cv=cv, n_jobs=-1)\n",
        "        print(f\"Mean {score}: {np.mean(scores):.2f}\")\n",
        "    print('\\n')"
      ],
      "execution_count": 19,
      "outputs": [
        {
          "output_type": "stream",
          "name": "stdout",
          "text": [
            "Decision Tree\n",
            "Mean roc_auc: 0.65\n",
            "Mean f1: 0.48\n",
            "Mean precision: 0.48\n",
            "Mean recall: 0.48\n",
            "\n",
            "\n",
            "Random Forest\n",
            "Mean roc_auc: 0.83\n",
            "Mean f1: 0.61\n",
            "Mean precision: 0.57\n",
            "Mean recall: 0.67\n",
            "\n",
            "\n",
            "XGBoost\n",
            "Mean roc_auc: 0.84\n",
            "Mean f1: 0.63\n",
            "Mean precision: 0.52\n",
            "Mean recall: 0.80\n",
            "\n",
            "\n",
            "LightGBM\n",
            "Mean roc_auc: 0.82\n",
            "Mean f1: 0.60\n",
            "Mean precision: 0.52\n",
            "Mean recall: 0.71\n",
            "\n",
            "\n"
          ]
        }
      ]
    },
    {
      "cell_type": "markdown",
      "metadata": {
        "id": "CbUWE5ydj3rC"
      },
      "source": [
        "The best model is found to be XGBoost which had the large scores in both roc-auc, f1, precision and recall.\n",
        "\n",
        "# Next Steps\n",
        "\n",
        "* Hyperparameter tune the XGBoost model and validate it on test data\n",
        "* Study feature importance using Shapley values\n",
        "* Build python scripts to ensure future training can be done smoothly and can be reproduced"
      ]
    }
  ]
}