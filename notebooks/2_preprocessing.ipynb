{
  "nbformat": 4,
  "nbformat_minor": 0,
  "metadata": {
    "colab": {
      "name": "2_preprocessing.ipynb",
      "provenance": [],
      "collapsed_sections": []
    },
    "interpreter": {
      "hash": "58d33a3694048506498f23902903bff2638c7db08e3f59af12fce293e1170000"
    },
    "kernelspec": {
      "display_name": "Python 3.8.12 64-bit ('operation': conda)",
      "name": "python3"
    },
    "language_info": {
      "codemirror_mode": {
        "name": "ipython",
        "version": 3
      },
      "file_extension": ".py",
      "mimetype": "text/x-python",
      "name": "python",
      "nbconvert_exporter": "python",
      "pygments_lexer": "ipython3",
      "version": "3.8.12"
    }
  },
  "cells": [
    {
      "cell_type": "code",
      "metadata": {
        "id": "IjQ4ZitSRukF"
      },
      "source": [
        "MAIN_FOLDER = '.'"
      ],
      "execution_count": 1,
      "outputs": []
    },
    {
      "cell_type": "code",
      "metadata": {
        "id": "tMTjeSMrIf_J"
      },
      "source": [
        "import pandas as pd\n",
        "import numpy as np\n",
        "import joblib\n",
        "import os\n",
        "\n",
        "\n",
        "#import all models\n",
        "from sklearn.linear_model import LogisticRegression\n",
        "from sklearn.tree import DecisionTreeClassifier\n",
        "from sklearn.ensemble import RandomForestClassifier\n",
        "import sklearn.model_selection as model_selection\n",
        "import xgboost as xgb\n",
        "import lightgbm as lgb\n",
        "\n",
        "#import all metrics\n",
        "import sklearn.metrics as metrics\n",
        "\n",
        "import warnings\n",
        "warnings.filterwarnings('ignore')\n",
        "import os\n",
        "os.environ['KMP_DUPLICATE_LIB_OK']='True'"
      ],
      "execution_count": 2,
      "outputs": []
    },
    {
      "cell_type": "code",
      "metadata": {
        "colab": {
          "base_uri": "https://localhost:8080/"
        },
        "id": "IGAeCwPdIf_O",
        "outputId": "a020dc2b-f6d8-42ef-8270-fcf6e3bc7c3b"
      },
      "source": [
        "\n",
        "#read data\n",
        "train = pd.read_csv(os.path.join(MAIN_FOLDER,\"data/train.csv\"))\n",
        "test = pd.read_csv(os.path.join(MAIN_FOLDER,\"data/train.csv\"))\n",
        "\n",
        "train.shape, test.shape"
      ],
      "execution_count": 3,
      "outputs": [
        {
          "output_type": "execute_result",
          "data": {
            "text/plain": [
              "((5634, 17), (5634, 17))"
            ]
          },
          "metadata": {},
          "execution_count": 3
        }
      ]
    },
    {
      "cell_type": "code",
      "metadata": {
        "colab": {
          "base_uri": "https://localhost:8080/",
          "height": 313
        },
        "id": "0BAY0j_ZIf_P",
        "outputId": "ffb2c605-ce9b-43b1-aa80-78e4e52d4c00"
      },
      "source": [
        "train.head()"
      ],
      "execution_count": 4,
      "outputs": [
        {
          "output_type": "execute_result",
          "data": {
            "text/html": [
              "<div>\n",
              "<style scoped>\n",
              "    .dataframe tbody tr th:only-of-type {\n",
              "        vertical-align: middle;\n",
              "    }\n",
              "\n",
              "    .dataframe tbody tr th {\n",
              "        vertical-align: top;\n",
              "    }\n",
              "\n",
              "    .dataframe thead th {\n",
              "        text-align: right;\n",
              "    }\n",
              "</style>\n",
              "<table border=\"1\" class=\"dataframe\">\n",
              "  <thead>\n",
              "    <tr style=\"text-align: right;\">\n",
              "      <th></th>\n",
              "      <th>SeniorCitizen</th>\n",
              "      <th>Partner</th>\n",
              "      <th>Dependents</th>\n",
              "      <th>tenure</th>\n",
              "      <th>MultipleLines</th>\n",
              "      <th>InternetService</th>\n",
              "      <th>OnlineSecurity</th>\n",
              "      <th>OnlineBackup</th>\n",
              "      <th>DeviceProtection</th>\n",
              "      <th>TechSupport</th>\n",
              "      <th>StreamingTV</th>\n",
              "      <th>StreamingMovies</th>\n",
              "      <th>Contract</th>\n",
              "      <th>PaperlessBilling</th>\n",
              "      <th>PaymentMethod</th>\n",
              "      <th>MonthlyCharges</th>\n",
              "      <th>Churn</th>\n",
              "    </tr>\n",
              "  </thead>\n",
              "  <tbody>\n",
              "    <tr>\n",
              "      <th>0</th>\n",
              "      <td>0</td>\n",
              "      <td>Yes</td>\n",
              "      <td>Yes</td>\n",
              "      <td>43</td>\n",
              "      <td>No</td>\n",
              "      <td>DSL</td>\n",
              "      <td>No</td>\n",
              "      <td>Yes</td>\n",
              "      <td>No</td>\n",
              "      <td>No</td>\n",
              "      <td>No</td>\n",
              "      <td>No</td>\n",
              "      <td>Month-to-month</td>\n",
              "      <td>No</td>\n",
              "      <td>Mailed check</td>\n",
              "      <td>50.20</td>\n",
              "      <td>0</td>\n",
              "    </tr>\n",
              "    <tr>\n",
              "      <th>1</th>\n",
              "      <td>0</td>\n",
              "      <td>Yes</td>\n",
              "      <td>Yes</td>\n",
              "      <td>37</td>\n",
              "      <td>Yes</td>\n",
              "      <td>Fiber optic</td>\n",
              "      <td>No</td>\n",
              "      <td>Yes</td>\n",
              "      <td>Yes</td>\n",
              "      <td>No</td>\n",
              "      <td>No</td>\n",
              "      <td>Yes</td>\n",
              "      <td>Month-to-month</td>\n",
              "      <td>Yes</td>\n",
              "      <td>Electronic check</td>\n",
              "      <td>95.15</td>\n",
              "      <td>0</td>\n",
              "    </tr>\n",
              "    <tr>\n",
              "      <th>2</th>\n",
              "      <td>0</td>\n",
              "      <td>No</td>\n",
              "      <td>No</td>\n",
              "      <td>35</td>\n",
              "      <td>Yes</td>\n",
              "      <td>DSL</td>\n",
              "      <td>Yes</td>\n",
              "      <td>No</td>\n",
              "      <td>Yes</td>\n",
              "      <td>Yes</td>\n",
              "      <td>Yes</td>\n",
              "      <td>Yes</td>\n",
              "      <td>One year</td>\n",
              "      <td>Yes</td>\n",
              "      <td>Credit card (automatic)</td>\n",
              "      <td>85.95</td>\n",
              "      <td>1</td>\n",
              "    </tr>\n",
              "    <tr>\n",
              "      <th>3</th>\n",
              "      <td>0</td>\n",
              "      <td>Yes</td>\n",
              "      <td>No</td>\n",
              "      <td>69</td>\n",
              "      <td>No phone service</td>\n",
              "      <td>DSL</td>\n",
              "      <td>Yes</td>\n",
              "      <td>No</td>\n",
              "      <td>Yes</td>\n",
              "      <td>Yes</td>\n",
              "      <td>Yes</td>\n",
              "      <td>Yes</td>\n",
              "      <td>Two year</td>\n",
              "      <td>No</td>\n",
              "      <td>Bank transfer (automatic)</td>\n",
              "      <td>60.25</td>\n",
              "      <td>0</td>\n",
              "    </tr>\n",
              "    <tr>\n",
              "      <th>4</th>\n",
              "      <td>0</td>\n",
              "      <td>Yes</td>\n",
              "      <td>Yes</td>\n",
              "      <td>69</td>\n",
              "      <td>No</td>\n",
              "      <td>No</td>\n",
              "      <td>No internet service</td>\n",
              "      <td>No internet service</td>\n",
              "      <td>No internet service</td>\n",
              "      <td>No internet service</td>\n",
              "      <td>No internet service</td>\n",
              "      <td>No internet service</td>\n",
              "      <td>Two year</td>\n",
              "      <td>No</td>\n",
              "      <td>Bank transfer (automatic)</td>\n",
              "      <td>20.20</td>\n",
              "      <td>0</td>\n",
              "    </tr>\n",
              "  </tbody>\n",
              "</table>\n",
              "</div>"
            ],
            "text/plain": [
              "   SeniorCitizen Partner  ... MonthlyCharges  Churn\n",
              "0              0     Yes  ...          50.20      0\n",
              "1              0     Yes  ...          95.15      0\n",
              "2              0      No  ...          85.95      1\n",
              "3              0     Yes  ...          60.25      0\n",
              "4              0     Yes  ...          20.20      0\n",
              "\n",
              "[5 rows x 17 columns]"
            ]
          },
          "metadata": {},
          "execution_count": 4
        }
      ]
    },
    {
      "cell_type": "code",
      "metadata": {
        "colab": {
          "base_uri": "https://localhost:8080/"
        },
        "id": "2EevXoDfIf_Q",
        "outputId": "927b39d0-c5e7-4fc5-fdad-f4f6fe4417f5"
      },
      "source": [
        "train.info()"
      ],
      "execution_count": 5,
      "outputs": [
        {
          "output_type": "stream",
          "name": "stdout",
          "text": [
            "<class 'pandas.core.frame.DataFrame'>\n",
            "RangeIndex: 5634 entries, 0 to 5633\n",
            "Data columns (total 17 columns):\n",
            " #   Column            Non-Null Count  Dtype  \n",
            "---  ------            --------------  -----  \n",
            " 0   SeniorCitizen     5634 non-null   int64  \n",
            " 1   Partner           5634 non-null   object \n",
            " 2   Dependents        5634 non-null   object \n",
            " 3   tenure            5634 non-null   int64  \n",
            " 4   MultipleLines     5634 non-null   object \n",
            " 5   InternetService   5634 non-null   object \n",
            " 6   OnlineSecurity    5634 non-null   object \n",
            " 7   OnlineBackup      5634 non-null   object \n",
            " 8   DeviceProtection  5634 non-null   object \n",
            " 9   TechSupport       5634 non-null   object \n",
            " 10  StreamingTV       5634 non-null   object \n",
            " 11  StreamingMovies   5634 non-null   object \n",
            " 12  Contract          5634 non-null   object \n",
            " 13  PaperlessBilling  5634 non-null   object \n",
            " 14  PaymentMethod     5634 non-null   object \n",
            " 15  MonthlyCharges    5634 non-null   float64\n",
            " 16  Churn             5634 non-null   int64  \n",
            "dtypes: float64(1), int64(3), object(13)\n",
            "memory usage: 748.4+ KB\n"
          ]
        }
      ]
    },
    {
      "cell_type": "markdown",
      "metadata": {
        "id": "-UrLEDLdRn7f"
      },
      "source": [
        "Get those columns which are of object type and those columns which are of int type"
      ]
    },
    {
      "cell_type": "code",
      "metadata": {
        "id": "VldUAEmOIf_Q"
      },
      "source": [
        "get_obj_cols = [col for col in train.columns if train[col].dtype == 'object']\n",
        "get_int_cols = [col for col in train.columns if train[col].dtype != 'object']"
      ],
      "execution_count": 7,
      "outputs": []
    },
    {
      "cell_type": "markdown",
      "metadata": {
        "id": "1gir00G3If_Q"
      },
      "source": [
        "# Response Encoding\n",
        "\n",
        "[More info check this link](https://medium.com/@thewingedwolf.winterfell/response-coding-for-categorical-data-7bb8916c6dc1)"
      ]
    },
    {
      "cell_type": "markdown",
      "metadata": {
        "id": "V3COZZUTRn7h"
      },
      "source": [
        "We will response encode the categorical data instead of using one hot encoding the categorical data. The below is the code for that."
      ]
    },
    {
      "cell_type": "code",
      "metadata": {
        "id": "xXw0zWCMIf_S"
      },
      "source": [
        "#create a class response_encoding which fit and transform the categorical columns\n",
        "\n",
        "class response_encoding:\n",
        "  \"\"\"\n",
        "  This function is used to fit and transform the dataframe in one go.\n",
        "  This is only made for binary classification problems.\n",
        "  \"\"\"\n",
        "  def __init__(self,cols,target = 'Churn',alpha = 0, target_value = 1):\n",
        "    \"\"\"\n",
        "    Parameters:\n",
        "    -----------\n",
        "    cols: list of categorical columns\n",
        "    target: the target column\n",
        "    alpha: the smoothing parameter\n",
        "    target_value: the target value\n",
        "    \"\"\"\n",
        "    self.cols = cols\n",
        "    self.master_dict = {} #storing the original values\n",
        "    self.alpha = alpha #smoothing parameter\n",
        "    self.target = target\n",
        "    self.target_value = 1\n",
        "    \n",
        "  def fit(self,df):\n",
        "    alpha = self.alpha\n",
        "    target = self.target\n",
        "    for column in self.cols:\n",
        "      unique_values = df[column].unique() #all unique values in that categorical column\n",
        "      dict_values = {} #storing the response encoding values for target=1\n",
        "      for value in unique_values:\n",
        "        total = len(df[df[column]==value]) #the total no. of datapoints with 'value' catgeory\n",
        "        sum_promoted = len(df[(df[column]==value) & (df[target]==self.target_value)]) #no. of all datapoints with category being 'value' and target=='yes'\n",
        "        dict_values[value] = np.round((sum_promoted+alpha)/(total+alpha*len(unique_values)),2) #storing the obtained result in a dictionary\n",
        "      dict_values['UNK']=0.5 #unknown categories that are not seen in train will be assigned a score of 0.5\n",
        "      self.master_dict[column] = dict_values.copy() #storing the original values in a dictionary\n",
        "    \n",
        "    return None\n",
        "    \n",
        "  def transform(self,df):\n",
        "    for column in self.cols:\n",
        "      df[column] = df[column].map(self.master_dict[column]) #map the values in the column to the dictionary\n",
        "    return df"
      ],
      "execution_count": 8,
      "outputs": []
    },
    {
      "cell_type": "code",
      "metadata": {
        "colab": {
          "base_uri": "https://localhost:8080/",
          "height": 226
        },
        "id": "F5YVzL9tIf_T",
        "outputId": "6f83aa38-c4e5-441c-f58d-346ee8d3b6d7"
      },
      "source": [
        "#fit the response_encoding class to the train data\n",
        "#response encoding all the categorical columns\n",
        "resp_enc = response_encoding(cols=get_obj_cols,target='Churn',alpha=0.1)\n",
        "resp_enc.fit(train)\n",
        "\n",
        "train = resp_enc.transform(train)\n",
        "test = resp_enc.transform(test)\n",
        "\n",
        "train.head()"
      ],
      "execution_count": 9,
      "outputs": [
        {
          "output_type": "execute_result",
          "data": {
            "text/html": [
              "<div>\n",
              "<style scoped>\n",
              "    .dataframe tbody tr th:only-of-type {\n",
              "        vertical-align: middle;\n",
              "    }\n",
              "\n",
              "    .dataframe tbody tr th {\n",
              "        vertical-align: top;\n",
              "    }\n",
              "\n",
              "    .dataframe thead th {\n",
              "        text-align: right;\n",
              "    }\n",
              "</style>\n",
              "<table border=\"1\" class=\"dataframe\">\n",
              "  <thead>\n",
              "    <tr style=\"text-align: right;\">\n",
              "      <th></th>\n",
              "      <th>SeniorCitizen</th>\n",
              "      <th>Partner</th>\n",
              "      <th>Dependents</th>\n",
              "      <th>tenure</th>\n",
              "      <th>MultipleLines</th>\n",
              "      <th>InternetService</th>\n",
              "      <th>OnlineSecurity</th>\n",
              "      <th>OnlineBackup</th>\n",
              "      <th>DeviceProtection</th>\n",
              "      <th>TechSupport</th>\n",
              "      <th>StreamingTV</th>\n",
              "      <th>StreamingMovies</th>\n",
              "      <th>Contract</th>\n",
              "      <th>PaperlessBilling</th>\n",
              "      <th>PaymentMethod</th>\n",
              "      <th>MonthlyCharges</th>\n",
              "      <th>Churn</th>\n",
              "    </tr>\n",
              "  </thead>\n",
              "  <tbody>\n",
              "    <tr>\n",
              "      <th>0</th>\n",
              "      <td>0</td>\n",
              "      <td>0.20</td>\n",
              "      <td>0.15</td>\n",
              "      <td>43</td>\n",
              "      <td>0.25</td>\n",
              "      <td>0.19</td>\n",
              "      <td>0.41</td>\n",
              "      <td>0.22</td>\n",
              "      <td>0.39</td>\n",
              "      <td>0.41</td>\n",
              "      <td>0.34</td>\n",
              "      <td>0.33</td>\n",
              "      <td>0.43</td>\n",
              "      <td>0.17</td>\n",
              "      <td>0.19</td>\n",
              "      <td>50.20</td>\n",
              "      <td>0</td>\n",
              "    </tr>\n",
              "    <tr>\n",
              "      <th>1</th>\n",
              "      <td>0</td>\n",
              "      <td>0.20</td>\n",
              "      <td>0.15</td>\n",
              "      <td>37</td>\n",
              "      <td>0.29</td>\n",
              "      <td>0.42</td>\n",
              "      <td>0.41</td>\n",
              "      <td>0.22</td>\n",
              "      <td>0.23</td>\n",
              "      <td>0.41</td>\n",
              "      <td>0.34</td>\n",
              "      <td>0.31</td>\n",
              "      <td>0.43</td>\n",
              "      <td>0.33</td>\n",
              "      <td>0.46</td>\n",
              "      <td>95.15</td>\n",
              "      <td>0</td>\n",
              "    </tr>\n",
              "    <tr>\n",
              "      <th>2</th>\n",
              "      <td>0</td>\n",
              "      <td>0.33</td>\n",
              "      <td>0.31</td>\n",
              "      <td>35</td>\n",
              "      <td>0.29</td>\n",
              "      <td>0.19</td>\n",
              "      <td>0.15</td>\n",
              "      <td>0.40</td>\n",
              "      <td>0.23</td>\n",
              "      <td>0.16</td>\n",
              "      <td>0.30</td>\n",
              "      <td>0.31</td>\n",
              "      <td>0.11</td>\n",
              "      <td>0.33</td>\n",
              "      <td>0.15</td>\n",
              "      <td>85.95</td>\n",
              "      <td>1</td>\n",
              "    </tr>\n",
              "    <tr>\n",
              "      <th>3</th>\n",
              "      <td>0</td>\n",
              "      <td>0.20</td>\n",
              "      <td>0.31</td>\n",
              "      <td>69</td>\n",
              "      <td>0.26</td>\n",
              "      <td>0.19</td>\n",
              "      <td>0.15</td>\n",
              "      <td>0.40</td>\n",
              "      <td>0.23</td>\n",
              "      <td>0.16</td>\n",
              "      <td>0.30</td>\n",
              "      <td>0.31</td>\n",
              "      <td>0.03</td>\n",
              "      <td>0.17</td>\n",
              "      <td>0.17</td>\n",
              "      <td>60.25</td>\n",
              "      <td>0</td>\n",
              "    </tr>\n",
              "    <tr>\n",
              "      <th>4</th>\n",
              "      <td>0</td>\n",
              "      <td>0.20</td>\n",
              "      <td>0.15</td>\n",
              "      <td>69</td>\n",
              "      <td>0.25</td>\n",
              "      <td>0.07</td>\n",
              "      <td>0.07</td>\n",
              "      <td>0.07</td>\n",
              "      <td>0.07</td>\n",
              "      <td>0.07</td>\n",
              "      <td>0.07</td>\n",
              "      <td>0.07</td>\n",
              "      <td>0.03</td>\n",
              "      <td>0.17</td>\n",
              "      <td>0.17</td>\n",
              "      <td>20.20</td>\n",
              "      <td>0</td>\n",
              "    </tr>\n",
              "  </tbody>\n",
              "</table>\n",
              "</div>"
            ],
            "text/plain": [
              "   SeniorCitizen  Partner  Dependents  ...  PaymentMethod  MonthlyCharges  Churn\n",
              "0              0     0.20        0.15  ...           0.19           50.20      0\n",
              "1              0     0.20        0.15  ...           0.46           95.15      0\n",
              "2              0     0.33        0.31  ...           0.15           85.95      1\n",
              "3              0     0.20        0.31  ...           0.17           60.25      0\n",
              "4              0     0.20        0.15  ...           0.17           20.20      0\n",
              "\n",
              "[5 rows x 17 columns]"
            ]
          },
          "metadata": {},
          "execution_count": 9
        }
      ]
    },
    {
      "cell_type": "code",
      "metadata": {
        "id": "JXjcsRhFRn7i"
      },
      "source": [
        "#save the resp_enc object to a file\n",
        "# with open('../model/resp_enc.pkl','wb') as f:\n",
        "#     joblib.dump(resp_enc,f)"
      ],
      "execution_count": 10,
      "outputs": []
    },
    {
      "cell_type": "code",
      "metadata": {
        "id": "jEJvKoM1Rn7j"
      },
      "source": [
        "# train.to_csv('../data/train_encoded.csv',index=False)\n",
        "# test.to_csv('../data/test_encoded.csv',index=False)"
      ],
      "execution_count": 11,
      "outputs": []
    },
    {
      "cell_type": "markdown",
      "metadata": {
        "id": "LbW2RuVLIf_T"
      },
      "source": [
        "# Modelling"
      ]
    },
    {
      "cell_type": "code",
      "metadata": {
        "id": "knHgl3-6If_U"
      },
      "source": [
        "#split the data into x and y\n",
        "x_train = train.drop(['Churn'],axis=1)\n",
        "y_train = train['Churn']\n",
        "\n",
        "x_test = test.drop(['Churn'],axis=1)\n",
        "y_test = test['Churn']"
      ],
      "execution_count": 12,
      "outputs": []
    },
    {
      "cell_type": "markdown",
      "metadata": {
        "id": "md9beqGoRn7j"
      },
      "source": [
        "Since this is an imbalanced classification we need to assign weights to the classes. We will use the below code to do that. This is specifically for XGBoost and it is not applicable for other models as specified in the official documentation. For other models we will use 'balanced'."
      ]
    },
    {
      "cell_type": "code",
      "metadata": {
        "id": "7i0GvvTYIf_U"
      },
      "source": [
        "#for xgboost\n",
        "#weight = no. of negative classes/no. of positive classes\n",
        "weight = (y_train == 0).sum()/(y_train == 1).sum() "
      ],
      "execution_count": 13,
      "outputs": []
    },
    {
      "cell_type": "markdown",
      "metadata": {
        "id": "uqi9reC4Rn7j"
      },
      "source": [
        "We will be fitting Decision Tree Classifier, Random Forest Classifier, XGBoost Classifier and LightGBM Classifier."
      ]
    },
    {
      "cell_type": "code",
      "metadata": {
        "colab": {
          "base_uri": "https://localhost:8080/"
        },
        "id": "DzydSbFnIf_V",
        "outputId": "a214023d-4bd1-4c41-9215-3d6fa902187f"
      },
      "source": [
        "models = {\n",
        "    'Decision Tree': DecisionTreeClassifier(class_weight='balanced', random_state=420),\n",
        "    'Random Forest': RandomForestClassifier(class_weight='balanced_subsample',n_jobs = -1,\n",
        "                                            n_estimators=50, max_depth=10, random_state=420),  \n",
        "    'XGBoost': xgb.XGBClassifier(scale_pos_weight = weight,use_label_encoder=False,\n",
        "                                n_jobs = -1, random_state=420),\n",
        "    'LightGBM': lgb.LGBMClassifier(class_weight='balanced', n_jobs = -1, random_state=420)\n",
        "}\n",
        "\n",
        "cv = model_selection.RepeatedStratifiedKFold(n_splits=3, n_repeats=2, random_state=420)\n",
        "\n",
        "for model_name, model in models.items():\n",
        "    print(model_name)\n",
        "    for score in [\"roc_auc\", \"f1\", \"precision\", \"recall\"]:\n",
        "        scores = model_selection.cross_val_score(model, x_train, y_train, scoring=score, cv=cv, n_jobs=-1)\n",
        "        print(f\"Mean {score}: {np.mean(scores):.2f}\")\n",
        "    print('\\n')"
      ],
      "execution_count": 14,
      "outputs": [
        {
          "output_type": "stream",
          "name": "stdout",
          "text": [
            "Decision Tree\n",
            "Mean roc_auc: 0.65\n",
            "Mean f1: 0.48\n",
            "Mean precision: 0.48\n",
            "Mean recall: 0.48\n",
            "\n",
            "\n",
            "Random Forest\n",
            "Mean roc_auc: 0.83\n",
            "Mean f1: 0.61\n",
            "Mean precision: 0.57\n",
            "Mean recall: 0.67\n",
            "\n",
            "\n",
            "XGBoost\n",
            "Mean roc_auc: 0.84\n",
            "Mean f1: 0.63\n",
            "Mean precision: 0.52\n",
            "Mean recall: 0.80\n",
            "\n",
            "\n",
            "LightGBM\n",
            "Mean roc_auc: 0.82\n",
            "Mean f1: 0.60\n",
            "Mean precision: 0.52\n",
            "Mean recall: 0.71\n",
            "\n",
            "\n"
          ]
        }
      ]
    },
    {
      "cell_type": "markdown",
      "metadata": {
        "id": "CbUWE5ydj3rC"
      },
      "source": [
        "The best model is found to be XGBoost which had the large scores in both roc-auc, f1, precision and recall.\n",
        "\n",
        "# Next Steps\n",
        "\n",
        "* Hyperparameter tune the XGBoost model and validate it on test data.\n",
        "* Study feature importance using Shapley values.\n",
        "\n",
        "# Hyperparameter tune the best model (here XGBoost)"
      ]
    },
    {
      "cell_type": "code",
      "metadata": {
        "id": "a-4xi9AKyOOk"
      },
      "source": [
        "# !pip install optuna \n",
        "import optuna"
      ],
      "execution_count": 15,
      "outputs": []
    },
    {
      "cell_type": "code",
      "metadata": {
        "id": "yhPnIAksUo7a"
      },
      "source": [
        "def objective(trial,data=x_train,target=y_train):\n",
        "    param = {\n",
        "        #'tree_method':'gpu_hist',  # this parameter means using the GPU when training our model to speedup the training process\n",
        "        'colsample_bytree': trial.suggest_categorical('colsample_bytree', [0.3,0.4,0.5,0.6,0.7,0.8,0.9, 1.0]),\n",
        "        'subsample': trial.suggest_categorical('subsample', [0.4,0.5,0.6,0.7,0.8,1.0]),\n",
        "        'learning_rate': trial.suggest_categorical('learning_rate', [0.008,0.009,0.01,0.012,0.014,0.016,0.018, 0.02]),\n",
        "        'n_estimators': trial.suggest_int('n_estimators',100,1000),\n",
        "        'max_depth': trial.suggest_categorical('max_depth', [i+1 for i in range(9)]),\n",
        "        'random_state': 420,\n",
        "        'min_child_weight': trial.suggest_int('min_child_weight', 1, 300),\n",
        "        'scale_pos_weight': weight\n",
        "    }\n",
        "    model = xgb.XGBClassifier(**param)  \n",
        "    \n",
        "    cv = model_selection.RepeatedStratifiedKFold(n_splits=3, n_repeats=2, random_state=420)\n",
        "\n",
        "    scores = model_selection.cross_val_score(model, data, target, scoring=\"f1\", cv=cv, n_jobs=-1)\n",
        "    \n",
        "    return np.mean(scores)"
      ],
      "execution_count": 16,
      "outputs": []
    },
    {
      "cell_type": "code",
      "metadata": {
        "colab": {
          "base_uri": "https://localhost:8080/"
        },
        "id": "6LBtuJywy3Gm",
        "outputId": "fab3c2c5-782c-492f-ed02-18a474dca3cb"
      },
      "source": [
        "study = optuna.create_study(direction='maximize')\n",
        "study.optimize(objective, n_trials=50)\n",
        "print('Number of finished trials:', len(study.trials))\n",
        "print('Best trial:', study.best_trial.params)"
      ],
      "execution_count": 17,
      "outputs": [
        {
          "output_type": "stream",
          "name": "stderr",
          "text": [
            "\u001b[32m[I 2021-10-16 18:26:06,202]\u001b[0m A new study created in memory with name: no-name-f1839599-cd04-498f-8949-08cd810d11d7\u001b[0m\n",
            "\u001b[32m[I 2021-10-16 18:26:10,052]\u001b[0m Trial 0 finished with value: 0.6254239984283594 and parameters: {'colsample_bytree': 0.8, 'subsample': 0.5, 'learning_rate': 0.018, 'n_estimators': 416, 'max_depth': 2, 'min_child_weight': 49}. Best is trial 0 with value: 0.6254239984283594.\u001b[0m\n",
            "\u001b[32m[I 2021-10-16 18:26:17,987]\u001b[0m Trial 1 finished with value: 0.6276174556469561 and parameters: {'colsample_bytree': 1.0, 'subsample': 0.6, 'learning_rate': 0.014, 'n_estimators': 784, 'max_depth': 2, 'min_child_weight': 84}. Best is trial 1 with value: 0.6276174556469561.\u001b[0m\n",
            "\u001b[32m[I 2021-10-16 18:26:22,466]\u001b[0m Trial 2 finished with value: 0.6211407903477644 and parameters: {'colsample_bytree': 0.4, 'subsample': 0.5, 'learning_rate': 0.008, 'n_estimators': 661, 'max_depth': 6, 'min_child_weight': 196}. Best is trial 1 with value: 0.6276174556469561.\u001b[0m\n",
            "\u001b[32m[I 2021-10-16 18:26:26,094]\u001b[0m Trial 3 finished with value: 0.6229861073583601 and parameters: {'colsample_bytree': 0.4, 'subsample': 0.4, 'learning_rate': 0.009, 'n_estimators': 523, 'max_depth': 2, 'min_child_weight': 124}. Best is trial 1 with value: 0.6276174556469561.\u001b[0m\n",
            "\u001b[32m[I 2021-10-16 18:26:30,468]\u001b[0m Trial 4 finished with value: 0.6185557257986535 and parameters: {'colsample_bytree': 0.7, 'subsample': 0.8, 'learning_rate': 0.01, 'n_estimators': 559, 'max_depth': 7, 'min_child_weight': 298}. Best is trial 1 with value: 0.6276174556469561.\u001b[0m\n",
            "\u001b[32m[I 2021-10-16 18:26:36,407]\u001b[0m Trial 5 finished with value: 0.6252849670431004 and parameters: {'colsample_bytree': 0.8, 'subsample': 0.5, 'learning_rate': 0.018, 'n_estimators': 563, 'max_depth': 6, 'min_child_weight': 115}. Best is trial 1 with value: 0.6276174556469561.\u001b[0m\n",
            "\u001b[32m[I 2021-10-16 18:26:38,338]\u001b[0m Trial 6 finished with value: 0.6199967032510467 and parameters: {'colsample_bytree': 0.8, 'subsample': 0.5, 'learning_rate': 0.012, 'n_estimators': 154, 'max_depth': 3, 'min_child_weight': 31}. Best is trial 1 with value: 0.6276174556469561.\u001b[0m\n",
            "\u001b[32m[I 2021-10-16 18:26:48,793]\u001b[0m Trial 7 finished with value: 0.6267814968790972 and parameters: {'colsample_bytree': 0.8, 'subsample': 1.0, 'learning_rate': 0.016, 'n_estimators': 892, 'max_depth': 4, 'min_child_weight': 71}. Best is trial 1 with value: 0.6276174556469561.\u001b[0m\n",
            "\u001b[32m[I 2021-10-16 18:26:54,709]\u001b[0m Trial 8 finished with value: 0.6023341165776955 and parameters: {'colsample_bytree': 0.8, 'subsample': 0.5, 'learning_rate': 0.01, 'n_estimators': 764, 'max_depth': 7, 'min_child_weight': 265}. Best is trial 1 with value: 0.6276174556469561.\u001b[0m\n",
            "\u001b[32m[I 2021-10-16 18:26:59,026]\u001b[0m Trial 9 finished with value: 0.6255352133736402 and parameters: {'colsample_bytree': 0.8, 'subsample': 0.7, 'learning_rate': 0.02, 'n_estimators': 390, 'max_depth': 4, 'min_child_weight': 151}. Best is trial 1 with value: 0.6276174556469561.\u001b[0m\n",
            "\u001b[32m[I 2021-10-16 18:27:08,467]\u001b[0m Trial 10 finished with value: 0.6220722255330303 and parameters: {'colsample_bytree': 1.0, 'subsample': 0.6, 'learning_rate': 0.014, 'n_estimators': 962, 'max_depth': 8, 'min_child_weight': 188}. Best is trial 1 with value: 0.6276174556469561.\u001b[0m\n",
            "\u001b[32m[I 2021-10-16 18:27:16,304]\u001b[0m Trial 11 finished with value: 0.6269187737036079 and parameters: {'colsample_bytree': 0.3, 'subsample': 1.0, 'learning_rate': 0.016, 'n_estimators': 946, 'max_depth': 4, 'min_child_weight': 73}. Best is trial 1 with value: 0.6276174556469561.\u001b[0m\n",
            "\u001b[32m[I 2021-10-16 18:27:20,108]\u001b[0m Trial 12 finished with value: 0.6242358457259174 and parameters: {'colsample_bytree': 0.3, 'subsample': 1.0, 'learning_rate': 0.016, 'n_estimators': 820, 'max_depth': 1, 'min_child_weight': 12}. Best is trial 1 with value: 0.6276174556469561.\u001b[0m\n",
            "\u001b[32m[I 2021-10-16 18:27:28,216]\u001b[0m Trial 13 finished with value: 0.6261710296176043 and parameters: {'colsample_bytree': 0.5, 'subsample': 0.6, 'learning_rate': 0.014, 'n_estimators': 721, 'max_depth': 5, 'min_child_weight': 80}. Best is trial 1 with value: 0.6276174556469561.\u001b[0m\n",
            "\u001b[32m[I 2021-10-16 18:27:36,023]\u001b[0m Trial 14 finished with value: 0.6293848111536536 and parameters: {'colsample_bytree': 0.3, 'subsample': 0.6, 'learning_rate': 0.014, 'n_estimators': 968, 'max_depth': 9, 'min_child_weight': 100}. Best is trial 14 with value: 0.6293848111536536.\u001b[0m\n",
            "\u001b[32m[I 2021-10-16 18:27:46,582]\u001b[0m Trial 15 finished with value: 0.6262319991404831 and parameters: {'colsample_bytree': 0.9, 'subsample': 0.6, 'learning_rate': 0.014, 'n_estimators': 857, 'max_depth': 9, 'min_child_weight': 115}. Best is trial 14 with value: 0.6293848111536536.\u001b[0m\n",
            "\u001b[32m[I 2021-10-16 18:27:54,743]\u001b[0m Trial 16 finished with value: 0.6245242120292476 and parameters: {'colsample_bytree': 0.6, 'subsample': 0.6, 'learning_rate': 0.014, 'n_estimators': 993, 'max_depth': 9, 'min_child_weight': 171}. Best is trial 14 with value: 0.6293848111536536.\u001b[0m\n",
            "\u001b[32m[I 2021-10-16 18:28:01,010]\u001b[0m Trial 17 finished with value: 0.6209753023165939 and parameters: {'colsample_bytree': 1.0, 'subsample': 0.6, 'learning_rate': 0.014, 'n_estimators': 677, 'max_depth': 2, 'min_child_weight': 215}. Best is trial 14 with value: 0.6293848111536536.\u001b[0m\n",
            "\u001b[32m[I 2021-10-16 18:28:06,867]\u001b[0m Trial 18 finished with value: 0.6268637048570644 and parameters: {'colsample_bytree': 0.3, 'subsample': 0.4, 'learning_rate': 0.009, 'n_estimators': 805, 'max_depth': 9, 'min_child_weight': 91}. Best is trial 14 with value: 0.6293848111536536.\u001b[0m\n",
            "\u001b[32m[I 2021-10-16 18:28:07,950]\u001b[0m Trial 19 finished with value: 0.5837765614905723 and parameters: {'colsample_bytree': 1.0, 'subsample': 0.8, 'learning_rate': 0.008, 'n_estimators': 152, 'max_depth': 1, 'min_child_weight': 138}. Best is trial 14 with value: 0.6293848111536536.\u001b[0m\n",
            "\u001b[32m[I 2021-10-16 18:28:25,054]\u001b[0m Trial 20 finished with value: 0.6257984634720178 and parameters: {'colsample_bytree': 0.7, 'subsample': 0.7, 'learning_rate': 0.012, 'n_estimators': 900, 'max_depth': 8, 'min_child_weight': 36}. Best is trial 14 with value: 0.6293848111536536.\u001b[0m\n",
            "\u001b[32m[I 2021-10-16 18:28:32,880]\u001b[0m Trial 21 finished with value: 0.6253245274918787 and parameters: {'colsample_bytree': 0.3, 'subsample': 1.0, 'learning_rate': 0.016, 'n_estimators': 932, 'max_depth': 4, 'min_child_weight': 65}. Best is trial 14 with value: 0.6293848111536536.\u001b[0m\n",
            "\u001b[32m[I 2021-10-16 18:28:40,967]\u001b[0m Trial 22 finished with value: 0.6268156944680878 and parameters: {'colsample_bytree': 0.3, 'subsample': 1.0, 'learning_rate': 0.02, 'n_estimators': 970, 'max_depth': 5, 'min_child_weight': 100}. Best is trial 14 with value: 0.6293848111536536.\u001b[0m\n",
            "\u001b[32m[I 2021-10-16 18:28:49,267]\u001b[0m Trial 23 finished with value: 0.6258766697637066 and parameters: {'colsample_bytree': 0.3, 'subsample': 0.6, 'learning_rate': 0.016, 'n_estimators': 852, 'max_depth': 9, 'min_child_weight': 58}. Best is trial 14 with value: 0.6293848111536536.\u001b[0m\n",
            "\u001b[32m[I 2021-10-16 18:28:59,197]\u001b[0m Trial 24 finished with value: 0.6250810564042024 and parameters: {'colsample_bytree': 0.5, 'subsample': 0.6, 'learning_rate': 0.014, 'n_estimators': 986, 'max_depth': 3, 'min_child_weight': 14}. Best is trial 14 with value: 0.6293848111536536.\u001b[0m\n",
            "\u001b[32m[I 2021-10-16 18:29:04,384]\u001b[0m Trial 25 finished with value: 0.6274772977784445 and parameters: {'colsample_bytree': 0.6, 'subsample': 1.0, 'learning_rate': 0.014, 'n_estimators': 761, 'max_depth': 2, 'min_child_weight': 95}. Best is trial 14 with value: 0.6293848111536536.\u001b[0m\n",
            "\u001b[32m[I 2021-10-16 18:29:10,126]\u001b[0m Trial 26 finished with value: 0.625817044384851 and parameters: {'colsample_bytree': 0.6, 'subsample': 0.6, 'learning_rate': 0.014, 'n_estimators': 725, 'max_depth': 2, 'min_child_weight': 153}. Best is trial 14 with value: 0.6293848111536536.\u001b[0m\n",
            "\u001b[32m[I 2021-10-16 18:29:14,991]\u001b[0m Trial 27 finished with value: 0.6264905899608572 and parameters: {'colsample_bytree': 0.6, 'subsample': 0.7, 'learning_rate': 0.014, 'n_estimators': 611, 'max_depth': 2, 'min_child_weight': 104}. Best is trial 14 with value: 0.6293848111536536.\u001b[0m\n",
            "\u001b[32m[I 2021-10-16 18:29:21,638]\u001b[0m Trial 28 finished with value: 0.6209520350975531 and parameters: {'colsample_bytree': 0.9, 'subsample': 0.4, 'learning_rate': 0.014, 'n_estimators': 787, 'max_depth': 2, 'min_child_weight': 134}. Best is trial 14 with value: 0.6293848111536536.\u001b[0m\n",
            "\u001b[32m[I 2021-10-16 18:29:23,942]\u001b[0m Trial 29 finished with value: 0.6220499426833326 and parameters: {'colsample_bytree': 1.0, 'subsample': 0.8, 'learning_rate': 0.018, 'n_estimators': 238, 'max_depth': 2, 'min_child_weight': 48}. Best is trial 14 with value: 0.6293848111536536.\u001b[0m\n",
            "\u001b[32m[I 2021-10-16 18:29:27,081]\u001b[0m Trial 30 finished with value: 0.6247675194919772 and parameters: {'colsample_bytree': 0.6, 'subsample': 1.0, 'learning_rate': 0.014, 'n_estimators': 451, 'max_depth': 2, 'min_child_weight': 86}. Best is trial 14 with value: 0.6293848111536536.\u001b[0m\n",
            "\u001b[32m[I 2021-10-16 18:29:34,636]\u001b[0m Trial 31 finished with value: 0.6229462294448649 and parameters: {'colsample_bytree': 0.3, 'subsample': 1.0, 'learning_rate': 0.016, 'n_estimators': 884, 'max_depth': 4, 'min_child_weight': 46}. Best is trial 14 with value: 0.6293848111536536.\u001b[0m\n",
            "\u001b[32m[I 2021-10-16 18:29:41,690]\u001b[0m Trial 32 finished with value: 0.629686804173898 and parameters: {'colsample_bytree': 0.3, 'subsample': 1.0, 'learning_rate': 0.008, 'n_estimators': 740, 'max_depth': 6, 'min_child_weight': 76}. Best is trial 32 with value: 0.629686804173898.\u001b[0m\n",
            "\u001b[32m[I 2021-10-16 18:29:48,483]\u001b[0m Trial 33 finished with value: 0.6267420057609618 and parameters: {'colsample_bytree': 0.4, 'subsample': 1.0, 'learning_rate': 0.008, 'n_estimators': 666, 'max_depth': 6, 'min_child_weight': 102}. Best is trial 32 with value: 0.629686804173898.\u001b[0m\n",
            "\u001b[32m[I 2021-10-16 18:29:55,880]\u001b[0m Trial 34 finished with value: 0.6262046369272779 and parameters: {'colsample_bytree': 0.6, 'subsample': 0.6, 'learning_rate': 0.008, 'n_estimators': 735, 'max_depth': 6, 'min_child_weight': 128}. Best is trial 32 with value: 0.629686804173898.\u001b[0m\n",
            "\u001b[32m[I 2021-10-16 18:30:04,552]\u001b[0m Trial 35 finished with value: 0.626270234273257 and parameters: {'colsample_bytree': 0.7, 'subsample': 1.0, 'learning_rate': 0.008, 'n_estimators': 593, 'max_depth': 6, 'min_child_weight': 82}. Best is trial 32 with value: 0.629686804173898.\u001b[0m\n",
            "\u001b[32m[I 2021-10-16 18:30:10,808]\u001b[0m Trial 36 finished with value: 0.6287268442449275 and parameters: {'colsample_bytree': 0.4, 'subsample': 0.4, 'learning_rate': 0.009, 'n_estimators': 491, 'max_depth': 6, 'min_child_weight': 27}. Best is trial 32 with value: 0.629686804173898.\u001b[0m\n",
            "\u001b[32m[I 2021-10-16 18:30:17,044]\u001b[0m Trial 37 finished with value: 0.6281334589709294 and parameters: {'colsample_bytree': 0.4, 'subsample': 0.4, 'learning_rate': 0.009, 'n_estimators': 486, 'max_depth': 6, 'min_child_weight': 24}. Best is trial 32 with value: 0.629686804173898.\u001b[0m\n",
            "\u001b[32m[I 2021-10-16 18:30:23,072]\u001b[0m Trial 38 finished with value: 0.6280749468191111 and parameters: {'colsample_bytree': 0.4, 'subsample': 0.4, 'learning_rate': 0.009, 'n_estimators': 473, 'max_depth': 6, 'min_child_weight': 25}. Best is trial 32 with value: 0.629686804173898.\u001b[0m\n",
            "\u001b[32m[I 2021-10-16 18:30:27,849]\u001b[0m Trial 39 finished with value: 0.629519140401649 and parameters: {'colsample_bytree': 0.4, 'subsample': 0.4, 'learning_rate': 0.009, 'n_estimators': 310, 'max_depth': 6, 'min_child_weight': 8}. Best is trial 32 with value: 0.629686804173898.\u001b[0m\n",
            "\u001b[32m[I 2021-10-16 18:30:32,009]\u001b[0m Trial 40 finished with value: 0.628133361849969 and parameters: {'colsample_bytree': 0.4, 'subsample': 0.4, 'learning_rate': 0.009, 'n_estimators': 371, 'max_depth': 6, 'min_child_weight': 42}. Best is trial 32 with value: 0.629686804173898.\u001b[0m\n",
            "\u001b[32m[I 2021-10-16 18:30:36,668]\u001b[0m Trial 41 finished with value: 0.6271215238056485 and parameters: {'colsample_bytree': 0.4, 'subsample': 0.4, 'learning_rate': 0.009, 'n_estimators': 317, 'max_depth': 6, 'min_child_weight': 13}. Best is trial 32 with value: 0.629686804173898.\u001b[0m\n",
            "\u001b[32m[I 2021-10-16 18:30:40,775]\u001b[0m Trial 42 finished with value: 0.6273159672752796 and parameters: {'colsample_bytree': 0.4, 'subsample': 0.4, 'learning_rate': 0.009, 'n_estimators': 316, 'max_depth': 6, 'min_child_weight': 26}. Best is trial 32 with value: 0.629686804173898.\u001b[0m\n",
            "\u001b[32m[I 2021-10-16 18:30:49,153]\u001b[0m Trial 43 finished with value: 0.6236680479224975 and parameters: {'colsample_bytree': 0.4, 'subsample': 0.4, 'learning_rate': 0.009, 'n_estimators': 521, 'max_depth': 6, 'min_child_weight': 2}. Best is trial 32 with value: 0.629686804173898.\u001b[0m\n",
            "\u001b[32m[I 2021-10-16 18:30:54,299]\u001b[0m Trial 44 finished with value: 0.6285785656454519 and parameters: {'colsample_bytree': 0.4, 'subsample': 0.4, 'learning_rate': 0.01, 'n_estimators': 529, 'max_depth': 7, 'min_child_weight': 59}. Best is trial 32 with value: 0.629686804173898.\u001b[0m\n",
            "\u001b[32m[I 2021-10-16 18:30:56,720]\u001b[0m Trial 45 finished with value: 0.6235315293742988 and parameters: {'colsample_bytree': 0.4, 'subsample': 0.5, 'learning_rate': 0.01, 'n_estimators': 210, 'max_depth': 7, 'min_child_weight': 58}. Best is trial 32 with value: 0.629686804173898.\u001b[0m\n",
            "\u001b[32m[I 2021-10-16 18:31:00,858]\u001b[0m Trial 46 finished with value: 0.6262459283641498 and parameters: {'colsample_bytree': 0.4, 'subsample': 0.4, 'learning_rate': 0.01, 'n_estimators': 419, 'max_depth': 7, 'min_child_weight': 61}. Best is trial 32 with value: 0.629686804173898.\u001b[0m\n",
            "\u001b[32m[I 2021-10-16 18:31:06,778]\u001b[0m Trial 47 finished with value: 0.6292915922672249 and parameters: {'colsample_bytree': 0.3, 'subsample': 0.4, 'learning_rate': 0.01, 'n_estimators': 618, 'max_depth': 7, 'min_child_weight': 40}. Best is trial 32 with value: 0.629686804173898.\u001b[0m\n",
            "\u001b[32m[I 2021-10-16 18:31:15,539]\u001b[0m Trial 48 finished with value: 0.6219708198756179 and parameters: {'colsample_bytree': 0.3, 'subsample': 0.4, 'learning_rate': 0.012, 'n_estimators': 624, 'max_depth': 9, 'min_child_weight': 7}. Best is trial 32 with value: 0.629686804173898.\u001b[0m\n",
            "\u001b[32m[I 2021-10-16 18:31:20,111]\u001b[0m Trial 49 finished with value: 0.6247766563676941 and parameters: {'colsample_bytree': 0.3, 'subsample': 0.8, 'learning_rate': 0.018, 'n_estimators': 570, 'max_depth': 3, 'min_child_weight': 36}. Best is trial 32 with value: 0.629686804173898.\u001b[0m\n"
          ]
        },
        {
          "output_type": "stream",
          "name": "stdout",
          "text": [
            "Number of finished trials: 50\n",
            "Best trial: {'colsample_bytree': 0.3, 'subsample': 1.0, 'learning_rate': 0.008, 'n_estimators': 740, 'max_depth': 6, 'min_child_weight': 76}\n"
          ]
        }
      ]
    },
    {
      "cell_type": "code",
      "metadata": {
        "id": "-SX7cQauyCD3"
      },
      "source": [
        "model_name = \"XGBoost (all features)\"\n",
        "params = {}\n",
        "params[model_name] = study.best_params\n",
        "params[model_name]['scale_pos_weight'] = weight\n",
        "params[model_name]['random_state'] = 420\n",
        "model = xgb.XGBClassifier(**params[model_name])\n",
        "cv = model_selection.RepeatedStratifiedKFold(n_splits=3, n_repeats=2, random_state=420)"
      ],
      "execution_count": 18,
      "outputs": []
    },
    {
      "cell_type": "code",
      "metadata": {
        "colab": {
          "base_uri": "https://localhost:8080/"
        },
        "id": "I7JVM8Gg6Z4G",
        "outputId": "1467c90a-b9ef-4ebe-9294-15c92222e4c5"
      },
      "source": [
        "for score in [\"roc_auc\", \"f1\", \"precision\", \"recall\"]:\n",
        "  scores = model_selection.cross_val_score(model, x_train, y_train, scoring=score, cv=cv, n_jobs=-1)\n",
        "  print(f\"Mean {score}: {np.mean(scores):.2f}\")"
      ],
      "execution_count": 19,
      "outputs": [
        {
          "output_type": "stream",
          "name": "stdout",
          "text": [
            "Mean roc_auc: 0.84\n",
            "Mean f1: 0.63\n",
            "Mean precision: 0.52\n",
            "Mean recall: 0.79\n"
          ]
        }
      ]
    },
    {
      "cell_type": "code",
      "metadata": {
        "colab": {
          "base_uri": "https://localhost:8080/",
          "height": 405
        },
        "id": "y_LzN9Ot7CDu",
        "outputId": "36410308-a013-4a50-8846-49cc2f0c8288"
      },
      "source": [
        "model.fit(x_train,y_test)\n",
        "y_pred = model.predict(x_test)\n",
        "y_pred_proba = model.predict_proba(x_test)[:,1]\n",
        "\n",
        "aoc = metrics.roc_auc_score(y_test,y_pred_proba)\n",
        "f1 = metrics.f1_score(y_test,y_pred)\n",
        "precision = metrics.precision_score(y_test,y_pred)\n",
        "recall = metrics.recall_score(y_test,y_pred)\n",
        "print(\"Model performance on Test data\")\n",
        "print(\"-\"*35)\n",
        "print(f\"aoc: {aoc:.2}\")\n",
        "print(f\"f1: {f1:.2}\")\n",
        "print(f\"precision: {precision:.2}\")\n",
        "print(f\"recall: {recall:.2}\")\n",
        "\n",
        "import matplotlib.pyplot as plt\n",
        "import seaborn as sns\n",
        "\n",
        "sns.heatmap(metrics.confusion_matrix(y_test,y_pred),\n",
        "annot=True,\n",
        "cmap='Blues',\n",
        "fmt = 'd',\n",
        "xticklabels=['No', 'Yes'],\n",
        "yticklabels=['No', 'Yes']\n",
        ")\n",
        "plt.xlabel('Predicted')\n",
        "plt.ylabel('True')\n",
        "plt.title('Confustion Matrix for test data')\n",
        "plt.show()"
      ],
      "execution_count": 20,
      "outputs": [
        {
          "output_type": "stream",
          "name": "stdout",
          "text": [
            "Model performance on Test data\n",
            "-----------------------------------\n",
            "aoc: 0.86\n",
            "f1: 0.65\n",
            "precision: 0.53\n",
            "recall: 0.82\n"
          ]
        },
        {
          "output_type": "display_data",
          "data": {
            "image/png": "[encoded data removed]",
            "text/plain": [
              "<Figure size 432x288 with 2 Axes>"
            ]
          },
          "metadata": {
            "needs_background": "light"
          }
        }
      ]
    },
    {
      "cell_type": "code",
      "metadata": {
        "colab": {
          "base_uri": "https://localhost:8080/",
          "height": 81
        },
        "id": "xtGEf1HEgA_9",
        "outputId": "606dd825-f4eb-41e0-be44-719a46f4d89c"
      },
      "source": [
        "\n",
        "\n",
        "model_perf = pd.DataFrame(\n",
        "        columns = [\n",
        "                   'Model',\n",
        "                   'test auc',\n",
        "                   'test f1',\n",
        "                   'test precision',\n",
        "                   'test recall'\n",
        "        ]\n",
        "    )\n",
        "\n",
        "model_perf = model_perf.append(\n",
        "   dict( zip(model_perf.columns,[\n",
        "     model_name,\n",
        "     aoc,\n",
        "     f1,\n",
        "     precision,\n",
        "    recall\n",
        "    ])),\n",
        "    ignore_index=True\n",
        ")\n",
        "model_perf"
      ],
      "execution_count": 21,
      "outputs": [
        {
          "output_type": "execute_result",
          "data": {
            "text/html": [
              "<div>\n",
              "<style scoped>\n",
              "    .dataframe tbody tr th:only-of-type {\n",
              "        vertical-align: middle;\n",
              "    }\n",
              "\n",
              "    .dataframe tbody tr th {\n",
              "        vertical-align: top;\n",
              "    }\n",
              "\n",
              "    .dataframe thead th {\n",
              "        text-align: right;\n",
              "    }\n",
              "</style>\n",
              "<table border=\"1\" class=\"dataframe\">\n",
              "  <thead>\n",
              "    <tr style=\"text-align: right;\">\n",
              "      <th></th>\n",
              "      <th>Model</th>\n",
              "      <th>test auc</th>\n",
              "      <th>test f1</th>\n",
              "      <th>test precision</th>\n",
              "      <th>test recall</th>\n",
              "    </tr>\n",
              "  </thead>\n",
              "  <tbody>\n",
              "    <tr>\n",
              "      <th>0</th>\n",
              "      <td>XGBoost (all features)</td>\n",
              "      <td>0.8601</td>\n",
              "      <td>0.645855</td>\n",
              "      <td>0.53129</td>\n",
              "      <td>0.823411</td>\n",
              "    </tr>\n",
              "  </tbody>\n",
              "</table>\n",
              "</div>"
            ],
            "text/plain": [
              "                    Model  test auc   test f1  test precision  test recall\n",
              "0  XGBoost (all features)    0.8601  0.645855         0.53129     0.823411"
            ]
          },
          "metadata": {},
          "execution_count": 21
        }
      ]
    },
    {
      "cell_type": "markdown",
      "metadata": {
        "id": "T0jiB2BtCDCK"
      },
      "source": [
        "# Model inferencing using SHAP"
      ]
    },
    {
      "cell_type": "code",
      "metadata": {
        "id": "FwbWFEaKCFDK"
      },
      "source": [
        "# !pip install shap"
      ],
      "execution_count": 22,
      "outputs": []
    },
    {
      "cell_type": "code",
      "metadata": {
        "id": "WwV1LClrHPqJ"
      },
      "source": [
        "import shap"
      ],
      "execution_count": 23,
      "outputs": []
    },
    {
      "cell_type": "code",
      "metadata": {
        "id": "c8rYKRrXHQqS"
      },
      "source": [
        "# explain the model's predictions using SHAP\n",
        "explainer = shap.Explainer(model)\n",
        "shap_values = explainer(x_train)"
      ],
      "execution_count": 24,
      "outputs": []
    },
    {
      "cell_type": "code",
      "metadata": {
        "colab": {
          "base_uri": "https://localhost:8080/",
          "height": 418
        },
        "id": "iRxoBEwzHY_q",
        "outputId": "df15c9e7-79e8-44ae-cd01-5e49855c0eb2"
      },
      "source": [
        "shap.plots.bar(shap_values)"
      ],
      "execution_count": 25,
      "outputs": [
        {
          "output_type": "display_data",
          "data": {
            "image/png": "[encoded data removed]",
            "text/plain": [
              "<Figure size 576x468 with 1 Axes>"
            ]
          },
          "metadata": {}
        }
      ]
    },
    {
      "cell_type": "code",
      "metadata": {
        "colab": {
          "base_uri": "https://localhost:8080/"
        },
        "id": "AA-wTDLvHcWb",
        "outputId": "667a0dc7-4d4d-4e72-b8e1-03eb0c1667ae"
      },
      "source": [
        "#get top features with highest magnitude shap values\n",
        "mean_shap = np.abs(shap_values.values).mean(0)\n",
        "\n",
        "#getting those indices where mean shap values is greater than 0\n",
        "imp_feat = np.argwhere(mean_shap>0)\n",
        "\n",
        "#getting those indices of mean_shap values descending\n",
        "vals_indice = np.argsort(mean_shap)[::-1] #descending\n",
        "\n",
        "#the features with high magnitude\n",
        "top_feat = x_train.columns[[i for i in vals_indice if i in imp_feat]]\n",
        "x_train_new = x_train.loc[:,top_feat].copy()\n",
        "x_test_new = x_test.loc[:,top_feat].copy()\n",
        "\n",
        "print(f\"No. of columns remove because of 0 mean Shapley Values: {len(imp_feat)}\")"
      ],
      "execution_count": 26,
      "outputs": [
        {
          "output_type": "stream",
          "name": "stdout",
          "text": [
            "No. of columns remove because of 0 mean Shapley Values: 16\n"
          ]
        }
      ]
    },
    {
      "cell_type": "code",
      "metadata": {
        "id": "vOGySxSjXAO4"
      },
      "source": [
        "def objective(trial,data=x_train_new,target=y_train):\n",
        "    param = {\n",
        "        #'tree_method':'gpu_hist',  # this parameter means using the GPU when training our model to speedup the training process\n",
        "        'colsample_bytree': trial.suggest_categorical('colsample_bytree', [0.3,0.4,0.5,0.6,0.7,0.8,0.9, 1.0]),\n",
        "        'subsample': trial.suggest_categorical('subsample', [0.4,0.5,0.6,0.7,0.8,1.0]),\n",
        "        'learning_rate': trial.suggest_categorical('learning_rate', [0.008,0.009,0.01,0.012,0.014,0.016,0.018, 0.02]),\n",
        "        'n_estimators': trial.suggest_int('n_estimators',100,1000),\n",
        "        'max_depth': trial.suggest_categorical('max_depth', [i+1 for i in range(9)]),\n",
        "        'random_state': 420,\n",
        "        'min_child_weight': trial.suggest_int('min_child_weight', 1, 300),\n",
        "        'scale_pos_weight': weight\n",
        "    }\n",
        "    model = xgb.XGBClassifier(**param)  \n",
        "    \n",
        "    cv = model_selection.RepeatedStratifiedKFold(n_splits=3, n_repeats=2, random_state=420)\n",
        "\n",
        "    scores = model_selection.cross_val_score(model, data, target, scoring=\"f1\", cv=cv, n_jobs=-1)\n",
        "    \n",
        "    return np.mean(scores)"
      ],
      "execution_count": 27,
      "outputs": []
    },
    {
      "cell_type": "code",
      "metadata": {
        "colab": {
          "base_uri": "https://localhost:8080/"
        },
        "id": "JEz_cZZ3T-S8",
        "outputId": "d9005fdd-0418-4bf7-985a-683fa1fcd1ac"
      },
      "source": [
        "study = optuna.create_study(direction='maximize')\n",
        "study.optimize(objective, n_trials=50)\n",
        "print('Number of finished trials:', len(study.trials))\n",
        "print('Best trial:', study.best_trial.params)"
      ],
      "execution_count": 28,
      "outputs": [
        {
          "output_type": "stream",
          "name": "stderr",
          "text": [
            "\u001b[32m[I 2021-10-16 18:32:09,872]\u001b[0m A new study created in memory with name: no-name-b539f7b0-67f9-4419-af52-551054b7edb5\u001b[0m\n",
            "\u001b[32m[I 2021-10-16 18:32:31,757]\u001b[0m Trial 0 finished with value: 0.6213830133596759 and parameters: {'colsample_bytree': 1.0, 'subsample': 0.6, 'learning_rate': 0.01, 'n_estimators': 798, 'max_depth': 9, 'min_child_weight': 21}. Best is trial 0 with value: 0.6213830133596759.\u001b[0m\n",
            "\u001b[32m[I 2021-10-16 18:32:36,973]\u001b[0m Trial 1 finished with value: 0.6024113079061394 and parameters: {'colsample_bytree': 0.5, 'subsample': 0.4, 'learning_rate': 0.02, 'n_estimators': 862, 'max_depth': 3, 'min_child_weight': 210}. Best is trial 0 with value: 0.6213830133596759.\u001b[0m\n",
            "\u001b[32m[I 2021-10-16 18:32:40,658]\u001b[0m Trial 2 finished with value: 0.6263031290780426 and parameters: {'colsample_bytree': 1.0, 'subsample': 0.5, 'learning_rate': 0.018, 'n_estimators': 360, 'max_depth': 2, 'min_child_weight': 36}. Best is trial 2 with value: 0.6263031290780426.\u001b[0m\n",
            "\u001b[32m[I 2021-10-16 18:32:43,560]\u001b[0m Trial 3 finished with value: 0.604194871455447 and parameters: {'colsample_bytree': 0.9, 'subsample': 0.5, 'learning_rate': 0.02, 'n_estimators': 323, 'max_depth': 3, 'min_child_weight': 252}. Best is trial 2 with value: 0.6263031290780426.\u001b[0m\n",
            "\u001b[32m[I 2021-10-16 18:32:50,037]\u001b[0m Trial 4 finished with value: 0.6238707422763333 and parameters: {'colsample_bytree': 0.8, 'subsample': 0.4, 'learning_rate': 0.008, 'n_estimators': 657, 'max_depth': 6, 'min_child_weight': 104}. Best is trial 2 with value: 0.6263031290780426.\u001b[0m\n",
            "\u001b[32m[I 2021-10-16 18:32:55,344]\u001b[0m Trial 5 finished with value: 0.6251763026591206 and parameters: {'colsample_bytree': 1.0, 'subsample': 0.4, 'learning_rate': 0.008, 'n_estimators': 544, 'max_depth': 2, 'min_child_weight': 72}. Best is trial 2 with value: 0.6263031290780426.\u001b[0m\n",
            "\u001b[32m[I 2021-10-16 18:32:59,159]\u001b[0m Trial 6 finished with value: 0.6212539778975369 and parameters: {'colsample_bytree': 1.0, 'subsample': 0.4, 'learning_rate': 0.01, 'n_estimators': 325, 'max_depth': 7, 'min_child_weight': 102}. Best is trial 2 with value: 0.6263031290780426.\u001b[0m\n",
            "\u001b[32m[I 2021-10-16 18:33:05,037]\u001b[0m Trial 7 finished with value: 0.6275810318335154 and parameters: {'colsample_bytree': 0.4, 'subsample': 0.6, 'learning_rate': 0.01, 'n_estimators': 797, 'max_depth': 2, 'min_child_weight': 51}. Best is trial 7 with value: 0.6275810318335154.\u001b[0m\n",
            "\u001b[32m[I 2021-10-16 18:33:18,082]\u001b[0m Trial 8 finished with value: 0.6280814915103125 and parameters: {'colsample_bytree': 0.8, 'subsample': 0.4, 'learning_rate': 0.008, 'n_estimators': 1000, 'max_depth': 4, 'min_child_weight': 38}. Best is trial 8 with value: 0.6280814915103125.\u001b[0m\n",
            "\u001b[32m[I 2021-10-16 18:33:24,157]\u001b[0m Trial 9 finished with value: 0.6291942827573586 and parameters: {'colsample_bytree': 0.7, 'subsample': 0.7, 'learning_rate': 0.016, 'n_estimators': 566, 'max_depth': 7, 'min_child_weight': 143}. Best is trial 9 with value: 0.6291942827573586.\u001b[0m\n",
            "\u001b[32m[I 2021-10-16 18:33:25,549]\u001b[0m Trial 10 finished with value: 0.6161009874522172 and parameters: {'colsample_bytree': 0.7, 'subsample': 0.7, 'learning_rate': 0.016, 'n_estimators': 121, 'max_depth': 8, 'min_child_weight': 173}. Best is trial 9 with value: 0.6291942827573586.\u001b[0m\n",
            "\u001b[32m[I 2021-10-16 18:33:32,709]\u001b[0m Trial 11 finished with value: 0.6212768033800057 and parameters: {'colsample_bytree': 0.7, 'subsample': 0.8, 'learning_rate': 0.014, 'n_estimators': 956, 'max_depth': 4, 'min_child_weight': 300}. Best is trial 9 with value: 0.6291942827573586.\u001b[0m\n",
            "\u001b[32m[I 2021-10-16 18:33:36,051]\u001b[0m Trial 12 finished with value: 0.618202209531113 and parameters: {'colsample_bytree': 0.6, 'subsample': 0.7, 'learning_rate': 0.009, 'n_estimators': 554, 'max_depth': 1, 'min_child_weight': 144}. Best is trial 9 with value: 0.6291942827573586.\u001b[0m\n",
            "\u001b[32m[I 2021-10-16 18:33:49,987]\u001b[0m Trial 13 finished with value: 0.6169833587836306 and parameters: {'colsample_bytree': 0.3, 'subsample': 0.7, 'learning_rate': 0.012, 'n_estimators': 996, 'max_depth': 7, 'min_child_weight': 5}. Best is trial 9 with value: 0.6291942827573586.\u001b[0m\n",
            "\u001b[32m[I 2021-10-16 18:33:57,378]\u001b[0m Trial 14 finished with value: 0.6254420153227939 and parameters: {'colsample_bytree': 0.8, 'subsample': 1.0, 'learning_rate': 0.016, 'n_estimators': 667, 'max_depth': 4, 'min_child_weight': 146}. Best is trial 9 with value: 0.6291942827573586.\u001b[0m\n",
            "\u001b[32m[I 2021-10-16 18:33:59,731]\u001b[0m Trial 15 finished with value: 0.6222260677398422 and parameters: {'colsample_bytree': 0.7, 'subsample': 1.0, 'learning_rate': 0.016, 'n_estimators': 172, 'max_depth': 5, 'min_child_weight': 98}. Best is trial 9 with value: 0.6291942827573586.\u001b[0m\n",
            "\u001b[32m[I 2021-10-16 18:34:04,551]\u001b[0m Trial 16 finished with value: 0.6214181769194878 and parameters: {'colsample_bytree': 0.8, 'subsample': 0.8, 'learning_rate': 0.008, 'n_estimators': 453, 'max_depth': 4, 'min_child_weight': 193}. Best is trial 9 with value: 0.6291942827573586.\u001b[0m\n",
            "\u001b[32m[I 2021-10-16 18:34:10,819]\u001b[0m Trial 17 finished with value: 0.621304405710453 and parameters: {'colsample_bytree': 0.9, 'subsample': 0.7, 'learning_rate': 0.018, 'n_estimators': 704, 'max_depth': 7, 'min_child_weight': 234}. Best is trial 9 with value: 0.6291942827573586.\u001b[0m\n",
            "\u001b[32m[I 2021-10-16 18:34:18,241]\u001b[0m Trial 18 finished with value: 0.6280524997008285 and parameters: {'colsample_bytree': 0.4, 'subsample': 0.4, 'learning_rate': 0.009, 'n_estimators': 883, 'max_depth': 6, 'min_child_weight': 80}. Best is trial 9 with value: 0.6291942827573586.\u001b[0m\n",
            "\u001b[32m[I 2021-10-16 18:34:21,235]\u001b[0m Trial 19 finished with value: 0.6216762249825077 and parameters: {'colsample_bytree': 0.3, 'subsample': 0.7, 'learning_rate': 0.012, 'n_estimators': 564, 'max_depth': 1, 'min_child_weight': 131}. Best is trial 9 with value: 0.6291942827573586.\u001b[0m\n",
            "\u001b[32m[I 2021-10-16 18:34:23,047]\u001b[0m Trial 20 finished with value: 0.6201087120507301 and parameters: {'colsample_bytree': 0.6, 'subsample': 1.0, 'learning_rate': 0.014, 'n_estimators': 213, 'max_depth': 9, 'min_child_weight': 275}. Best is trial 9 with value: 0.6291942827573586.\u001b[0m\n",
            "\u001b[32m[I 2021-10-16 18:34:30,671]\u001b[0m Trial 21 finished with value: 0.6270108263264108 and parameters: {'colsample_bytree': 0.4, 'subsample': 0.4, 'learning_rate': 0.009, 'n_estimators': 902, 'max_depth': 6, 'min_child_weight': 78}. Best is trial 9 with value: 0.6291942827573586.\u001b[0m\n",
            "\u001b[32m[I 2021-10-16 18:34:38,389]\u001b[0m Trial 22 finished with value: 0.6305897629606912 and parameters: {'colsample_bytree': 0.4, 'subsample': 0.4, 'learning_rate': 0.009, 'n_estimators': 806, 'max_depth': 6, 'min_child_weight': 57}. Best is trial 22 with value: 0.6305897629606912.\u001b[0m\n",
            "\u001b[32m[I 2021-10-16 18:34:46,779]\u001b[0m Trial 23 finished with value: 0.6284888903406537 and parameters: {'colsample_bytree': 0.5, 'subsample': 0.4, 'learning_rate': 0.008, 'n_estimators': 735, 'max_depth': 5, 'min_child_weight': 47}. Best is trial 22 with value: 0.6305897629606912.\u001b[0m\n",
            "\u001b[32m[I 2021-10-16 18:34:52,189]\u001b[0m Trial 24 finished with value: 0.6206237998483077 and parameters: {'colsample_bytree': 0.5, 'subsample': 0.4, 'learning_rate': 0.009, 'n_estimators': 686, 'max_depth': 5, 'min_child_weight': 122}. Best is trial 22 with value: 0.6305897629606912.\u001b[0m\n",
            "\u001b[32m[I 2021-10-16 18:35:01,719]\u001b[0m Trial 25 finished with value: 0.6263043919922048 and parameters: {'colsample_bytree': 0.5, 'subsample': 0.8, 'learning_rate': 0.016, 'n_estimators': 754, 'max_depth': 5, 'min_child_weight': 61}. Best is trial 22 with value: 0.6305897629606912.\u001b[0m\n",
            "\u001b[32m[I 2021-10-16 18:35:06,290]\u001b[0m Trial 26 finished with value: 0.6228286639744626 and parameters: {'colsample_bytree': 0.5, 'subsample': 0.5, 'learning_rate': 0.016, 'n_estimators': 608, 'max_depth': 8, 'min_child_weight': 169}. Best is trial 22 with value: 0.6305897629606912.\u001b[0m\n",
            "\u001b[32m[I 2021-10-16 18:35:14,558]\u001b[0m Trial 27 finished with value: 0.6247567648314066 and parameters: {'colsample_bytree': 0.7, 'subsample': 0.6, 'learning_rate': 0.009, 'n_estimators': 465, 'max_depth': 5, 'min_child_weight': 12}. Best is trial 22 with value: 0.6305897629606912.\u001b[0m\n",
            "\u001b[32m[I 2021-10-16 18:35:24,487]\u001b[0m Trial 28 finished with value: 0.627670406632103 and parameters: {'colsample_bytree': 0.4, 'subsample': 0.7, 'learning_rate': 0.008, 'n_estimators': 760, 'max_depth': 6, 'min_child_weight': 42}. Best is trial 22 with value: 0.6305897629606912.\u001b[0m\n",
            "\u001b[32m[I 2021-10-16 18:35:36,819]\u001b[0m Trial 29 finished with value: 0.6223085279632361 and parameters: {'colsample_bytree': 0.4, 'subsample': 0.6, 'learning_rate': 0.014, 'n_estimators': 834, 'max_depth': 7, 'min_child_weight': 24}. Best is trial 22 with value: 0.6305897629606912.\u001b[0m\n",
            "\u001b[32m[I 2021-10-16 18:35:40,751]\u001b[0m Trial 30 finished with value: 0.6245410942740957 and parameters: {'colsample_bytree': 0.5, 'subsample': 0.4, 'learning_rate': 0.02, 'n_estimators': 493, 'max_depth': 9, 'min_child_weight': 112}. Best is trial 22 with value: 0.6305897629606912.\u001b[0m\n",
            "\u001b[32m[I 2021-10-16 18:35:53,410]\u001b[0m Trial 31 finished with value: 0.6274681892174705 and parameters: {'colsample_bytree': 0.8, 'subsample': 0.4, 'learning_rate': 0.008, 'n_estimators': 936, 'max_depth': 4, 'min_child_weight': 29}. Best is trial 22 with value: 0.6305897629606912.\u001b[0m\n",
            "\u001b[32m[I 2021-10-16 18:36:02,232]\u001b[0m Trial 32 finished with value: 0.6285365761998715 and parameters: {'colsample_bytree': 0.8, 'subsample': 0.4, 'learning_rate': 0.008, 'n_estimators': 824, 'max_depth': 3, 'min_child_weight': 65}. Best is trial 22 with value: 0.6305897629606912.\u001b[0m\n",
            "\u001b[32m[I 2021-10-16 18:36:10,417]\u001b[0m Trial 33 finished with value: 0.6275054251448907 and parameters: {'colsample_bytree': 0.7, 'subsample': 0.4, 'learning_rate': 0.008, 'n_estimators': 819, 'max_depth': 3, 'min_child_weight': 81}. Best is trial 22 with value: 0.6305897629606912.\u001b[0m\n",
            "\u001b[32m[I 2021-10-16 18:36:18,936]\u001b[0m Trial 34 finished with value: 0.6271571892484601 and parameters: {'colsample_bytree': 0.9, 'subsample': 0.4, 'learning_rate': 0.018, 'n_estimators': 743, 'max_depth': 3, 'min_child_weight': 59}. Best is trial 22 with value: 0.6305897629606912.\u001b[0m\n",
            "\u001b[32m[I 2021-10-16 18:36:24,768]\u001b[0m Trial 35 finished with value: 0.6262697187424439 and parameters: {'colsample_bytree': 0.5, 'subsample': 0.5, 'learning_rate': 0.008, 'n_estimators': 608, 'max_depth': 3, 'min_child_weight': 92}. Best is trial 22 with value: 0.6305897629606912.\u001b[0m\n",
            "\u001b[32m[I 2021-10-16 18:36:30,315]\u001b[0m Trial 36 finished with value: 0.5962581896837401 and parameters: {'colsample_bytree': 0.8, 'subsample': 0.4, 'learning_rate': 0.02, 'n_estimators': 858, 'max_depth': 6, 'min_child_weight': 224}. Best is trial 22 with value: 0.6305897629606912.\u001b[0m\n",
            "\u001b[32m[I 2021-10-16 18:36:35,414]\u001b[0m Trial 37 finished with value: 0.6271810199771715 and parameters: {'colsample_bytree': 1.0, 'subsample': 0.4, 'learning_rate': 0.01, 'n_estimators': 382, 'max_depth': 3, 'min_child_weight': 1}. Best is trial 22 with value: 0.6305897629606912.\u001b[0m\n",
            "\u001b[32m[I 2021-10-16 18:36:43,832]\u001b[0m Trial 38 finished with value: 0.6280037575126224 and parameters: {'colsample_bytree': 0.6, 'subsample': 0.4, 'learning_rate': 0.008, 'n_estimators': 795, 'max_depth': 7, 'min_child_weight': 65}. Best is trial 22 with value: 0.6305897629606912.\u001b[0m\n",
            "\u001b[32m[I 2021-10-16 18:36:48,112]\u001b[0m Trial 39 finished with value: 0.6270988097257552 and parameters: {'colsample_bytree': 0.3, 'subsample': 0.5, 'learning_rate': 0.012, 'n_estimators': 635, 'max_depth': 2, 'min_child_weight': 122}. Best is trial 22 with value: 0.6305897629606912.\u001b[0m\n",
            "\u001b[32m[I 2021-10-16 18:36:56,514]\u001b[0m Trial 40 finished with value: 0.626603762774108 and parameters: {'colsample_bytree': 0.4, 'subsample': 0.7, 'learning_rate': 0.016, 'n_estimators': 710, 'max_depth': 5, 'min_child_weight': 49}. Best is trial 22 with value: 0.6305897629606912.\u001b[0m\n",
            "\u001b[32m[I 2021-10-16 18:37:08,723]\u001b[0m Trial 41 finished with value: 0.627320373002518 and parameters: {'colsample_bytree': 0.8, 'subsample': 0.4, 'learning_rate': 0.008, 'n_estimators': 933, 'max_depth': 4, 'min_child_weight': 38}. Best is trial 22 with value: 0.6305897629606912.\u001b[0m\n",
            "\u001b[32m[I 2021-10-16 18:37:24,202]\u001b[0m Trial 42 finished with value: 0.6254540763922914 and parameters: {'colsample_bytree': 0.8, 'subsample': 0.4, 'learning_rate': 0.008, 'n_estimators': 866, 'max_depth': 8, 'min_child_weight': 23}. Best is trial 22 with value: 0.6305897629606912.\u001b[0m\n",
            "\u001b[32m[I 2021-10-16 18:37:30,274]\u001b[0m Trial 43 finished with value: 0.6247430997160611 and parameters: {'colsample_bytree': 0.8, 'subsample': 0.4, 'learning_rate': 0.008, 'n_estimators': 981, 'max_depth': 1, 'min_child_weight': 50}. Best is trial 22 with value: 0.6305897629606912.\u001b[0m\n",
            "\u001b[32m[I 2021-10-16 18:37:36,356]\u001b[0m Trial 44 finished with value: 0.6211850673659968 and parameters: {'colsample_bytree': 0.7, 'subsample': 0.4, 'learning_rate': 0.008, 'n_estimators': 786, 'max_depth': 6, 'min_child_weight': 167}. Best is trial 22 with value: 0.6305897629606912.\u001b[0m\n",
            "\u001b[32m[I 2021-10-16 18:37:48,465]\u001b[0m Trial 45 finished with value: 0.6257419247982483 and parameters: {'colsample_bytree': 0.8, 'subsample': 0.6, 'learning_rate': 0.009, 'n_estimators': 918, 'max_depth': 7, 'min_child_weight': 87}. Best is trial 22 with value: 0.6305897629606912.\u001b[0m\n",
            "\u001b[32m[I 2021-10-16 18:37:58,946]\u001b[0m Trial 46 finished with value: 0.6252593032869443 and parameters: {'colsample_bytree': 1.0, 'subsample': 0.8, 'learning_rate': 0.01, 'n_estimators': 839, 'max_depth': 3, 'min_child_weight': 15}. Best is trial 22 with value: 0.6305897629606912.\u001b[0m\n",
            "\u001b[32m[I 2021-10-16 18:38:08,144]\u001b[0m Trial 47 finished with value: 0.6227054095078522 and parameters: {'colsample_bytree': 0.9, 'subsample': 1.0, 'learning_rate': 0.018, 'n_estimators': 726, 'max_depth': 4, 'min_child_weight': 35}. Best is trial 22 with value: 0.6305897629606912.\u001b[0m\n",
            "\u001b[32m[I 2021-10-16 18:38:16,574]\u001b[0m Trial 48 finished with value: 0.6252317239835326 and parameters: {'colsample_bytree': 0.7, 'subsample': 0.7, 'learning_rate': 0.008, 'n_estimators': 995, 'max_depth': 2, 'min_child_weight': 68}. Best is trial 22 with value: 0.6305897629606912.\u001b[0m\n",
            "\u001b[32m[I 2021-10-16 18:38:20,686]\u001b[0m Trial 49 finished with value: 0.6149822747112627 and parameters: {'colsample_bytree': 0.8, 'subsample': 0.4, 'learning_rate': 0.016, 'n_estimators': 521, 'max_depth': 5, 'min_child_weight': 192}. Best is trial 22 with value: 0.6305897629606912.\u001b[0m\n"
          ]
        },
        {
          "output_type": "stream",
          "name": "stdout",
          "text": [
            "Number of finished trials: 50\n",
            "Best trial: {'colsample_bytree': 0.4, 'subsample': 0.4, 'learning_rate': 0.009, 'n_estimators': 806, 'max_depth': 6, 'min_child_weight': 57}\n"
          ]
        }
      ]
    },
    {
      "cell_type": "code",
      "metadata": {
        "id": "LEGJLH5ZX9J0"
      },
      "source": [
        "model_name = \"XGBoost (top features)\"\n",
        "params[model_name] = study.best_params\n",
        "params[model_name]['scale_pos_weight'] = weight\n",
        "params[model_name]['random_state'] = 420\n",
        "model = xgb.XGBClassifier(**params[model_name])\n",
        "cv = model_selection.RepeatedStratifiedKFold(n_splits=3, n_repeats=2, random_state=420)"
      ],
      "execution_count": 29,
      "outputs": []
    },
    {
      "cell_type": "code",
      "metadata": {
        "colab": {
          "base_uri": "https://localhost:8080/"
        },
        "id": "ZCHqj9hBX9J2",
        "outputId": "ad0c903a-2ab1-4390-f0bd-03ade5f5f3d5"
      },
      "source": [
        "for score in [\"roc_auc\", \"f1\", \"precision\", \"recall\"]:\n",
        "  scores = model_selection.cross_val_score(model, x_train_new,\n",
        "                                           y_train, scoring=score, cv=cv, n_jobs=-1)\n",
        "  print(f\"Mean {score}: {np.mean(scores):.2f}\")"
      ],
      "execution_count": 30,
      "outputs": [
        {
          "output_type": "stream",
          "name": "stdout",
          "text": [
            "Mean roc_auc: 0.84\n",
            "Mean f1: 0.63\n",
            "Mean precision: 0.53\n",
            "Mean recall: 0.78\n"
          ]
        }
      ]
    },
    {
      "cell_type": "code",
      "metadata": {
        "colab": {
          "base_uri": "https://localhost:8080/",
          "height": 405
        },
        "id": "vYOEw04UX9J3",
        "outputId": "a983056f-974b-493c-a5fc-8e07ac185c8f"
      },
      "source": [
        "model.fit(x_train_new,y_test)\n",
        "y_pred = model.predict(x_test_new)\n",
        "y_pred_proba = model.predict_proba(x_test_new)[:,1]\n",
        "\n",
        "aoc = metrics.roc_auc_score(y_test,y_pred_proba)\n",
        "f1 = metrics.f1_score(y_test,y_pred)\n",
        "precision = metrics.precision_score(y_test,y_pred)\n",
        "recall = metrics.recall_score(y_test,y_pred)\n",
        "print(\"Model performance on Test data\")\n",
        "print(\"-\"*35)\n",
        "print(f\"aoc: {aoc:.2}\")\n",
        "print(f\"f1: {f1:.2}\")\n",
        "print(f\"precision: {precision:.2}\")\n",
        "print(f\"recall: {recall:.2}\")\n",
        "\n",
        "import matplotlib.pyplot as plt\n",
        "import seaborn as sns\n",
        "\n",
        "sns.heatmap(metrics.confusion_matrix(y_test,y_pred),\n",
        "annot=True,\n",
        "cmap='Blues',\n",
        "fmt = 'd',\n",
        "xticklabels=['No', 'Yes'],\n",
        "yticklabels=['No', 'Yes']\n",
        ")\n",
        "plt.xlabel('Predicted')\n",
        "plt.ylabel('True')\n",
        "plt.title('Confustion Matrix for test data')\n",
        "plt.show()"
      ],
      "execution_count": 31,
      "outputs": [
        {
          "output_type": "stream",
          "name": "stdout",
          "text": [
            "Model performance on Test data\n",
            "-----------------------------------\n",
            "aoc: 0.86\n",
            "f1: 0.65\n",
            "precision: 0.54\n",
            "recall: 0.82\n"
          ]
        },
        {
          "output_type": "display_data",
          "data": {
            "image/png": "[encoded data removed]",
            "text/plain": [
              "<Figure size 432x288 with 2 Axes>"
            ]
          },
          "metadata": {
            "needs_background": "light"
          }
        }
      ]
    },
    {
      "cell_type": "code",
      "metadata": {
        "colab": {
          "base_uri": "https://localhost:8080/",
          "height": 112
        },
        "id": "v5PD_SXfcqrA",
        "outputId": "7d79c2ec-d23d-4227-ce7a-3c13537078b0"
      },
      "source": [
        "\n",
        "\n",
        "model_perf = model_perf.append(\n",
        "   dict( zip(model_perf.columns,[\n",
        "     model_name,\n",
        "     aoc,\n",
        "     f1,\n",
        "     precision,\n",
        "    recall\n",
        "    ])),\n",
        "    ignore_index=True\n",
        ")\n",
        "model_perf.sort_values(by='test f1',ascending=False,inplace=True)\n",
        "model_perf\n"
      ],
      "execution_count": 32,
      "outputs": [
        {
          "output_type": "execute_result",
          "data": {
            "text/html": [
              "<div>\n",
              "<style scoped>\n",
              "    .dataframe tbody tr th:only-of-type {\n",
              "        vertical-align: middle;\n",
              "    }\n",
              "\n",
              "    .dataframe tbody tr th {\n",
              "        vertical-align: top;\n",
              "    }\n",
              "\n",
              "    .dataframe thead th {\n",
              "        text-align: right;\n",
              "    }\n",
              "</style>\n",
              "<table border=\"1\" class=\"dataframe\">\n",
              "  <thead>\n",
              "    <tr style=\"text-align: right;\">\n",
              "      <th></th>\n",
              "      <th>Model</th>\n",
              "      <th>test auc</th>\n",
              "      <th>test f1</th>\n",
              "      <th>test precision</th>\n",
              "      <th>test recall</th>\n",
              "    </tr>\n",
              "  </thead>\n",
              "  <tbody>\n",
              "    <tr>\n",
              "      <th>1</th>\n",
              "      <td>XGBoost (top features)</td>\n",
              "      <td>0.857752</td>\n",
              "      <td>0.646513</td>\n",
              "      <td>0.535589</td>\n",
              "      <td>0.815385</td>\n",
              "    </tr>\n",
              "    <tr>\n",
              "      <th>0</th>\n",
              "      <td>XGBoost (all features)</td>\n",
              "      <td>0.860100</td>\n",
              "      <td>0.645855</td>\n",
              "      <td>0.531290</td>\n",
              "      <td>0.823411</td>\n",
              "    </tr>\n",
              "  </tbody>\n",
              "</table>\n",
              "</div>"
            ],
            "text/plain": [
              "                    Model  test auc   test f1  test precision  test recall\n",
              "1  XGBoost (top features)  0.857752  0.646513        0.535589     0.815385\n",
              "0  XGBoost (all features)  0.860100  0.645855        0.531290     0.823411"
            ]
          },
          "metadata": {},
          "execution_count": 32
        }
      ]
    },
    {
      "cell_type": "code",
      "metadata": {
        "id": "cH_0K9e1blq_"
      },
      "source": [
        "# model = xgb.XGBoost(\n",
        "#     **params[model_perf[\"Model\"].values[0]] #first element has the highest test f1\n",
        "# )\n",
        "\n",
        "# explain the model's predictions using SHAP\n",
        "explainer = shap.Explainer(model)\n",
        "shap_values = explainer(x_train_new)"
      ],
      "execution_count": 34,
      "outputs": []
    },
    {
      "cell_type": "code",
      "metadata": {
        "colab": {
          "base_uri": "https://localhost:8080/",
          "height": 411
        },
        "id": "Pd6f-rYebm-e",
        "outputId": "57cd7f15-7d63-4566-acfa-dcc70d53d502"
      },
      "source": [
        "shap.summary_plot(shap_values,max_display = 12)"
      ],
      "execution_count": 35,
      "outputs": [
        {
          "output_type": "display_data",
          "data": {
            "image/png": "[encoded data removed]",
            "text/plain": [
              "<Figure size 576x453.6 with 2 Axes>"
            ]
          },
          "metadata": {
            "needs_background": "light"
          }
        }
      ]
    },
    {
      "cell_type": "code",
      "metadata": {
        "id": "-PV7ui2DZjRB"
      },
      "source": [
        "#save the best model object to a file\n",
        "# with open(os.path.join(MAIN_FOLDER,'model/best_model.pkl'),'wb') as f:\n",
        "#     joblib.dump(model,f)"
      ],
      "execution_count": 37,
      "outputs": []
    },
    {
      "cell_type": "markdown",
      "metadata": {
        "id": "eLrhpwXQEG68"
      },
      "source": [
        "# Model inferencing using SHAP (SHapley Additive exPlanations)\n",
        "\n",
        "Interesting inference observations from the above chart (Note: The feature importance are in descending order):\n",
        "*   Here `Contract` is the most important feature for the model and `SeniorCitizen` is the least important feature out of the shown features.\n",
        "*   Customer who were on `Month-to-Month` Contract are more likely to churn than those who were on `One Year` Contract and `Two Year` Contract.\n",
        "*   Also as the value for `tenure` increases, the probability of churn for a specific customer decreases. Most of the customers who churned were recently joined.\n",
        "*   People who were on `Fiber optic` connection were more likely to churn than others. The company should investigate the quality of the fiber optic service they offer.\n",
        "* People who did not opt for `OnlineSecurity` had a higher churn rate.\n",
        "*   People who had high `MonthlyCharges` are more likely to churn. All of the customers who had low `MonthlyCharges` did not churn.\n",
        "* Customers who did not opt for `TechSupport` service had a higher churn rate.\n",
        "*   Customers who paid by `Electronic check` were more likely to churn than others (`Bank transfer (automatic)`, `Credit card (automatic)`,`Mailed check` )[`PaymentMethod` feature].\n",
        "*   Customers who had signed for `Online Security` service were less likely to churn than those who did not.\n",
        "*   People who had signed for `TechSupport` service were less likely to churn than those who did not."
      ]
    },
    {
      "cell_type": "code",
      "metadata": {
        "colab": {
          "base_uri": "https://localhost:8080/"
        },
        "id": "_2Cz1Ij8b7pr",
        "outputId": "5be8ca77-68c8-4881-f2cc-50db549904e6"
      },
      "source": [
        "resp_enc.master_dict"
      ],
      "execution_count": null,
      "outputs": [
        {
          "data": {
            "text/plain": [
              "{'Contract': {'Month-to-month': 0.43,\n",
              "  'One year': 0.11,\n",
              "  'Two year': 0.03,\n",
              "  'UNK': 0.5},\n",
              " 'Dependents': {'No': 0.31, 'UNK': 0.5, 'Yes': 0.15},\n",
              " 'DeviceProtection': {'No': 0.39,\n",
              "  'No internet service': 0.07,\n",
              "  'UNK': 0.5,\n",
              "  'Yes': 0.23},\n",
              " 'InternetService': {'DSL': 0.19, 'Fiber optic': 0.42, 'No': 0.07, 'UNK': 0.5},\n",
              " 'MultipleLines': {'No': 0.25,\n",
              "  'No phone service': 0.26,\n",
              "  'UNK': 0.5,\n",
              "  'Yes': 0.29},\n",
              " 'OnlineBackup': {'No': 0.4,\n",
              "  'No internet service': 0.07,\n",
              "  'UNK': 0.5,\n",
              "  'Yes': 0.22},\n",
              " 'OnlineSecurity': {'No': 0.41,\n",
              "  'No internet service': 0.07,\n",
              "  'UNK': 0.5,\n",
              "  'Yes': 0.15},\n",
              " 'PaperlessBilling': {'No': 0.17, 'UNK': 0.5, 'Yes': 0.33},\n",
              " 'Partner': {'No': 0.33, 'UNK': 0.5, 'Yes': 0.2},\n",
              " 'PaymentMethod': {'Bank transfer (automatic)': 0.17,\n",
              "  'Credit card (automatic)': 0.15,\n",
              "  'Electronic check': 0.46,\n",
              "  'Mailed check': 0.19,\n",
              "  'UNK': 0.5},\n",
              " 'StreamingMovies': {'No': 0.33,\n",
              "  'No internet service': 0.07,\n",
              "  'UNK': 0.5,\n",
              "  'Yes': 0.31},\n",
              " 'StreamingTV': {'No': 0.34,\n",
              "  'No internet service': 0.07,\n",
              "  'UNK': 0.5,\n",
              "  'Yes': 0.3},\n",
              " 'TechSupport': {'No': 0.41,\n",
              "  'No internet service': 0.07,\n",
              "  'UNK': 0.5,\n",
              "  'Yes': 0.16}}"
            ]
          },
          "execution_count": 69,
          "metadata": {},
          "output_type": "execute_result"
        }
      ]
    },
    {
      "cell_type": "code",
      "metadata": {
        "colab": {
          "base_uri": "https://localhost:8080/"
        },
        "id": "KUSJG-AFcKT9",
        "outputId": "59cf264d-f90a-42c0-d70e-b33b905aee26"
      },
      "source": [
        "top_feat"
      ],
      "execution_count": null,
      "outputs": [
        {
          "data": {
            "text/plain": [
              "Index(['Contract', 'tenure', 'InternetService', 'OnlineSecurity',\n",
              "       'PaymentMethod', 'TechSupport', 'MonthlyCharges', 'OnlineBackup',\n",
              "       'PaperlessBilling', 'DeviceProtection', 'Dependents', 'MultipleLines',\n",
              "       'Partner', 'StreamingMovies', 'SeniorCitizen', 'StreamingTV'],\n",
              "      dtype='object')"
            ]
          },
          "execution_count": 70,
          "metadata": {},
          "output_type": "execute_result"
        }
      ]
    },
    {
      "cell_type": "markdown",
      "metadata": {
        "id": "WGqKHxKXEG69"
      },
      "source": [
        "# Next Steps\n",
        "\n",
        "* Produce python scripts to ensure future training can be done smoothly and can be reproduced.\n",
        "* Create a web application to visualize the results and also predict the results."
      ]
    }
  ]
}