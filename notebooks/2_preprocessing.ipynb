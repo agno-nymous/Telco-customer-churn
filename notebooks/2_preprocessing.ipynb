{
  "cells": [
    {
      "cell_type": "code",
      "execution_count": 1,
      "metadata": {
        "id": "IjQ4ZitSRukF"
      },
      "outputs": [],
      "source": [
        "MAIN_FOLDER = '.'"
      ]
    },
    {
      "cell_type": "code",
      "execution_count": 2,
      "metadata": {
        "id": "tMTjeSMrIf_J"
      },
      "outputs": [],
      "source": [
        "import pandas as pd\n",
        "import numpy as np\n",
        "import joblib\n",
        "import os\n",
        "\n",
        "\n",
        "#import all models\n",
        "from sklearn.linear_model import LogisticRegression\n",
        "from sklearn.tree import DecisionTreeClassifier\n",
        "from sklearn.ensemble import RandomForestClassifier\n",
        "import sklearn.model_selection as model_selection\n",
        "import xgboost as xgb\n",
        "import lightgbm as lgb\n",
        "\n",
        "#import all metrics\n",
        "import sklearn.metrics as metrics\n",
        "\n",
        "import warnings\n",
        "warnings.filterwarnings('ignore')\n",
        "import os\n",
        "os.environ['KMP_DUPLICATE_LIB_OK']='True'"
      ]
    },
    {
      "cell_type": "code",
      "execution_count": 35,
      "metadata": {
        "colab": {
          "base_uri": "https://localhost:8080/"
        },
        "id": "IGAeCwPdIf_O",
        "outputId": "4e67893c-b5b7-48f7-bb05-2d0aa6fb5c73"
      },
      "outputs": [
        {
          "data": {
            "text/plain": [
              "((5634, 17), (5634, 17))"
            ]
          },
          "execution_count": 35,
          "metadata": {},
          "output_type": "execute_result"
        }
      ],
      "source": [
        "\n",
        "#read data\n",
        "train = pd.read_csv(os.path.join(MAIN_FOLDER,\"data/train.csv\"))\n",
        "test = pd.read_csv(os.path.join(MAIN_FOLDER,\"data/train.csv\"))\n",
        "\n",
        "train.shape, test.shape"
      ]
    },
    {
      "cell_type": "code",
      "execution_count": 36,
      "metadata": {
        "colab": {
          "base_uri": "https://localhost:8080/",
          "height": 313
        },
        "id": "0BAY0j_ZIf_P",
        "outputId": "d4fdabda-0108-43ec-d862-e6d3a85b57c5"
      },
      "outputs": [
        {
          "data": {
            "text/html": [
              "<div>\n",
              "<style scoped>\n",
              "    .dataframe tbody tr th:only-of-type {\n",
              "        vertical-align: middle;\n",
              "    }\n",
              "\n",
              "    .dataframe tbody tr th {\n",
              "        vertical-align: top;\n",
              "    }\n",
              "\n",
              "    .dataframe thead th {\n",
              "        text-align: right;\n",
              "    }\n",
              "</style>\n",
              "<table border=\"1\" class=\"dataframe\">\n",
              "  <thead>\n",
              "    <tr style=\"text-align: right;\">\n",
              "      <th></th>\n",
              "      <th>SeniorCitizen</th>\n",
              "      <th>Partner</th>\n",
              "      <th>Dependents</th>\n",
              "      <th>tenure</th>\n",
              "      <th>MultipleLines</th>\n",
              "      <th>InternetService</th>\n",
              "      <th>OnlineSecurity</th>\n",
              "      <th>OnlineBackup</th>\n",
              "      <th>DeviceProtection</th>\n",
              "      <th>TechSupport</th>\n",
              "      <th>StreamingTV</th>\n",
              "      <th>StreamingMovies</th>\n",
              "      <th>Contract</th>\n",
              "      <th>PaperlessBilling</th>\n",
              "      <th>PaymentMethod</th>\n",
              "      <th>MonthlyCharges</th>\n",
              "      <th>Churn</th>\n",
              "    </tr>\n",
              "  </thead>\n",
              "  <tbody>\n",
              "    <tr>\n",
              "      <th>0</th>\n",
              "      <td>0</td>\n",
              "      <td>Yes</td>\n",
              "      <td>Yes</td>\n",
              "      <td>43</td>\n",
              "      <td>No</td>\n",
              "      <td>DSL</td>\n",
              "      <td>No</td>\n",
              "      <td>Yes</td>\n",
              "      <td>No</td>\n",
              "      <td>No</td>\n",
              "      <td>No</td>\n",
              "      <td>No</td>\n",
              "      <td>Month-to-month</td>\n",
              "      <td>No</td>\n",
              "      <td>Mailed check</td>\n",
              "      <td>50.20</td>\n",
              "      <td>0</td>\n",
              "    </tr>\n",
              "    <tr>\n",
              "      <th>1</th>\n",
              "      <td>0</td>\n",
              "      <td>Yes</td>\n",
              "      <td>Yes</td>\n",
              "      <td>37</td>\n",
              "      <td>Yes</td>\n",
              "      <td>Fiber optic</td>\n",
              "      <td>No</td>\n",
              "      <td>Yes</td>\n",
              "      <td>Yes</td>\n",
              "      <td>No</td>\n",
              "      <td>No</td>\n",
              "      <td>Yes</td>\n",
              "      <td>Month-to-month</td>\n",
              "      <td>Yes</td>\n",
              "      <td>Electronic check</td>\n",
              "      <td>95.15</td>\n",
              "      <td>0</td>\n",
              "    </tr>\n",
              "    <tr>\n",
              "      <th>2</th>\n",
              "      <td>0</td>\n",
              "      <td>No</td>\n",
              "      <td>No</td>\n",
              "      <td>35</td>\n",
              "      <td>Yes</td>\n",
              "      <td>DSL</td>\n",
              "      <td>Yes</td>\n",
              "      <td>No</td>\n",
              "      <td>Yes</td>\n",
              "      <td>Yes</td>\n",
              "      <td>Yes</td>\n",
              "      <td>Yes</td>\n",
              "      <td>One year</td>\n",
              "      <td>Yes</td>\n",
              "      <td>Credit card (automatic)</td>\n",
              "      <td>85.95</td>\n",
              "      <td>1</td>\n",
              "    </tr>\n",
              "    <tr>\n",
              "      <th>3</th>\n",
              "      <td>0</td>\n",
              "      <td>Yes</td>\n",
              "      <td>No</td>\n",
              "      <td>69</td>\n",
              "      <td>No phone service</td>\n",
              "      <td>DSL</td>\n",
              "      <td>Yes</td>\n",
              "      <td>No</td>\n",
              "      <td>Yes</td>\n",
              "      <td>Yes</td>\n",
              "      <td>Yes</td>\n",
              "      <td>Yes</td>\n",
              "      <td>Two year</td>\n",
              "      <td>No</td>\n",
              "      <td>Bank transfer (automatic)</td>\n",
              "      <td>60.25</td>\n",
              "      <td>0</td>\n",
              "    </tr>\n",
              "    <tr>\n",
              "      <th>4</th>\n",
              "      <td>0</td>\n",
              "      <td>Yes</td>\n",
              "      <td>Yes</td>\n",
              "      <td>69</td>\n",
              "      <td>No</td>\n",
              "      <td>No</td>\n",
              "      <td>No internet service</td>\n",
              "      <td>No internet service</td>\n",
              "      <td>No internet service</td>\n",
              "      <td>No internet service</td>\n",
              "      <td>No internet service</td>\n",
              "      <td>No internet service</td>\n",
              "      <td>Two year</td>\n",
              "      <td>No</td>\n",
              "      <td>Bank transfer (automatic)</td>\n",
              "      <td>20.20</td>\n",
              "      <td>0</td>\n",
              "    </tr>\n",
              "  </tbody>\n",
              "</table>\n",
              "</div>"
            ],
            "text/plain": [
              "   SeniorCitizen Partner  ... MonthlyCharges  Churn\n",
              "0              0     Yes  ...          50.20      0\n",
              "1              0     Yes  ...          95.15      0\n",
              "2              0      No  ...          85.95      1\n",
              "3              0     Yes  ...          60.25      0\n",
              "4              0     Yes  ...          20.20      0\n",
              "\n",
              "[5 rows x 17 columns]"
            ]
          },
          "execution_count": 36,
          "metadata": {},
          "output_type": "execute_result"
        }
      ],
      "source": [
        "train.head()"
      ]
    },
    {
      "cell_type": "code",
      "execution_count": 37,
      "metadata": {
        "colab": {
          "base_uri": "https://localhost:8080/"
        },
        "id": "2EevXoDfIf_Q",
        "outputId": "6348a53a-c6c1-4a2b-cad1-54e5065b7e97"
      },
      "outputs": [
        {
          "name": "stdout",
          "output_type": "stream",
          "text": [
            "<class 'pandas.core.frame.DataFrame'>\n",
            "RangeIndex: 5634 entries, 0 to 5633\n",
            "Data columns (total 17 columns):\n",
            " #   Column            Non-Null Count  Dtype  \n",
            "---  ------            --------------  -----  \n",
            " 0   SeniorCitizen     5634 non-null   int64  \n",
            " 1   Partner           5634 non-null   object \n",
            " 2   Dependents        5634 non-null   object \n",
            " 3   tenure            5634 non-null   int64  \n",
            " 4   MultipleLines     5634 non-null   object \n",
            " 5   InternetService   5634 non-null   object \n",
            " 6   OnlineSecurity    5634 non-null   object \n",
            " 7   OnlineBackup      5634 non-null   object \n",
            " 8   DeviceProtection  5634 non-null   object \n",
            " 9   TechSupport       5634 non-null   object \n",
            " 10  StreamingTV       5634 non-null   object \n",
            " 11  StreamingMovies   5634 non-null   object \n",
            " 12  Contract          5634 non-null   object \n",
            " 13  PaperlessBilling  5634 non-null   object \n",
            " 14  PaymentMethod     5634 non-null   object \n",
            " 15  MonthlyCharges    5634 non-null   float64\n",
            " 16  Churn             5634 non-null   int64  \n",
            "dtypes: float64(1), int64(3), object(13)\n",
            "memory usage: 748.4+ KB\n"
          ]
        }
      ],
      "source": [
        "train.info()"
      ]
    },
    {
      "cell_type": "markdown",
      "metadata": {
        "id": "-UrLEDLdRn7f"
      },
      "source": [
        "Get those columns which are of object type and those columns which are of int type"
      ]
    },
    {
      "cell_type": "code",
      "execution_count": 38,
      "metadata": {
        "id": "VldUAEmOIf_Q"
      },
      "outputs": [],
      "source": [
        "get_obj_cols = [col for col in train.columns if train[col].dtype == 'object']\n",
        "get_int_cols = [col for col in train.columns if train[col].dtype != 'object']"
      ]
    },
    {
      "cell_type": "markdown",
      "metadata": {
        "id": "1gir00G3If_Q"
      },
      "source": [
        "# Response Encoding\n",
        "\n",
        "[More info check this link](https://medium.com/@thewingedwolf.winterfell/response-coding-for-categorical-data-7bb8916c6dc1)"
      ]
    },
    {
      "cell_type": "markdown",
      "metadata": {
        "id": "V3COZZUTRn7h"
      },
      "source": [
        "We will response encode the categorical data instead of using one hot encoding the categorical data. The below is the code for that."
      ]
    },
    {
      "cell_type": "code",
      "execution_count": 39,
      "metadata": {
        "id": "xXw0zWCMIf_S"
      },
      "outputs": [],
      "source": [
        "#create a class response_encoding which fit and transform the categorical columns\n",
        "\n",
        "class response_encoding:\n",
        "  \"\"\"\n",
        "  This function is used to fit and transform the dataframe in one go.\n",
        "  This is only made for binary classification problems.\n",
        "  \"\"\"\n",
        "  def __init__(self,cols,target = 'Churn',alpha = 0, target_value = 1):\n",
        "    \"\"\"\n",
        "    Parameters:\n",
        "    -----------\n",
        "    cols: list of categorical columns\n",
        "    target: the target column\n",
        "    alpha: the smoothing parameter\n",
        "    target_value: the target value\n",
        "    \"\"\"\n",
        "    self.cols = cols\n",
        "    self.master_dict = {} #storing the original values\n",
        "    self.alpha = alpha #smoothing parameter\n",
        "    self.target = target\n",
        "    self.target_value = 1\n",
        "    \n",
        "  def fit(self,df):\n",
        "    alpha = self.alpha\n",
        "    target = self.target\n",
        "    for column in self.cols:\n",
        "      unique_values = df[column].unique() #all unique values in that categorical column\n",
        "      dict_values = {} #storing the response encoding values for target=1\n",
        "      for value in unique_values:\n",
        "        total = len(df[df[column]==value]) #the total no. of datapoints with 'value' catgeory\n",
        "        sum_promoted = len(df[(df[column]==value) & (df[target]==self.target_value)]) #no. of all datapoints with category being 'value' and target=='yes'\n",
        "        dict_values[value] = np.round((sum_promoted+alpha)/(total+alpha*len(unique_values)),2) #storing the obtained result in a dictionary\n",
        "      dict_values['UNK']=0.5 #unknown categories that are not seen in train will be assigned a score of 0.5\n",
        "      self.master_dict[column] = dict_values.copy() #storing the original values in a dictionary\n",
        "    \n",
        "    return None\n",
        "    \n",
        "  def transform(self,df):\n",
        "    for column in self.cols:\n",
        "      df[column] = df[column].map(self.master_dict[column]) #map the values in the column to the dictionary\n",
        "    return df"
      ]
    },
    {
      "cell_type": "code",
      "execution_count": 40,
      "metadata": {
        "colab": {
          "base_uri": "https://localhost:8080/",
          "height": 226
        },
        "id": "F5YVzL9tIf_T",
        "outputId": "5ed094e5-b2a4-476c-d559-1b562e87754b"
      },
      "outputs": [
        {
          "data": {
            "text/html": [
              "<div>\n",
              "<style scoped>\n",
              "    .dataframe tbody tr th:only-of-type {\n",
              "        vertical-align: middle;\n",
              "    }\n",
              "\n",
              "    .dataframe tbody tr th {\n",
              "        vertical-align: top;\n",
              "    }\n",
              "\n",
              "    .dataframe thead th {\n",
              "        text-align: right;\n",
              "    }\n",
              "</style>\n",
              "<table border=\"1\" class=\"dataframe\">\n",
              "  <thead>\n",
              "    <tr style=\"text-align: right;\">\n",
              "      <th></th>\n",
              "      <th>SeniorCitizen</th>\n",
              "      <th>Partner</th>\n",
              "      <th>Dependents</th>\n",
              "      <th>tenure</th>\n",
              "      <th>MultipleLines</th>\n",
              "      <th>InternetService</th>\n",
              "      <th>OnlineSecurity</th>\n",
              "      <th>OnlineBackup</th>\n",
              "      <th>DeviceProtection</th>\n",
              "      <th>TechSupport</th>\n",
              "      <th>StreamingTV</th>\n",
              "      <th>StreamingMovies</th>\n",
              "      <th>Contract</th>\n",
              "      <th>PaperlessBilling</th>\n",
              "      <th>PaymentMethod</th>\n",
              "      <th>MonthlyCharges</th>\n",
              "      <th>Churn</th>\n",
              "    </tr>\n",
              "  </thead>\n",
              "  <tbody>\n",
              "    <tr>\n",
              "      <th>0</th>\n",
              "      <td>0</td>\n",
              "      <td>0.20</td>\n",
              "      <td>0.15</td>\n",
              "      <td>43</td>\n",
              "      <td>0.25</td>\n",
              "      <td>0.19</td>\n",
              "      <td>0.41</td>\n",
              "      <td>0.22</td>\n",
              "      <td>0.39</td>\n",
              "      <td>0.41</td>\n",
              "      <td>0.34</td>\n",
              "      <td>0.33</td>\n",
              "      <td>0.43</td>\n",
              "      <td>0.17</td>\n",
              "      <td>0.19</td>\n",
              "      <td>50.20</td>\n",
              "      <td>0</td>\n",
              "    </tr>\n",
              "    <tr>\n",
              "      <th>1</th>\n",
              "      <td>0</td>\n",
              "      <td>0.20</td>\n",
              "      <td>0.15</td>\n",
              "      <td>37</td>\n",
              "      <td>0.29</td>\n",
              "      <td>0.42</td>\n",
              "      <td>0.41</td>\n",
              "      <td>0.22</td>\n",
              "      <td>0.23</td>\n",
              "      <td>0.41</td>\n",
              "      <td>0.34</td>\n",
              "      <td>0.31</td>\n",
              "      <td>0.43</td>\n",
              "      <td>0.33</td>\n",
              "      <td>0.46</td>\n",
              "      <td>95.15</td>\n",
              "      <td>0</td>\n",
              "    </tr>\n",
              "    <tr>\n",
              "      <th>2</th>\n",
              "      <td>0</td>\n",
              "      <td>0.33</td>\n",
              "      <td>0.31</td>\n",
              "      <td>35</td>\n",
              "      <td>0.29</td>\n",
              "      <td>0.19</td>\n",
              "      <td>0.15</td>\n",
              "      <td>0.40</td>\n",
              "      <td>0.23</td>\n",
              "      <td>0.16</td>\n",
              "      <td>0.30</td>\n",
              "      <td>0.31</td>\n",
              "      <td>0.11</td>\n",
              "      <td>0.33</td>\n",
              "      <td>0.15</td>\n",
              "      <td>85.95</td>\n",
              "      <td>1</td>\n",
              "    </tr>\n",
              "    <tr>\n",
              "      <th>3</th>\n",
              "      <td>0</td>\n",
              "      <td>0.20</td>\n",
              "      <td>0.31</td>\n",
              "      <td>69</td>\n",
              "      <td>0.26</td>\n",
              "      <td>0.19</td>\n",
              "      <td>0.15</td>\n",
              "      <td>0.40</td>\n",
              "      <td>0.23</td>\n",
              "      <td>0.16</td>\n",
              "      <td>0.30</td>\n",
              "      <td>0.31</td>\n",
              "      <td>0.03</td>\n",
              "      <td>0.17</td>\n",
              "      <td>0.17</td>\n",
              "      <td>60.25</td>\n",
              "      <td>0</td>\n",
              "    </tr>\n",
              "    <tr>\n",
              "      <th>4</th>\n",
              "      <td>0</td>\n",
              "      <td>0.20</td>\n",
              "      <td>0.15</td>\n",
              "      <td>69</td>\n",
              "      <td>0.25</td>\n",
              "      <td>0.07</td>\n",
              "      <td>0.07</td>\n",
              "      <td>0.07</td>\n",
              "      <td>0.07</td>\n",
              "      <td>0.07</td>\n",
              "      <td>0.07</td>\n",
              "      <td>0.07</td>\n",
              "      <td>0.03</td>\n",
              "      <td>0.17</td>\n",
              "      <td>0.17</td>\n",
              "      <td>20.20</td>\n",
              "      <td>0</td>\n",
              "    </tr>\n",
              "  </tbody>\n",
              "</table>\n",
              "</div>"
            ],
            "text/plain": [
              "   SeniorCitizen  Partner  Dependents  ...  PaymentMethod  MonthlyCharges  Churn\n",
              "0              0     0.20        0.15  ...           0.19           50.20      0\n",
              "1              0     0.20        0.15  ...           0.46           95.15      0\n",
              "2              0     0.33        0.31  ...           0.15           85.95      1\n",
              "3              0     0.20        0.31  ...           0.17           60.25      0\n",
              "4              0     0.20        0.15  ...           0.17           20.20      0\n",
              "\n",
              "[5 rows x 17 columns]"
            ]
          },
          "execution_count": 40,
          "metadata": {},
          "output_type": "execute_result"
        }
      ],
      "source": [
        "#fit the response_encoding class to the train data\n",
        "#response encoding all the categorical columns\n",
        "resp_enc = response_encoding(cols=get_obj_cols,target='Churn',alpha=0.1)\n",
        "resp_enc.fit(train)\n",
        "\n",
        "train = resp_enc.transform(train)\n",
        "test = resp_enc.transform(test)\n",
        "\n",
        "train.head()"
      ]
    },
    {
      "cell_type": "code",
      "execution_count": 41,
      "metadata": {
        "id": "JXjcsRhFRn7i"
      },
      "outputs": [],
      "source": [
        "#save the resp_enc object to a file\n",
        "# with open('../model/resp_enc.pkl','wb') as f:\n",
        "#     joblib.dump(resp_enc,f)"
      ]
    },
    {
      "cell_type": "code",
      "execution_count": 42,
      "metadata": {
        "id": "jEJvKoM1Rn7j"
      },
      "outputs": [],
      "source": [
        "# train.to_csv('../data/train_encoded.csv',index=False)\n",
        "# test.to_csv('../data/test_encoded.csv',index=False)"
      ]
    },
    {
      "cell_type": "markdown",
      "metadata": {
        "id": "LbW2RuVLIf_T"
      },
      "source": [
        "# Modelling"
      ]
    },
    {
      "cell_type": "code",
      "execution_count": 43,
      "metadata": {
        "id": "knHgl3-6If_U"
      },
      "outputs": [],
      "source": [
        "#split the data into x and y\n",
        "x_train = train.drop(['Churn'],axis=1)\n",
        "y_train = train['Churn']\n",
        "\n",
        "x_test = test.drop(['Churn'],axis=1)\n",
        "y_test = test['Churn']"
      ]
    },
    {
      "cell_type": "markdown",
      "metadata": {
        "id": "md9beqGoRn7j"
      },
      "source": [
        "Since this is an imbalanced classification we need to assign weights to the classes. We will use the below code to do that. This is specifically for XGBoost and it is not applicable for other models as specified in the official documentation. For other models we will use 'balanced'."
      ]
    },
    {
      "cell_type": "code",
      "execution_count": 44,
      "metadata": {
        "id": "7i0GvvTYIf_U"
      },
      "outputs": [],
      "source": [
        "#for xgboost\n",
        "#weight = no. of negative classes/no. of positive classes\n",
        "weight = (y_train == 0).sum()/(y_train == 1).sum() "
      ]
    },
    {
      "cell_type": "markdown",
      "metadata": {
        "id": "uqi9reC4Rn7j"
      },
      "source": [
        "We will be fitting Decision Tree Classifier, Random Forest Classifier, XGBoost Classifier and LightGBM Classifier."
      ]
    },
    {
      "cell_type": "code",
      "execution_count": 45,
      "metadata": {
        "colab": {
          "base_uri": "https://localhost:8080/"
        },
        "id": "DzydSbFnIf_V",
        "outputId": "b95edf09-a011-4a00-bc26-4df14c4781a6"
      },
      "outputs": [
        {
          "name": "stdout",
          "output_type": "stream",
          "text": [
            "Decision Tree\n",
            "Mean roc_auc: 0.65\n",
            "Mean f1: 0.48\n",
            "Mean precision: 0.48\n",
            "Mean recall: 0.48\n",
            "\n",
            "\n",
            "Random Forest\n",
            "Mean roc_auc: 0.83\n",
            "Mean f1: 0.61\n",
            "Mean precision: 0.57\n",
            "Mean recall: 0.67\n",
            "\n",
            "\n",
            "XGBoost\n",
            "Mean roc_auc: 0.84\n",
            "Mean f1: 0.63\n",
            "Mean precision: 0.52\n",
            "Mean recall: 0.80\n",
            "\n",
            "\n",
            "LightGBM\n",
            "Mean roc_auc: 0.82\n",
            "Mean f1: 0.60\n",
            "Mean precision: 0.52\n",
            "Mean recall: 0.71\n",
            "\n",
            "\n"
          ]
        }
      ],
      "source": [
        "models = {\n",
        "    'Decision Tree': DecisionTreeClassifier(class_weight='balanced', random_state=420),\n",
        "    'Random Forest': RandomForestClassifier(class_weight='balanced_subsample',n_jobs = -1,\n",
        "                                            n_estimators=50, max_depth=10, random_state=420),  \n",
        "    'XGBoost': xgb.XGBClassifier(scale_pos_weight = weight,use_label_encoder=False,\n",
        "                                n_jobs = -1, random_state=420),\n",
        "    'LightGBM': lgb.LGBMClassifier(class_weight='balanced', n_jobs = -1, random_state=420)\n",
        "}\n",
        "\n",
        "cv = model_selection.RepeatedStratifiedKFold(n_splits=3, n_repeats=2, random_state=420)\n",
        "\n",
        "for model_name, model in models.items():\n",
        "    print(model_name)\n",
        "    for score in [\"roc_auc\", \"f1\", \"precision\", \"recall\"]:\n",
        "        scores = model_selection.cross_val_score(model, x_train, y_train, scoring=score, cv=cv, n_jobs=-1)\n",
        "        print(f\"Mean {score}: {np.mean(scores):.2f}\")\n",
        "    print('\\n')"
      ]
    },
    {
      "cell_type": "markdown",
      "metadata": {
        "id": "CbUWE5ydj3rC"
      },
      "source": [
        "The best model is found to be XGBoost which had the large scores in both roc-auc, f1, precision and recall.\n",
        "\n",
        "# Next Steps\n",
        "\n",
        "* Hyperparameter tune the XGBoost model and validate it on test data.\n",
        "* Study feature importance using Shapley values.\n",
        "\n",
        "# Hyperparameter tune the best model (here XGBoost)"
      ]
    },
    {
      "cell_type": "code",
      "execution_count": 46,
      "metadata": {
        "id": "a-4xi9AKyOOk"
      },
      "outputs": [],
      "source": [
        "# !pip install optuna \n",
        "import optuna"
      ]
    },
    {
      "cell_type": "code",
      "execution_count": 47,
      "metadata": {
        "id": "yhPnIAksUo7a"
      },
      "outputs": [],
      "source": [
        "def objective(trial,data=x_train,target=y_train):\n",
        "    param = {\n",
        "        #'tree_method':'gpu_hist',  # this parameter means using the GPU when training our model to speedup the training process\n",
        "        'colsample_bytree': trial.suggest_categorical('colsample_bytree', [0.3,0.4,0.5,0.6,0.7,0.8,0.9, 1.0]),\n",
        "        'subsample': trial.suggest_categorical('subsample', [0.4,0.5,0.6,0.7,0.8,1.0]),\n",
        "        'learning_rate': trial.suggest_categorical('learning_rate', [0.008,0.009,0.01,0.012,0.014,0.016,0.018, 0.02]),\n",
        "        'n_estimators': trial.suggest_int('n_estimators',100,1000),\n",
        "        'max_depth': trial.suggest_categorical('max_depth', [i+1 for i in range(9)]),\n",
        "        'random_state': 420,\n",
        "        'min_child_weight': trial.suggest_int('min_child_weight', 1, 300),\n",
        "        'scale_pos_weight': weight\n",
        "    }\n",
        "    model = xgb.XGBClassifier(**param)  \n",
        "    \n",
        "    cv = model_selection.RepeatedStratifiedKFold(n_splits=3, n_repeats=2, random_state=420)\n",
        "\n",
        "    scores = model_selection.cross_val_score(model, data, target, scoring=\"f1\", cv=cv, n_jobs=-1)\n",
        "    \n",
        "    return np.mean(scores)"
      ]
    },
    {
      "cell_type": "code",
      "execution_count": 48,
      "metadata": {
        "colab": {
          "base_uri": "https://localhost:8080/"
        },
        "id": "6LBtuJywy3Gm",
        "outputId": "b14ee880-a868-4301-9cac-72c327d451b6"
      },
      "outputs": [
        {
          "name": "stderr",
          "output_type": "stream",
          "text": [
            "\u001b[32m[I 2021-10-12 17:39:18,161]\u001b[0m A new study created in memory with name: no-name-b0c1c850-ed4b-449a-b238-a0bf7e7d94bb\u001b[0m\n",
            "\u001b[32m[I 2021-10-12 17:39:31,790]\u001b[0m Trial 0 finished with value: 0.6224288724027529 and parameters: {'colsample_bytree': 0.9, 'subsample': 0.8, 'learning_rate': 0.02, 'n_estimators': 795, 'max_depth': 5, 'min_child_weight': 43}. Best is trial 0 with value: 0.6224288724027529.\u001b[0m\n",
            "\u001b[32m[I 2021-10-12 17:39:44,023]\u001b[0m Trial 1 finished with value: 0.6249111920975864 and parameters: {'colsample_bytree': 0.6, 'subsample': 0.5, 'learning_rate': 0.009, 'n_estimators': 704, 'max_depth': 9, 'min_child_weight': 24}. Best is trial 1 with value: 0.6249111920975864.\u001b[0m\n",
            "\u001b[32m[I 2021-10-12 17:39:48,936]\u001b[0m Trial 2 finished with value: 0.626369102407074 and parameters: {'colsample_bytree': 0.3, 'subsample': 1.0, 'learning_rate': 0.02, 'n_estimators': 820, 'max_depth': 7, 'min_child_weight': 262}. Best is trial 2 with value: 0.626369102407074.\u001b[0m\n",
            "\u001b[32m[I 2021-10-12 17:39:56,540]\u001b[0m Trial 3 finished with value: 0.6218757168309405 and parameters: {'colsample_bytree': 0.9, 'subsample': 0.6, 'learning_rate': 0.02, 'n_estimators': 849, 'max_depth': 7, 'min_child_weight': 199}. Best is trial 2 with value: 0.626369102407074.\u001b[0m\n",
            "\u001b[32m[I 2021-10-12 17:39:57,911]\u001b[0m Trial 4 finished with value: 0.6202311794541399 and parameters: {'colsample_bytree': 0.8, 'subsample': 1.0, 'learning_rate': 0.02, 'n_estimators': 137, 'max_depth': 5, 'min_child_weight': 253}. Best is trial 2 with value: 0.626369102407074.\u001b[0m\n",
            "\u001b[32m[I 2021-10-12 17:40:03,190]\u001b[0m Trial 5 finished with value: 0.6283417410611124 and parameters: {'colsample_bytree': 0.5, 'subsample': 1.0, 'learning_rate': 0.012, 'n_estimators': 611, 'max_depth': 3, 'min_child_weight': 5}. Best is trial 5 with value: 0.6283417410611124.\u001b[0m\n",
            "\u001b[32m[I 2021-10-12 17:40:04,629]\u001b[0m Trial 6 finished with value: 0.6168853067486139 and parameters: {'colsample_bytree': 0.7, 'subsample': 0.5, 'learning_rate': 0.018, 'n_estimators': 113, 'max_depth': 9, 'min_child_weight': 96}. Best is trial 5 with value: 0.6283417410611124.\u001b[0m\n",
            "\u001b[32m[I 2021-10-12 17:40:06,686]\u001b[0m Trial 7 finished with value: 0.6215237222270472 and parameters: {'colsample_bytree': 0.8, 'subsample': 1.0, 'learning_rate': 0.016, 'n_estimators': 220, 'max_depth': 8, 'min_child_weight': 271}. Best is trial 5 with value: 0.6283417410611124.\u001b[0m\n",
            "\u001b[32m[I 2021-10-12 17:40:15,369]\u001b[0m Trial 8 finished with value: 0.6282007674992893 and parameters: {'colsample_bytree': 0.9, 'subsample': 0.7, 'learning_rate': 0.008, 'n_estimators': 734, 'max_depth': 3, 'min_child_weight': 105}. Best is trial 5 with value: 0.6283417410611124.\u001b[0m\n",
            "\u001b[32m[I 2021-10-12 17:40:20,063]\u001b[0m Trial 9 finished with value: 0.6252100183386694 and parameters: {'colsample_bytree': 0.5, 'subsample': 0.7, 'learning_rate': 0.012, 'n_estimators': 381, 'max_depth': 5, 'min_child_weight': 79}. Best is trial 5 with value: 0.6283417410611124.\u001b[0m\n",
            "\u001b[32m[I 2021-10-12 17:40:23,757]\u001b[0m Trial 10 finished with value: 0.6207193888139177 and parameters: {'colsample_bytree': 0.5, 'subsample': 0.4, 'learning_rate': 0.014, 'n_estimators': 523, 'max_depth': 6, 'min_child_weight': 161}. Best is trial 5 with value: 0.6283417410611124.\u001b[0m\n",
            "\u001b[32m[I 2021-10-12 17:40:31,961]\u001b[0m Trial 11 finished with value: 0.6270423864093543 and parameters: {'colsample_bytree': 1.0, 'subsample': 0.7, 'learning_rate': 0.008, 'n_estimators': 615, 'max_depth': 3, 'min_child_weight': 2}. Best is trial 5 with value: 0.6283417410611124.\u001b[0m\n",
            "\u001b[32m[I 2021-10-12 17:40:36,243]\u001b[0m Trial 12 finished with value: 0.6253248166705051 and parameters: {'colsample_bytree': 0.4, 'subsample': 0.7, 'learning_rate': 0.01, 'n_estimators': 482, 'max_depth': 3, 'min_child_weight': 106}. Best is trial 5 with value: 0.6283417410611124.\u001b[0m\n",
            "\u001b[32m[I 2021-10-12 17:40:45,183]\u001b[0m Trial 13 finished with value: 0.6291071488296768 and parameters: {'colsample_bytree': 0.5, 'subsample': 0.8, 'learning_rate': 0.008, 'n_estimators': 996, 'max_depth': 3, 'min_child_weight': 137}. Best is trial 13 with value: 0.6291071488296768.\u001b[0m\n",
            "\u001b[32m[I 2021-10-12 17:40:53,577]\u001b[0m Trial 14 finished with value: 0.627508805862166 and parameters: {'colsample_bytree': 0.5, 'subsample': 0.8, 'learning_rate': 0.012, 'n_estimators': 974, 'max_depth': 4, 'min_child_weight': 185}. Best is trial 13 with value: 0.6291071488296768.\u001b[0m\n",
            "\u001b[32m[I 2021-10-12 17:40:58,969]\u001b[0m Trial 15 finished with value: 0.6227186562485837 and parameters: {'colsample_bytree': 0.5, 'subsample': 0.8, 'learning_rate': 0.012, 'n_estimators': 965, 'max_depth': 1, 'min_child_weight': 220}. Best is trial 13 with value: 0.6291071488296768.\u001b[0m\n",
            "\u001b[32m[I 2021-10-12 17:41:02,410]\u001b[0m Trial 16 finished with value: 0.6210780175109577 and parameters: {'colsample_bytree': 0.5, 'subsample': 0.6, 'learning_rate': 0.008, 'n_estimators': 432, 'max_depth': 2, 'min_child_weight': 136}. Best is trial 13 with value: 0.6291071488296768.\u001b[0m\n",
            "\u001b[32m[I 2021-10-12 17:41:05,026]\u001b[0m Trial 17 finished with value: 0.6291300611716141 and parameters: {'colsample_bytree': 0.3, 'subsample': 0.4, 'learning_rate': 0.018, 'n_estimators': 322, 'max_depth': 3, 'min_child_weight': 61}. Best is trial 17 with value: 0.6291300611716141.\u001b[0m\n",
            "\u001b[32m[I 2021-10-12 17:41:07,928]\u001b[0m Trial 18 finished with value: 0.627673777677358 and parameters: {'colsample_bytree': 0.3, 'subsample': 0.4, 'learning_rate': 0.018, 'n_estimators': 362, 'max_depth': 3, 'min_child_weight': 64}. Best is trial 17 with value: 0.6291300611716141.\u001b[0m\n",
            "\u001b[32m[I 2021-10-12 17:41:09,868]\u001b[0m Trial 19 finished with value: 0.6243202674795989 and parameters: {'colsample_bytree': 0.3, 'subsample': 0.4, 'learning_rate': 0.018, 'n_estimators': 277, 'max_depth': 6, 'min_child_weight': 126}. Best is trial 17 with value: 0.6291300611716141.\u001b[0m\n",
            "\u001b[32m[I 2021-10-12 17:41:11,762]\u001b[0m Trial 20 finished with value: 0.605860411852333 and parameters: {'colsample_bytree': 0.7, 'subsample': 0.8, 'learning_rate': 0.01, 'n_estimators': 304, 'max_depth': 1, 'min_child_weight': 55}. Best is trial 17 with value: 0.6291300611716141.\u001b[0m\n",
            "\u001b[32m[I 2021-10-12 17:41:18,252]\u001b[0m Trial 21 finished with value: 0.6275270106840564 and parameters: {'colsample_bytree': 0.6, 'subsample': 0.4, 'learning_rate': 0.009, 'n_estimators': 627, 'max_depth': 3, 'min_child_weight': 11}. Best is trial 17 with value: 0.6291300611716141.\u001b[0m\n",
            "\u001b[32m[I 2021-10-12 17:41:24,705]\u001b[0m Trial 22 finished with value: 0.6242756819267599 and parameters: {'colsample_bytree': 1.0, 'subsample': 1.0, 'learning_rate': 0.014, 'n_estimators': 589, 'max_depth': 3, 'min_child_weight': 29}. Best is trial 17 with value: 0.6291300611716141.\u001b[0m\n",
            "\u001b[32m[I 2021-10-12 17:41:31,950]\u001b[0m Trial 23 finished with value: 0.6278872470394058 and parameters: {'colsample_bytree': 0.4, 'subsample': 0.4, 'learning_rate': 0.008, 'n_estimators': 875, 'max_depth': 3, 'min_child_weight': 77}. Best is trial 17 with value: 0.6291300611716141.\u001b[0m\n",
            "\u001b[32m[I 2021-10-12 17:41:37,218]\u001b[0m Trial 24 finished with value: 0.6283266802498236 and parameters: {'colsample_bytree': 0.3, 'subsample': 1.0, 'learning_rate': 0.016, 'n_estimators': 703, 'max_depth': 8, 'min_child_weight': 158}. Best is trial 17 with value: 0.6291300611716141.\u001b[0m\n",
            "\u001b[32m[I 2021-10-12 17:41:39,576]\u001b[0m Trial 25 finished with value: 0.6245997849707353 and parameters: {'colsample_bytree': 0.5, 'subsample': 0.8, 'learning_rate': 0.012, 'n_estimators': 189, 'max_depth': 4, 'min_child_weight': 47}. Best is trial 17 with value: 0.6291300611716141.\u001b[0m\n",
            "\u001b[32m[I 2021-10-12 17:41:43,410]\u001b[0m Trial 26 finished with value: 0.6255582482329758 and parameters: {'colsample_bytree': 0.5, 'subsample': 0.5, 'learning_rate': 0.018, 'n_estimators': 476, 'max_depth': 2, 'min_child_weight': 29}. Best is trial 17 with value: 0.6291300611716141.\u001b[0m\n",
            "\u001b[32m[I 2021-10-12 17:41:45,963]\u001b[0m Trial 27 finished with value: 0.6236349177173264 and parameters: {'colsample_bytree': 0.3, 'subsample': 0.6, 'learning_rate': 0.012, 'n_estimators': 322, 'max_depth': 3, 'min_child_weight': 127}. Best is trial 17 with value: 0.6291300611716141.\u001b[0m\n",
            "\u001b[32m[I 2021-10-12 17:41:54,056]\u001b[0m Trial 28 finished with value: 0.62844604683924 and parameters: {'colsample_bytree': 0.5, 'subsample': 0.4, 'learning_rate': 0.008, 'n_estimators': 921, 'max_depth': 3, 'min_child_weight': 85}. Best is trial 17 with value: 0.6291300611716141.\u001b[0m\n",
            "\u001b[32m[I 2021-10-12 17:41:59,574]\u001b[0m Trial 29 finished with value: 0.16736305043259667 and parameters: {'colsample_bytree': 0.7, 'subsample': 0.4, 'learning_rate': 0.008, 'n_estimators': 1000, 'max_depth': 3, 'min_child_weight': 296}. Best is trial 17 with value: 0.6291300611716141.\u001b[0m\n",
            "\u001b[32m[I 2021-10-12 17:42:08,706]\u001b[0m Trial 30 finished with value: 0.6249115526462018 and parameters: {'colsample_bytree': 0.8, 'subsample': 0.4, 'learning_rate': 0.008, 'n_estimators': 909, 'max_depth': 3, 'min_child_weight': 89}. Best is trial 17 with value: 0.6291300611716141.\u001b[0m\n",
            "\u001b[32m[I 2021-10-12 17:42:16,016]\u001b[0m Trial 31 finished with value: 0.6260488584959951 and parameters: {'colsample_bytree': 0.5, 'subsample': 0.8, 'learning_rate': 0.008, 'n_estimators': 770, 'max_depth': 3, 'min_child_weight': 65}. Best is trial 17 with value: 0.6291300611716141.\u001b[0m\n",
            "\u001b[32m[I 2021-10-12 17:42:26,833]\u001b[0m Trial 32 finished with value: 0.6270506929772006 and parameters: {'colsample_bytree': 0.5, 'subsample': 0.4, 'learning_rate': 0.018, 'n_estimators': 917, 'max_depth': 9, 'min_child_weight': 39}. Best is trial 17 with value: 0.6291300611716141.\u001b[0m\n",
            "\u001b[32m[I 2021-10-12 17:42:32,598]\u001b[0m Trial 33 finished with value: 0.6276966724368399 and parameters: {'colsample_bytree': 0.6, 'subsample': 1.0, 'learning_rate': 0.009, 'n_estimators': 657, 'max_depth': 3, 'min_child_weight': 116}. Best is trial 17 with value: 0.6291300611716141.\u001b[0m\n",
            "\u001b[32m[I 2021-10-12 17:42:39,868]\u001b[0m Trial 34 finished with value: 0.6242954492456351 and parameters: {'colsample_bytree': 0.5, 'subsample': 0.8, 'learning_rate': 0.008, 'n_estimators': 801, 'max_depth': 7, 'min_child_weight': 177}. Best is trial 17 with value: 0.6291300611716141.\u001b[0m\n",
            "\u001b[32m[I 2021-10-12 17:42:47,650]\u001b[0m Trial 35 finished with value: 0.622190342022816 and parameters: {'colsample_bytree': 0.9, 'subsample': 0.4, 'learning_rate': 0.02, 'n_estimators': 921, 'max_depth': 3, 'min_child_weight': 143}. Best is trial 17 with value: 0.6291300611716141.\u001b[0m\n",
            "\u001b[32m[I 2021-10-12 17:42:57,455]\u001b[0m Trial 36 finished with value: 0.6227194385637453 and parameters: {'colsample_bytree': 0.3, 'subsample': 0.5, 'learning_rate': 0.014, 'n_estimators': 865, 'max_depth': 5, 'min_child_weight': 15}. Best is trial 17 with value: 0.6291300611716141.\u001b[0m\n",
            "\u001b[32m[I 2021-10-12 17:43:04,678]\u001b[0m Trial 37 finished with value: 0.6284868132042606 and parameters: {'colsample_bytree': 0.5, 'subsample': 1.0, 'learning_rate': 0.016, 'n_estimators': 558, 'max_depth': 7, 'min_child_weight': 76}. Best is trial 17 with value: 0.6291300611716141.\u001b[0m\n",
            "\u001b[32m[I 2021-10-12 17:43:13,557]\u001b[0m Trial 38 finished with value: 0.6280821014826352 and parameters: {'colsample_bytree': 0.4, 'subsample': 1.0, 'learning_rate': 0.016, 'n_estimators': 821, 'max_depth': 7, 'min_child_weight': 84}. Best is trial 17 with value: 0.6291300611716141.\u001b[0m\n",
            "\u001b[32m[I 2021-10-12 17:43:18,828]\u001b[0m Trial 39 finished with value: 0.6208027511143425 and parameters: {'colsample_bytree': 1.0, 'subsample': 0.6, 'learning_rate': 0.016, 'n_estimators': 547, 'max_depth': 7, 'min_child_weight': 214}. Best is trial 17 with value: 0.6291300611716141.\u001b[0m\n",
            "\u001b[32m[I 2021-10-12 17:43:21,058]\u001b[0m Trial 40 finished with value: 0.622380610879694 and parameters: {'colsample_bytree': 0.6, 'subsample': 0.4, 'learning_rate': 0.016, 'n_estimators': 232, 'max_depth': 7, 'min_child_weight': 97}. Best is trial 17 with value: 0.6291300611716141.\u001b[0m\n",
            "\u001b[32m[I 2021-10-12 17:43:28,562]\u001b[0m Trial 41 finished with value: 0.6284117196172347 and parameters: {'colsample_bytree': 0.5, 'subsample': 1.0, 'learning_rate': 0.018, 'n_estimators': 559, 'max_depth': 8, 'min_child_weight': 70}. Best is trial 17 with value: 0.6291300611716141.\u001b[0m\n",
            "\u001b[32m[I 2021-10-12 17:43:34,361]\u001b[0m Trial 42 finished with value: 0.6280377673390166 and parameters: {'colsample_bytree': 0.5, 'subsample': 1.0, 'learning_rate': 0.018, 'n_estimators': 419, 'max_depth': 8, 'min_child_weight': 66}. Best is trial 17 with value: 0.6291300611716141.\u001b[0m\n",
            "\u001b[32m[I 2021-10-12 17:43:41,523]\u001b[0m Trial 43 finished with value: 0.6264274795941344 and parameters: {'colsample_bytree': 0.5, 'subsample': 1.0, 'learning_rate': 0.018, 'n_estimators': 670, 'max_depth': 8, 'min_child_weight': 117}. Best is trial 17 with value: 0.6291300611716141.\u001b[0m\n",
            "\u001b[32m[I 2021-10-12 17:43:49,538]\u001b[0m Trial 44 finished with value: 0.6272785862539354 and parameters: {'colsample_bytree': 0.5, 'subsample': 1.0, 'learning_rate': 0.018, 'n_estimators': 519, 'max_depth': 8, 'min_child_weight': 46}. Best is trial 17 with value: 0.6291300611716141.\u001b[0m\n",
            "\u001b[32m[I 2021-10-12 17:44:01,611]\u001b[0m Trial 45 finished with value: 0.6232813590780656 and parameters: {'colsample_bytree': 0.8, 'subsample': 1.0, 'learning_rate': 0.02, 'n_estimators': 752, 'max_depth': 9, 'min_child_weight': 76}. Best is trial 17 with value: 0.6291300611716141.\u001b[0m\n",
            "\u001b[32m[I 2021-10-12 17:44:08,472]\u001b[0m Trial 46 finished with value: 0.6284787258628414 and parameters: {'colsample_bytree': 0.9, 'subsample': 0.8, 'learning_rate': 0.01, 'n_estimators': 451, 'max_depth': 6, 'min_child_weight': 102}. Best is trial 17 with value: 0.6291300611716141.\u001b[0m\n",
            "\u001b[32m[I 2021-10-12 17:44:14,413]\u001b[0m Trial 47 finished with value: 0.6273241063969395 and parameters: {'colsample_bytree': 0.9, 'subsample': 0.8, 'learning_rate': 0.01, 'n_estimators': 392, 'max_depth': 6, 'min_child_weight': 104}. Best is trial 17 with value: 0.6291300611716141.\u001b[0m\n",
            "\u001b[32m[I 2021-10-12 17:44:21,769]\u001b[0m Trial 48 finished with value: 0.6281124270297112 and parameters: {'colsample_bytree': 0.9, 'subsample': 0.8, 'learning_rate': 0.01, 'n_estimators': 468, 'max_depth': 6, 'min_child_weight': 95}. Best is trial 17 with value: 0.6291300611716141.\u001b[0m\n",
            "\u001b[32m[I 2021-10-12 17:44:26,996]\u001b[0m Trial 49 finished with value: 0.6259622305413384 and parameters: {'colsample_bytree': 0.9, 'subsample': 0.8, 'learning_rate': 0.01, 'n_estimators': 357, 'max_depth': 6, 'min_child_weight': 113}. Best is trial 17 with value: 0.6291300611716141.\u001b[0m\n"
          ]
        },
        {
          "name": "stdout",
          "output_type": "stream",
          "text": [
            "Number of finished trials: 50\n",
            "Best trial: {'colsample_bytree': 0.3, 'subsample': 0.4, 'learning_rate': 0.018, 'n_estimators': 322, 'max_depth': 3, 'min_child_weight': 61}\n"
          ]
        }
      ],
      "source": [
        "study = optuna.create_study(direction='maximize')\n",
        "study.optimize(objective, n_trials=50)\n",
        "print('Number of finished trials:', len(study.trials))\n",
        "print('Best trial:', study.best_trial.params)"
      ]
    },
    {
      "cell_type": "code",
      "execution_count": 49,
      "metadata": {
        "id": "-SX7cQauyCD3"
      },
      "outputs": [],
      "source": [
        "model_name = \"XGBoost (all features)\"\n",
        "params = {}\n",
        "params[model_name] = study.best_params\n",
        "params[model_name]['scale_pos_weight'] = weight\n",
        "params[model_name]['random_state'] = 420\n",
        "model = xgb.XGBClassifier(**params[model_name])\n",
        "cv = model_selection.RepeatedStratifiedKFold(n_splits=3, n_repeats=2, random_state=420)"
      ]
    },
    {
      "cell_type": "code",
      "execution_count": 50,
      "metadata": {
        "colab": {
          "base_uri": "https://localhost:8080/"
        },
        "id": "I7JVM8Gg6Z4G",
        "outputId": "ba359b9c-43d9-4ae7-f65b-4570613c20b9"
      },
      "outputs": [
        {
          "name": "stdout",
          "output_type": "stream",
          "text": [
            "Mean roc_auc: 0.84\n",
            "Mean f1: 0.63\n",
            "Mean precision: 0.52\n",
            "Mean recall: 0.79\n"
          ]
        }
      ],
      "source": [
        "for score in [\"roc_auc\", \"f1\", \"precision\", \"recall\"]:\n",
        "  scores = model_selection.cross_val_score(model, x_train, y_train, scoring=score, cv=cv, n_jobs=-1)\n",
        "  print(f\"Mean {score}: {np.mean(scores):.2f}\")"
      ]
    },
    {
      "cell_type": "code",
      "execution_count": 51,
      "metadata": {
        "colab": {
          "base_uri": "https://localhost:8080/",
          "height": 405
        },
        "id": "y_LzN9Ot7CDu",
        "outputId": "f5095104-3907-4ce6-d79a-341cd4d6005a"
      },
      "outputs": [
        {
          "name": "stdout",
          "output_type": "stream",
          "text": [
            "Model performance on Test data\n",
            "-----------------------------------\n",
            "aoc: 0.85\n",
            "f1: 0.64\n",
            "precision: 0.53\n",
            "recall: 0.8\n"
          ]
        },
        {
          "data": {
            "image/png": "[encoded data removed]",
            "text/plain": [
              "<Figure size 432x288 with 2 Axes>"
            ]
          },
          "metadata": {
            "needs_background": "light"
          },
          "output_type": "display_data"
        }
      ],
      "source": [
        "model.fit(x_train,y_test)\n",
        "y_pred = model.predict(x_test)\n",
        "y_pred_proba = model.predict_proba(x_test)[:,1]\n",
        "\n",
        "aoc = metrics.roc_auc_score(y_test,y_pred_proba)\n",
        "f1 = metrics.f1_score(y_test,y_pred)\n",
        "precision = metrics.precision_score(y_test,y_pred)\n",
        "recall = metrics.recall_score(y_test,y_pred)\n",
        "print(\"Model performance on Test data\")\n",
        "print(\"-\"*35)\n",
        "print(f\"aoc: {aoc:.2}\")\n",
        "print(f\"f1: {f1:.2}\")\n",
        "print(f\"precision: {precision:.2}\")\n",
        "print(f\"recall: {recall:.2}\")\n",
        "\n",
        "import matplotlib.pyplot as plt\n",
        "import seaborn as sns\n",
        "\n",
        "sns.heatmap(metrics.confusion_matrix(y_test,y_pred),\n",
        "annot=True,\n",
        "cmap='Blues',\n",
        "fmt = 'd',\n",
        "xticklabels=['No', 'Yes'],\n",
        "yticklabels=['No', 'Yes']\n",
        ")\n",
        "plt.xlabel('Predicted')\n",
        "plt.ylabel('True')\n",
        "plt.title('Confustion Matrix for test data')\n",
        "plt.show()"
      ]
    },
    {
      "cell_type": "code",
      "execution_count": 52,
      "metadata": {
        "colab": {
          "base_uri": "https://localhost:8080/",
          "height": 81
        },
        "id": "xtGEf1HEgA_9",
        "outputId": "675187c9-1892-4d71-e2ec-b645cff195ae"
      },
      "outputs": [
        {
          "data": {
            "text/html": [
              "<div>\n",
              "<style scoped>\n",
              "    .dataframe tbody tr th:only-of-type {\n",
              "        vertical-align: middle;\n",
              "    }\n",
              "\n",
              "    .dataframe tbody tr th {\n",
              "        vertical-align: top;\n",
              "    }\n",
              "\n",
              "    .dataframe thead th {\n",
              "        text-align: right;\n",
              "    }\n",
              "</style>\n",
              "<table border=\"1\" class=\"dataframe\">\n",
              "  <thead>\n",
              "    <tr style=\"text-align: right;\">\n",
              "      <th></th>\n",
              "      <th>Model</th>\n",
              "      <th>test auc</th>\n",
              "      <th>test f1</th>\n",
              "      <th>test precision</th>\n",
              "      <th>test recall</th>\n",
              "    </tr>\n",
              "  </thead>\n",
              "  <tbody>\n",
              "    <tr>\n",
              "      <th>0</th>\n",
              "      <td>XGBoost (all features)</td>\n",
              "      <td>0.85197</td>\n",
              "      <td>0.635589</td>\n",
              "      <td>0.52811</td>\n",
              "      <td>0.797993</td>\n",
              "    </tr>\n",
              "  </tbody>\n",
              "</table>\n",
              "</div>"
            ],
            "text/plain": [
              "                    Model  test auc   test f1  test precision  test recall\n",
              "0  XGBoost (all features)   0.85197  0.635589         0.52811     0.797993"
            ]
          },
          "execution_count": 52,
          "metadata": {},
          "output_type": "execute_result"
        }
      ],
      "source": [
        "\n",
        "\n",
        "model_perf = pd.DataFrame(\n",
        "        columns = [\n",
        "                   'Model',\n",
        "                   'test auc',\n",
        "                   'test f1',\n",
        "                   'test precision',\n",
        "                   'test recall'\n",
        "        ]\n",
        "    )\n",
        "\n",
        "model_perf = model_perf.append(\n",
        "   dict( zip(model_perf.columns,[\n",
        "     model_name,\n",
        "     aoc,\n",
        "     f1,\n",
        "     precision,\n",
        "    recall\n",
        "    ])),\n",
        "    ignore_index=True\n",
        ")\n",
        "model_perf"
      ]
    },
    {
      "cell_type": "markdown",
      "metadata": {
        "id": "T0jiB2BtCDCK"
      },
      "source": [
        "# Model inferencing using SHAP"
      ]
    },
    {
      "cell_type": "code",
      "execution_count": 53,
      "metadata": {
        "id": "FwbWFEaKCFDK"
      },
      "outputs": [],
      "source": [
        "# !pip install shap"
      ]
    },
    {
      "cell_type": "code",
      "execution_count": 54,
      "metadata": {
        "id": "WwV1LClrHPqJ"
      },
      "outputs": [],
      "source": [
        "import shap"
      ]
    },
    {
      "cell_type": "code",
      "execution_count": 55,
      "metadata": {
        "id": "c8rYKRrXHQqS"
      },
      "outputs": [],
      "source": [
        "# explain the model's predictions using SHAP\n",
        "explainer = shap.Explainer(model)\n",
        "shap_values = explainer(x_train)"
      ]
    },
    {
      "cell_type": "code",
      "execution_count": 56,
      "metadata": {
        "colab": {
          "base_uri": "https://localhost:8080/",
          "height": 418
        },
        "id": "iRxoBEwzHY_q",
        "outputId": "dc8305f2-e2fc-4d1e-a050-632711a846f6"
      },
      "outputs": [
        {
          "data": {
            "image/png": "[encoded data removed]",
            "text/plain": [
              "<Figure size 576x468 with 1 Axes>"
            ]
          },
          "metadata": {},
          "output_type": "display_data"
        }
      ],
      "source": [
        "shap.plots.bar(shap_values)"
      ]
    },
    {
      "cell_type": "code",
      "execution_count": 57,
      "metadata": {
        "colab": {
          "base_uri": "https://localhost:8080/"
        },
        "id": "AA-wTDLvHcWb",
        "outputId": "a8899892-6266-4204-f4c3-553105d458a4"
      },
      "outputs": [
        {
          "name": "stdout",
          "output_type": "stream",
          "text": [
            "No. of columns remove because of 0 mean Shapley Values: 16\n"
          ]
        }
      ],
      "source": [
        "#get top features with highest magnitude shap values\n",
        "mean_shap = np.abs(shap_values.values).mean(0)\n",
        "\n",
        "#getting those indices where mean shap values is greater than 0\n",
        "imp_feat = np.argwhere(mean_shap>0)\n",
        "\n",
        "#getting those indices of mean_shap values descending\n",
        "vals_indice = np.argsort(mean_shap)[::-1] #descending\n",
        "\n",
        "#the features with high magnitude\n",
        "top_feat = x_train.columns[[i for i in vals_indice if i in imp_feat]]\n",
        "x_train_new = x_train.loc[:,top_feat].copy()\n",
        "x_test_new = x_test.loc[:,top_feat].copy()\n",
        "\n",
        "print(f\"No. of columns remove because of 0 mean Shapley Values: {len(imp_feat)}\")"
      ]
    },
    {
      "cell_type": "code",
      "execution_count": 58,
      "metadata": {
        "id": "vOGySxSjXAO4"
      },
      "outputs": [],
      "source": [
        "def objective(trial,data=x_train_new,target=y_train):\n",
        "    param = {\n",
        "        #'tree_method':'gpu_hist',  # this parameter means using the GPU when training our model to speedup the training process\n",
        "        'colsample_bytree': trial.suggest_categorical('colsample_bytree', [0.3,0.4,0.5,0.6,0.7,0.8,0.9, 1.0]),\n",
        "        'subsample': trial.suggest_categorical('subsample', [0.4,0.5,0.6,0.7,0.8,1.0]),\n",
        "        'learning_rate': trial.suggest_categorical('learning_rate', [0.008,0.009,0.01,0.012,0.014,0.016,0.018, 0.02]),\n",
        "        'n_estimators': trial.suggest_int('n_estimators',100,1000),\n",
        "        'max_depth': trial.suggest_categorical('max_depth', [i+1 for i in range(9)]),\n",
        "        'random_state': 420,\n",
        "        'min_child_weight': trial.suggest_int('min_child_weight', 1, 300),\n",
        "        'scale_pos_weight': weight\n",
        "    }\n",
        "    model = xgb.XGBClassifier(**param)  \n",
        "    \n",
        "    cv = model_selection.RepeatedStratifiedKFold(n_splits=3, n_repeats=2, random_state=420)\n",
        "\n",
        "    scores = model_selection.cross_val_score(model, data, target, scoring=\"f1\", cv=cv, n_jobs=-1)\n",
        "    \n",
        "    return np.mean(scores)"
      ]
    },
    {
      "cell_type": "code",
      "execution_count": 59,
      "metadata": {
        "colab": {
          "base_uri": "https://localhost:8080/"
        },
        "id": "JEz_cZZ3T-S8",
        "outputId": "62a0bc1a-9369-471c-f150-bbacf4d4b605"
      },
      "outputs": [
        {
          "name": "stderr",
          "output_type": "stream",
          "text": [
            "\u001b[32m[I 2021-10-12 17:45:37,786]\u001b[0m A new study created in memory with name: no-name-0c5c686d-5f3b-499c-a547-958ba53dce1b\u001b[0m\n",
            "\u001b[32m[I 2021-10-12 17:45:39,444]\u001b[0m Trial 0 finished with value: 0.6172409625048964 and parameters: {'colsample_bytree': 0.7, 'subsample': 0.5, 'learning_rate': 0.02, 'n_estimators': 245, 'max_depth': 1, 'min_child_weight': 41}. Best is trial 0 with value: 0.6172409625048964.\u001b[0m\n",
            "\u001b[32m[I 2021-10-12 17:45:41,305]\u001b[0m Trial 1 finished with value: 0.6164652920851569 and parameters: {'colsample_bytree': 0.4, 'subsample': 0.7, 'learning_rate': 0.018, 'n_estimators': 324, 'max_depth': 1, 'min_child_weight': 25}. Best is trial 0 with value: 0.6172409625048964.\u001b[0m\n",
            "\u001b[32m[I 2021-10-12 17:45:47,293]\u001b[0m Trial 2 finished with value: 0.6261531276446389 and parameters: {'colsample_bytree': 0.4, 'subsample': 0.8, 'learning_rate': 0.02, 'n_estimators': 745, 'max_depth': 8, 'min_child_weight': 173}. Best is trial 2 with value: 0.6261531276446389.\u001b[0m\n",
            "\u001b[32m[I 2021-10-12 17:45:52,709]\u001b[0m Trial 3 finished with value: 0.6036702779396729 and parameters: {'colsample_bytree': 0.3, 'subsample': 0.5, 'learning_rate': 0.009, 'n_estimators': 917, 'max_depth': 2, 'min_child_weight': 258}. Best is trial 2 with value: 0.6261531276446389.\u001b[0m\n",
            "\u001b[32m[I 2021-10-12 17:45:58,860]\u001b[0m Trial 4 finished with value: 0.626680539654839 and parameters: {'colsample_bytree': 0.9, 'subsample': 0.8, 'learning_rate': 0.018, 'n_estimators': 694, 'max_depth': 2, 'min_child_weight': 85}. Best is trial 4 with value: 0.626680539654839.\u001b[0m\n",
            "\u001b[32m[I 2021-10-12 17:46:03,827]\u001b[0m Trial 5 finished with value: 0.6252068336474348 and parameters: {'colsample_bytree': 0.3, 'subsample': 0.6, 'learning_rate': 0.009, 'n_estimators': 431, 'max_depth': 5, 'min_child_weight': 22}. Best is trial 4 with value: 0.626680539654839.\u001b[0m\n",
            "\u001b[32m[I 2021-10-12 17:46:09,199]\u001b[0m Trial 6 finished with value: 0.6051159939188667 and parameters: {'colsample_bytree': 0.6, 'subsample': 0.5, 'learning_rate': 0.016, 'n_estimators': 753, 'max_depth': 7, 'min_child_weight': 247}. Best is trial 4 with value: 0.626680539654839.\u001b[0m\n",
            "\u001b[32m[I 2021-10-12 17:46:17,125]\u001b[0m Trial 7 finished with value: 0.6241304551021972 and parameters: {'colsample_bytree': 0.7, 'subsample': 0.4, 'learning_rate': 0.016, 'n_estimators': 921, 'max_depth': 8, 'min_child_weight': 110}. Best is trial 4 with value: 0.626680539654839.\u001b[0m\n",
            "\u001b[32m[I 2021-10-12 17:46:25,105]\u001b[0m Trial 8 finished with value: 0.6310364555846151 and parameters: {'colsample_bytree': 1.0, 'subsample': 1.0, 'learning_rate': 0.02, 'n_estimators': 781, 'max_depth': 3, 'min_child_weight': 201}. Best is trial 8 with value: 0.6310364555846151.\u001b[0m\n",
            "\u001b[32m[I 2021-10-12 17:46:30,240]\u001b[0m Trial 9 finished with value: 0.62585325173245 and parameters: {'colsample_bytree': 0.4, 'subsample': 1.0, 'learning_rate': 0.014, 'n_estimators': 814, 'max_depth': 2, 'min_child_weight': 28}. Best is trial 8 with value: 0.6310364555846151.\u001b[0m\n",
            "\u001b[32m[I 2021-10-12 17:46:35,536]\u001b[0m Trial 10 finished with value: 0.6267044972173137 and parameters: {'colsample_bytree': 1.0, 'subsample': 1.0, 'learning_rate': 0.012, 'n_estimators': 501, 'max_depth': 3, 'min_child_weight': 189}. Best is trial 8 with value: 0.6310364555846151.\u001b[0m\n",
            "\u001b[32m[I 2021-10-12 17:46:40,595]\u001b[0m Trial 11 finished with value: 0.6283458089415127 and parameters: {'colsample_bytree': 1.0, 'subsample': 1.0, 'learning_rate': 0.012, 'n_estimators': 483, 'max_depth': 3, 'min_child_weight': 195}. Best is trial 8 with value: 0.6310364555846151.\u001b[0m\n",
            "\u001b[32m[I 2021-10-12 17:46:41,797]\u001b[0m Trial 12 finished with value: 0.6025195412814219 and parameters: {'colsample_bytree': 1.0, 'subsample': 1.0, 'learning_rate': 0.01, 'n_estimators': 106, 'max_depth': 3, 'min_child_weight': 207}. Best is trial 8 with value: 0.6310364555846151.\u001b[0m\n",
            "\u001b[32m[I 2021-10-12 17:46:46,725]\u001b[0m Trial 13 finished with value: 0.6298705566888229 and parameters: {'colsample_bytree': 0.5, 'subsample': 1.0, 'learning_rate': 0.012, 'n_estimators': 588, 'max_depth': 3, 'min_child_weight': 137}. Best is trial 8 with value: 0.6310364555846151.\u001b[0m\n",
            "\u001b[32m[I 2021-10-12 17:46:53,652]\u001b[0m Trial 14 finished with value: 0.6259057634292735 and parameters: {'colsample_bytree': 0.5, 'subsample': 1.0, 'learning_rate': 0.008, 'n_estimators': 652, 'max_depth': 9, 'min_child_weight': 129}. Best is trial 8 with value: 0.6310364555846151.\u001b[0m\n",
            "\u001b[32m[I 2021-10-12 17:46:58,525]\u001b[0m Trial 15 finished with value: 0.620860764779689 and parameters: {'colsample_bytree': 0.8, 'subsample': 0.6, 'learning_rate': 0.02, 'n_estimators': 580, 'max_depth': 4, 'min_child_weight': 229}. Best is trial 8 with value: 0.6310364555846151.\u001b[0m\n",
            "\u001b[32m[I 2021-10-12 17:47:03,663]\u001b[0m Trial 16 finished with value: 0.13984148029162755 and parameters: {'colsample_bytree': 0.5, 'subsample': 0.4, 'learning_rate': 0.012, 'n_estimators': 994, 'max_depth': 6, 'min_child_weight': 299}. Best is trial 8 with value: 0.6310364555846151.\u001b[0m\n",
            "\u001b[32m[I 2021-10-12 17:47:09,229]\u001b[0m Trial 17 finished with value: 0.6234174785375904 and parameters: {'colsample_bytree': 0.5, 'subsample': 0.7, 'learning_rate': 0.008, 'n_estimators': 611, 'max_depth': 3, 'min_child_weight': 156}. Best is trial 8 with value: 0.6310364555846151.\u001b[0m\n",
            "\u001b[32m[I 2021-10-12 17:47:17,548]\u001b[0m Trial 18 finished with value: 0.6280838079695245 and parameters: {'colsample_bytree': 0.9, 'subsample': 1.0, 'learning_rate': 0.01, 'n_estimators': 814, 'max_depth': 3, 'min_child_weight': 93}. Best is trial 8 with value: 0.6310364555846151.\u001b[0m\n",
            "\u001b[32m[I 2021-10-12 17:47:21,599]\u001b[0m Trial 19 finished with value: 0.6282784017736448 and parameters: {'colsample_bytree': 0.8, 'subsample': 1.0, 'learning_rate': 0.014, 'n_estimators': 324, 'max_depth': 5, 'min_child_weight': 140}. Best is trial 8 with value: 0.6310364555846151.\u001b[0m\n",
            "\u001b[32m[I 2021-10-12 17:47:27,439]\u001b[0m Trial 20 finished with value: 0.6265823900821049 and parameters: {'colsample_bytree': 0.6, 'subsample': 1.0, 'learning_rate': 0.02, 'n_estimators': 422, 'max_depth': 6, 'min_child_weight': 65}. Best is trial 8 with value: 0.6310364555846151.\u001b[0m\n",
            "\u001b[32m[I 2021-10-12 17:47:32,757]\u001b[0m Trial 21 finished with value: 0.6270127224823737 and parameters: {'colsample_bytree': 1.0, 'subsample': 1.0, 'learning_rate': 0.012, 'n_estimators': 509, 'max_depth': 3, 'min_child_weight': 210}. Best is trial 8 with value: 0.6310364555846151.\u001b[0m\n",
            "\u001b[32m[I 2021-10-12 17:47:38,543]\u001b[0m Trial 22 finished with value: 0.6302054987327497 and parameters: {'colsample_bytree': 1.0, 'subsample': 1.0, 'learning_rate': 0.012, 'n_estimators': 544, 'max_depth': 3, 'min_child_weight': 169}. Best is trial 8 with value: 0.6310364555846151.\u001b[0m\n",
            "\u001b[32m[I 2021-10-12 17:47:44,530]\u001b[0m Trial 23 finished with value: 0.6300868052237103 and parameters: {'colsample_bytree': 1.0, 'subsample': 1.0, 'learning_rate': 0.012, 'n_estimators': 565, 'max_depth': 3, 'min_child_weight': 162}. Best is trial 8 with value: 0.6310364555846151.\u001b[0m\n",
            "\u001b[32m[I 2021-10-12 17:47:53,744]\u001b[0m Trial 24 finished with value: 0.6295242942970475 and parameters: {'colsample_bytree': 1.0, 'subsample': 1.0, 'learning_rate': 0.012, 'n_estimators': 727, 'max_depth': 7, 'min_child_weight': 167}. Best is trial 8 with value: 0.6310364555846151.\u001b[0m\n",
            "\u001b[32m[I 2021-10-12 17:48:01,433]\u001b[0m Trial 25 finished with value: 0.6201268935615811 and parameters: {'colsample_bytree': 1.0, 'subsample': 0.8, 'learning_rate': 0.012, 'n_estimators': 849, 'max_depth': 9, 'min_child_weight': 274}. Best is trial 8 with value: 0.6310364555846151.\u001b[0m\n",
            "\u001b[32m[I 2021-10-12 17:48:06,249]\u001b[0m Trial 26 finished with value: 0.598688629823575 and parameters: {'colsample_bytree': 1.0, 'subsample': 0.4, 'learning_rate': 0.02, 'n_estimators': 653, 'max_depth': 4, 'min_child_weight': 222}. Best is trial 8 with value: 0.6310364555846151.\u001b[0m\n",
            "\u001b[32m[I 2021-10-12 17:48:10,589]\u001b[0m Trial 27 finished with value: 0.6198596662590631 and parameters: {'colsample_bytree': 1.0, 'subsample': 0.6, 'learning_rate': 0.012, 'n_estimators': 380, 'max_depth': 3, 'min_child_weight': 184}. Best is trial 8 with value: 0.6310364555846151.\u001b[0m\n",
            "\u001b[32m[I 2021-10-12 17:48:17,011]\u001b[0m Trial 28 finished with value: 0.6270358984941377 and parameters: {'colsample_bytree': 1.0, 'subsample': 0.7, 'learning_rate': 0.018, 'n_estimators': 520, 'max_depth': 3, 'min_child_weight': 126}. Best is trial 8 with value: 0.6310364555846151.\u001b[0m\n",
            "\u001b[32m[I 2021-10-12 17:48:18,503]\u001b[0m Trial 29 finished with value: 0.6175403711357832 and parameters: {'colsample_bytree': 0.7, 'subsample': 0.5, 'learning_rate': 0.02, 'n_estimators': 221, 'max_depth': 1, 'min_child_weight': 150}. Best is trial 8 with value: 0.6310364555846151.\u001b[0m\n",
            "\u001b[32m[I 2021-10-12 17:48:25,133]\u001b[0m Trial 30 finished with value: 0.624158550504589 and parameters: {'colsample_bytree': 1.0, 'subsample': 1.0, 'learning_rate': 0.009, 'n_estimators': 645, 'max_depth': 3, 'min_child_weight': 232}. Best is trial 8 with value: 0.6310364555846151.\u001b[0m\n",
            "\u001b[32m[I 2021-10-12 17:48:29,848]\u001b[0m Trial 31 finished with value: 0.6275253853607176 and parameters: {'colsample_bytree': 0.5, 'subsample': 1.0, 'learning_rate': 0.012, 'n_estimators': 561, 'max_depth': 3, 'min_child_weight': 124}. Best is trial 8 with value: 0.6310364555846151.\u001b[0m\n",
            "\u001b[32m[I 2021-10-12 17:48:34,686]\u001b[0m Trial 32 finished with value: 0.6276754222037092 and parameters: {'colsample_bytree': 0.5, 'subsample': 1.0, 'learning_rate': 0.012, 'n_estimators': 585, 'max_depth': 3, 'min_child_weight': 164}. Best is trial 8 with value: 0.6310364555846151.\u001b[0m\n",
            "\u001b[32m[I 2021-10-12 17:48:37,338]\u001b[0m Trial 33 finished with value: 0.6180955756776509 and parameters: {'colsample_bytree': 1.0, 'subsample': 1.0, 'learning_rate': 0.012, 'n_estimators': 446, 'max_depth': 1, 'min_child_weight': 180}. Best is trial 8 with value: 0.6310364555846151.\u001b[0m\n",
            "\u001b[32m[I 2021-10-12 17:48:40,388]\u001b[0m Trial 34 finished with value: 0.6288919311766389 and parameters: {'colsample_bytree': 0.3, 'subsample': 0.7, 'learning_rate': 0.02, 'n_estimators': 347, 'max_depth': 8, 'min_child_weight': 104}. Best is trial 8 with value: 0.6310364555846151.\u001b[0m\n",
            "\u001b[32m[I 2021-10-12 17:48:46,693]\u001b[0m Trial 35 finished with value: 0.6262181423888321 and parameters: {'colsample_bytree': 0.4, 'subsample': 0.8, 'learning_rate': 0.012, 'n_estimators': 725, 'max_depth': 3, 'min_child_weight': 67}. Best is trial 8 with value: 0.6310364555846151.\u001b[0m\n",
            "\u001b[32m[I 2021-10-12 17:48:53,326]\u001b[0m Trial 36 finished with value: 0.6289435081747298 and parameters: {'colsample_bytree': 0.9, 'subsample': 1.0, 'learning_rate': 0.018, 'n_estimators': 681, 'max_depth': 3, 'min_child_weight': 201}. Best is trial 8 with value: 0.6310364555846151.\u001b[0m\n",
            "\u001b[32m[I 2021-10-12 17:48:59,789]\u001b[0m Trial 37 finished with value: 0.6226039439991903 and parameters: {'colsample_bytree': 0.6, 'subsample': 0.5, 'learning_rate': 0.016, 'n_estimators': 782, 'max_depth': 5, 'min_child_weight': 143}. Best is trial 8 with value: 0.6310364555846151.\u001b[0m\n",
            "\u001b[32m[I 2021-10-12 17:49:08,804]\u001b[0m Trial 38 finished with value: 0.6277079108247915 and parameters: {'colsample_bytree': 0.7, 'subsample': 1.0, 'learning_rate': 0.014, 'n_estimators': 872, 'max_depth': 7, 'min_child_weight': 165}. Best is trial 8 with value: 0.6310364555846151.\u001b[0m\n",
            "\u001b[32m[I 2021-10-12 17:49:10,530]\u001b[0m Trial 39 finished with value: 0.6189544885335742 and parameters: {'colsample_bytree': 0.3, 'subsample': 0.6, 'learning_rate': 0.009, 'n_estimators': 267, 'max_depth': 2, 'min_child_weight': 246}. Best is trial 8 with value: 0.6310364555846151.\u001b[0m\n",
            "\u001b[32m[I 2021-10-12 17:49:17,185]\u001b[0m Trial 40 finished with value: 0.6241864594753187 and parameters: {'colsample_bytree': 0.8, 'subsample': 0.8, 'learning_rate': 0.01, 'n_estimators': 623, 'max_depth': 8, 'min_child_weight': 178}. Best is trial 8 with value: 0.6310364555846151.\u001b[0m\n",
            "\u001b[32m[I 2021-10-12 17:49:26,695]\u001b[0m Trial 41 finished with value: 0.6303916933497034 and parameters: {'colsample_bytree': 1.0, 'subsample': 1.0, 'learning_rate': 0.012, 'n_estimators': 746, 'max_depth': 7, 'min_child_weight': 164}. Best is trial 8 with value: 0.6310364555846151.\u001b[0m\n",
            "\u001b[32m[I 2021-10-12 17:49:34,428]\u001b[0m Trial 42 finished with value: 0.6304977059009761 and parameters: {'colsample_bytree': 1.0, 'subsample': 1.0, 'learning_rate': 0.012, 'n_estimators': 539, 'max_depth': 7, 'min_child_weight': 141}. Best is trial 8 with value: 0.6310364555846151.\u001b[0m\n",
            "\u001b[32m[I 2021-10-12 17:49:41,906]\u001b[0m Trial 43 finished with value: 0.6304582162494116 and parameters: {'colsample_bytree': 1.0, 'subsample': 1.0, 'learning_rate': 0.012, 'n_estimators': 461, 'max_depth': 7, 'min_child_weight': 112}. Best is trial 8 with value: 0.6310364555846151.\u001b[0m\n",
            "\u001b[32m[I 2021-10-12 17:49:48,961]\u001b[0m Trial 44 finished with value: 0.6302285988333628 and parameters: {'colsample_bytree': 1.0, 'subsample': 1.0, 'learning_rate': 0.012, 'n_estimators': 437, 'max_depth': 7, 'min_child_weight': 112}. Best is trial 8 with value: 0.6310364555846151.\u001b[0m\n",
            "\u001b[32m[I 2021-10-12 17:49:55,044]\u001b[0m Trial 45 finished with value: 0.6245998194937363 and parameters: {'colsample_bytree': 1.0, 'subsample': 0.4, 'learning_rate': 0.008, 'n_estimators': 463, 'max_depth': 7, 'min_child_weight': 79}. Best is trial 8 with value: 0.6310364555846151.\u001b[0m\n",
            "\u001b[32m[I 2021-10-12 17:50:01,373]\u001b[0m Trial 46 finished with value: 0.6300449524137008 and parameters: {'colsample_bytree': 1.0, 'subsample': 1.0, 'learning_rate': 0.016, 'n_estimators': 387, 'max_depth': 7, 'min_child_weight': 109}. Best is trial 8 with value: 0.6310364555846151.\u001b[0m\n",
            "\u001b[32m[I 2021-10-12 17:50:06,569]\u001b[0m Trial 47 finished with value: 0.6269718022283574 and parameters: {'colsample_bytree': 0.4, 'subsample': 1.0, 'learning_rate': 0.012, 'n_estimators': 410, 'max_depth': 7, 'min_child_weight': 55}. Best is trial 8 with value: 0.6310364555846151.\u001b[0m\n",
            "\u001b[32m[I 2021-10-12 17:50:17,502]\u001b[0m Trial 48 finished with value: 0.6240942327979467 and parameters: {'colsample_bytree': 1.0, 'subsample': 0.5, 'learning_rate': 0.02, 'n_estimators': 955, 'max_depth': 7, 'min_child_weight': 121}. Best is trial 8 with value: 0.6310364555846151.\u001b[0m\n",
            "\u001b[32m[I 2021-10-12 17:50:35,924]\u001b[0m Trial 49 finished with value: 0.6117430835411564 and parameters: {'colsample_bytree': 1.0, 'subsample': 1.0, 'learning_rate': 0.012, 'n_estimators': 771, 'max_depth': 7, 'min_child_weight': 6}. Best is trial 8 with value: 0.6310364555846151.\u001b[0m\n"
          ]
        },
        {
          "name": "stdout",
          "output_type": "stream",
          "text": [
            "Number of finished trials: 50\n",
            "Best trial: {'colsample_bytree': 1.0, 'subsample': 1.0, 'learning_rate': 0.02, 'n_estimators': 781, 'max_depth': 3, 'min_child_weight': 201}\n"
          ]
        }
      ],
      "source": [
        "study = optuna.create_study(direction='maximize')\n",
        "study.optimize(objective, n_trials=50)\n",
        "print('Number of finished trials:', len(study.trials))\n",
        "print('Best trial:', study.best_trial.params)"
      ]
    },
    {
      "cell_type": "code",
      "execution_count": 60,
      "metadata": {
        "id": "LEGJLH5ZX9J0"
      },
      "outputs": [],
      "source": [
        "model_name = \"XGBoost (top features)\"\n",
        "params[model_name] = study.best_params\n",
        "params[model_name]['scale_pos_weight'] = weight\n",
        "params[model_name]['random_state'] = 420\n",
        "model = xgb.XGBClassifier(**params[model_name])\n",
        "cv = model_selection.RepeatedStratifiedKFold(n_splits=3, n_repeats=2, random_state=420)"
      ]
    },
    {
      "cell_type": "code",
      "execution_count": 61,
      "metadata": {
        "colab": {
          "base_uri": "https://localhost:8080/"
        },
        "id": "ZCHqj9hBX9J2",
        "outputId": "cac37a98-76b3-4f34-f5fa-59f84e822122"
      },
      "outputs": [
        {
          "name": "stdout",
          "output_type": "stream",
          "text": [
            "Mean roc_auc: 0.84\n",
            "Mean f1: 0.63\n",
            "Mean precision: 0.53\n",
            "Mean recall: 0.78\n"
          ]
        }
      ],
      "source": [
        "for score in [\"roc_auc\", \"f1\", \"precision\", \"recall\"]:\n",
        "  scores = model_selection.cross_val_score(model, x_train_new,\n",
        "                                           y_train, scoring=score, cv=cv, n_jobs=-1)\n",
        "  print(f\"Mean {score}: {np.mean(scores):.2f}\")"
      ]
    },
    {
      "cell_type": "code",
      "execution_count": 63,
      "metadata": {
        "colab": {
          "base_uri": "https://localhost:8080/",
          "height": 405
        },
        "id": "vYOEw04UX9J3",
        "outputId": "a37bf402-9bdc-4a12-b6fc-f76ef977e78a"
      },
      "outputs": [
        {
          "name": "stdout",
          "output_type": "stream",
          "text": [
            "Model performance on Test data\n",
            "-----------------------------------\n",
            "aoc: 0.86\n",
            "f1: 0.65\n",
            "precision: 0.53\n",
            "recall: 0.82\n"
          ]
        },
        {
          "data": {
            "image/png": "[encoded data removed]",
            "text/plain": [
              "<Figure size 432x288 with 2 Axes>"
            ]
          },
          "metadata": {
            "needs_background": "light"
          },
          "output_type": "display_data"
        }
      ],
      "source": [
        "model.fit(x_train_new,y_test)\n",
        "y_pred = model.predict(x_test_new)\n",
        "y_pred_proba = model.predict_proba(x_test_new)[:,1]\n",
        "\n",
        "aoc = metrics.roc_auc_score(y_test,y_pred_proba)\n",
        "f1 = metrics.f1_score(y_test,y_pred)\n",
        "precision = metrics.precision_score(y_test,y_pred)\n",
        "recall = metrics.recall_score(y_test,y_pred)\n",
        "print(\"Model performance on Test data\")\n",
        "print(\"-\"*35)\n",
        "print(f\"aoc: {aoc:.2}\")\n",
        "print(f\"f1: {f1:.2}\")\n",
        "print(f\"precision: {precision:.2}\")\n",
        "print(f\"recall: {recall:.2}\")\n",
        "\n",
        "import matplotlib.pyplot as plt\n",
        "import seaborn as sns\n",
        "\n",
        "sns.heatmap(metrics.confusion_matrix(y_test,y_pred),\n",
        "annot=True,\n",
        "cmap='Blues',\n",
        "fmt = 'd',\n",
        "xticklabels=['No', 'Yes'],\n",
        "yticklabels=['No', 'Yes']\n",
        ")\n",
        "plt.xlabel('Predicted')\n",
        "plt.ylabel('True')\n",
        "plt.title('Confustion Matrix for test data')\n",
        "plt.show()"
      ]
    },
    {
      "cell_type": "code",
      "execution_count": 64,
      "metadata": {
        "colab": {
          "base_uri": "https://localhost:8080/",
          "height": 112
        },
        "id": "v5PD_SXfcqrA",
        "outputId": "b9a2a1a7-db1d-41cc-bc1e-af431e0f0243"
      },
      "outputs": [
        {
          "data": {
            "text/html": [
              "<div>\n",
              "<style scoped>\n",
              "    .dataframe tbody tr th:only-of-type {\n",
              "        vertical-align: middle;\n",
              "    }\n",
              "\n",
              "    .dataframe tbody tr th {\n",
              "        vertical-align: top;\n",
              "    }\n",
              "\n",
              "    .dataframe thead th {\n",
              "        text-align: right;\n",
              "    }\n",
              "</style>\n",
              "<table border=\"1\" class=\"dataframe\">\n",
              "  <thead>\n",
              "    <tr style=\"text-align: right;\">\n",
              "      <th></th>\n",
              "      <th>Model</th>\n",
              "      <th>test auc</th>\n",
              "      <th>test f1</th>\n",
              "      <th>test precision</th>\n",
              "      <th>test recall</th>\n",
              "    </tr>\n",
              "  </thead>\n",
              "  <tbody>\n",
              "    <tr>\n",
              "      <th>0</th>\n",
              "      <td>XGBoost (all features)</td>\n",
              "      <td>0.851970</td>\n",
              "      <td>0.635589</td>\n",
              "      <td>0.528110</td>\n",
              "      <td>0.797993</td>\n",
              "    </tr>\n",
              "    <tr>\n",
              "      <th>1</th>\n",
              "      <td>XGBoost (top features)</td>\n",
              "      <td>0.859034</td>\n",
              "      <td>0.645894</td>\n",
              "      <td>0.533595</td>\n",
              "      <td>0.818060</td>\n",
              "    </tr>\n",
              "  </tbody>\n",
              "</table>\n",
              "</div>"
            ],
            "text/plain": [
              "                    Model  test auc   test f1  test precision  test recall\n",
              "0  XGBoost (all features)  0.851970  0.635589        0.528110     0.797993\n",
              "1  XGBoost (top features)  0.859034  0.645894        0.533595     0.818060"
            ]
          },
          "execution_count": 64,
          "metadata": {},
          "output_type": "execute_result"
        }
      ],
      "source": [
        "\n",
        "\n",
        "model_perf = model_perf.append(\n",
        "   dict( zip(model_perf.columns,[\n",
        "     model_name,\n",
        "     aoc,\n",
        "     f1,\n",
        "     precision,\n",
        "    recall\n",
        "    ])),\n",
        "    ignore_index=True\n",
        ")\n",
        "model_perf.sort_values(by='test f1',ascending=False,inplace=True)\n",
        "model_perf\n"
      ]
    },
    {
      "cell_type": "code",
      "execution_count": 65,
      "metadata": {
        "colab": {
          "base_uri": "https://localhost:8080/",
          "height": 112
        },
        "id": "0Up0kPj5od3-",
        "outputId": "f00caf67-2e55-4b65-f65f-5c186f4a1e50"
      },
      "outputs": [
        {
          "data": {
            "text/html": [
              "<div>\n",
              "<style scoped>\n",
              "    .dataframe tbody tr th:only-of-type {\n",
              "        vertical-align: middle;\n",
              "    }\n",
              "\n",
              "    .dataframe tbody tr th {\n",
              "        vertical-align: top;\n",
              "    }\n",
              "\n",
              "    .dataframe thead th {\n",
              "        text-align: right;\n",
              "    }\n",
              "</style>\n",
              "<table border=\"1\" class=\"dataframe\">\n",
              "  <thead>\n",
              "    <tr style=\"text-align: right;\">\n",
              "      <th></th>\n",
              "      <th>Model</th>\n",
              "      <th>test auc</th>\n",
              "      <th>test f1</th>\n",
              "      <th>test precision</th>\n",
              "      <th>test recall</th>\n",
              "    </tr>\n",
              "  </thead>\n",
              "  <tbody>\n",
              "    <tr>\n",
              "      <th>1</th>\n",
              "      <td>XGBoost (top features)</td>\n",
              "      <td>0.859034</td>\n",
              "      <td>0.645894</td>\n",
              "      <td>0.533595</td>\n",
              "      <td>0.818060</td>\n",
              "    </tr>\n",
              "    <tr>\n",
              "      <th>0</th>\n",
              "      <td>XGBoost (all features)</td>\n",
              "      <td>0.851970</td>\n",
              "      <td>0.635589</td>\n",
              "      <td>0.528110</td>\n",
              "      <td>0.797993</td>\n",
              "    </tr>\n",
              "  </tbody>\n",
              "</table>\n",
              "</div>"
            ],
            "text/plain": [
              "                    Model  test auc   test f1  test precision  test recall\n",
              "1  XGBoost (top features)  0.859034  0.645894        0.533595     0.818060\n",
              "0  XGBoost (all features)  0.851970  0.635589        0.528110     0.797993"
            ]
          },
          "execution_count": 65,
          "metadata": {},
          "output_type": "execute_result"
        }
      ],
      "source": [
        "\n",
        "model_perf"
      ]
    },
    {
      "cell_type": "code",
      "execution_count": 66,
      "metadata": {
        "id": "cH_0K9e1blq_"
      },
      "outputs": [],
      "source": [
        "# model = xgb.XGBoost(\n",
        "#     **params[model_perf[\"Model\"].values[0]] #first element has the highest test f1\n",
        "# )\n",
        "\n",
        "# explain the model's predictions using SHAP\n",
        "explainer = shap.Explainer(model)\n",
        "shap_values = explainer(x_train_new)"
      ]
    },
    {
      "cell_type": "code",
      "execution_count": 68,
      "metadata": {
        "colab": {
          "base_uri": "https://localhost:8080/",
          "height": 411
        },
        "id": "Pd6f-rYebm-e",
        "outputId": "40a73727-fb8d-4dd1-cfa8-8f6265b8053e"
      },
      "outputs": [
        {
          "data": {
            "image/png": "[encoded data removed]",
            "text/plain": [
              "<Figure size 576x453.6 with 2 Axes>"
            ]
          },
          "metadata": {
            "needs_background": "light"
          },
          "output_type": "display_data"
        }
      ],
      "source": [
        "shap.summary_plot(shap_values,max_display = 12)"
      ]
    },
    {
      "cell_type": "markdown",
      "metadata": {},
      "source": [
        "# Model inferencing using SHAP (SHapley Additive exPlanations)\n",
        "\n",
        "Interesting inference observations from the above chart:\n",
        "*   Here `tenure` is the most important feature for the model and `SeniorCitizen` is the least important feature out of the shown features.\n",
        "*   Also as the value for `tenure` decreases, the probability of churn for a specific customer increases. That is recent customers are more likely to churn.\n",
        "*   Customer who were on `Month-to-Month` Contract are more likely to churn than those who were on `One Year` Contract and `Two Year` Contract.\n",
        "*   People who were on `Fiber optic` connection had higher probability of churning than others. Company should investigate to find out the reason why `Fiber optic` customers are dissatisfied with the service.\n",
        "*   People who had high `MonthlyCharges` are more likely to churn.\n",
        "*   Customers who paid by `'Electronic check'` were more likely to churn than others (`PaymentMethod`)."
      ]
    },
    {
      "cell_type": "code",
      "execution_count": 69,
      "metadata": {
        "colab": {
          "base_uri": "https://localhost:8080/"
        },
        "id": "_2Cz1Ij8b7pr",
        "outputId": "5be8ca77-68c8-4881-f2cc-50db549904e6"
      },
      "outputs": [
        {
          "data": {
            "text/plain": [
              "{'Contract': {'Month-to-month': 0.43,\n",
              "  'One year': 0.11,\n",
              "  'Two year': 0.03,\n",
              "  'UNK': 0.5},\n",
              " 'Dependents': {'No': 0.31, 'UNK': 0.5, 'Yes': 0.15},\n",
              " 'DeviceProtection': {'No': 0.39,\n",
              "  'No internet service': 0.07,\n",
              "  'UNK': 0.5,\n",
              "  'Yes': 0.23},\n",
              " 'InternetService': {'DSL': 0.19, 'Fiber optic': 0.42, 'No': 0.07, 'UNK': 0.5},\n",
              " 'MultipleLines': {'No': 0.25,\n",
              "  'No phone service': 0.26,\n",
              "  'UNK': 0.5,\n",
              "  'Yes': 0.29},\n",
              " 'OnlineBackup': {'No': 0.4,\n",
              "  'No internet service': 0.07,\n",
              "  'UNK': 0.5,\n",
              "  'Yes': 0.22},\n",
              " 'OnlineSecurity': {'No': 0.41,\n",
              "  'No internet service': 0.07,\n",
              "  'UNK': 0.5,\n",
              "  'Yes': 0.15},\n",
              " 'PaperlessBilling': {'No': 0.17, 'UNK': 0.5, 'Yes': 0.33},\n",
              " 'Partner': {'No': 0.33, 'UNK': 0.5, 'Yes': 0.2},\n",
              " 'PaymentMethod': {'Bank transfer (automatic)': 0.17,\n",
              "  'Credit card (automatic)': 0.15,\n",
              "  'Electronic check': 0.46,\n",
              "  'Mailed check': 0.19,\n",
              "  'UNK': 0.5},\n",
              " 'StreamingMovies': {'No': 0.33,\n",
              "  'No internet service': 0.07,\n",
              "  'UNK': 0.5,\n",
              "  'Yes': 0.31},\n",
              " 'StreamingTV': {'No': 0.34,\n",
              "  'No internet service': 0.07,\n",
              "  'UNK': 0.5,\n",
              "  'Yes': 0.3},\n",
              " 'TechSupport': {'No': 0.41,\n",
              "  'No internet service': 0.07,\n",
              "  'UNK': 0.5,\n",
              "  'Yes': 0.16}}"
            ]
          },
          "execution_count": 69,
          "metadata": {},
          "output_type": "execute_result"
        }
      ],
      "source": [
        "resp_enc.master_dict"
      ]
    },
    {
      "cell_type": "code",
      "execution_count": 70,
      "metadata": {
        "colab": {
          "base_uri": "https://localhost:8080/"
        },
        "id": "KUSJG-AFcKT9",
        "outputId": "59cf264d-f90a-42c0-d70e-b33b905aee26"
      },
      "outputs": [
        {
          "data": {
            "text/plain": [
              "Index(['Contract', 'tenure', 'InternetService', 'OnlineSecurity',\n",
              "       'PaymentMethod', 'TechSupport', 'MonthlyCharges', 'OnlineBackup',\n",
              "       'PaperlessBilling', 'DeviceProtection', 'Dependents', 'MultipleLines',\n",
              "       'Partner', 'StreamingMovies', 'SeniorCitizen', 'StreamingTV'],\n",
              "      dtype='object')"
            ]
          },
          "execution_count": 70,
          "metadata": {},
          "output_type": "execute_result"
        }
      ],
      "source": [
        "top_feat"
      ]
    },
    {
      "cell_type": "markdown",
      "metadata": {},
      "source": [
        "# Next Steps\n",
        "\n",
        "* Produce python scripts to ensure future training can be done smoothly and can be reproduced.\n",
        "* Create a web application to visualize the results.\n",
        "* Create a report to present the results."
      ]
    }
  ],
  "metadata": {
    "colab": {
      "collapsed_sections": [],
      "name": "2_preprocessing.ipynb",
      "provenance": []
    },
    "interpreter": {
      "hash": "58d33a3694048506498f23902903bff2638c7db08e3f59af12fce293e1170000"
    },
    "kernelspec": {
      "display_name": "Python 3.8.12 64-bit ('operation': conda)",
      "name": "python3"
    },
    "language_info": {
      "codemirror_mode": {
        "name": "ipython",
        "version": 3
      },
      "file_extension": ".py",
      "mimetype": "text/x-python",
      "name": "python",
      "nbconvert_exporter": "python",
      "pygments_lexer": "ipython3",
      "version": "3.8.12"
    }
  },
  "nbformat": 4,
  "nbformat_minor": 0
}
