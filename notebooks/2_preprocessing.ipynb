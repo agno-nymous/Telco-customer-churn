{
  "nbformat": 4,
  "nbformat_minor": 0,
  "metadata": {
    "colab": {
      "name": "2_preprocessing.ipynb",
      "provenance": [],
      "collapsed_sections": []
    },
    "interpreter": {
      "hash": "58d33a3694048506498f23902903bff2638c7db08e3f59af12fce293e1170000"
    },
    "kernelspec": {
      "display_name": "Python 3.8.12 64-bit ('operation': conda)",
      "name": "python3"
    },
    "language_info": {
      "codemirror_mode": {
        "name": "ipython",
        "version": 3
      },
      "file_extension": ".py",
      "mimetype": "text/x-python",
      "name": "python",
      "nbconvert_exporter": "python",
      "pygments_lexer": "ipython3",
      "version": "3.8.12"
    }
  },
  "cells": [
    {
      "cell_type": "code",
      "metadata": {
        "id": "IjQ4ZitSRukF"
      },
      "source": [
        "MAIN_FOLDER = '.'"
      ],
      "execution_count": 2,
      "outputs": []
    },
    {
      "cell_type": "code",
      "metadata": {
        "id": "tMTjeSMrIf_J"
      },
      "source": [
        "import pandas as pd\n",
        "import numpy as np\n",
        "import joblib\n",
        "import os\n",
        "\n",
        "\n",
        "#import all models\n",
        "from sklearn.linear_model import LogisticRegression\n",
        "from sklearn.tree import DecisionTreeClassifier\n",
        "from sklearn.ensemble import RandomForestClassifier\n",
        "import sklearn.model_selection as model_selection\n",
        "import xgboost as xgb\n",
        "import lightgbm as lgb\n",
        "\n",
        "#import all metrics\n",
        "import sklearn.metrics as metrics\n",
        "\n",
        "import warnings\n",
        "warnings.filterwarnings('ignore')\n",
        "import os\n",
        "os.environ['KMP_DUPLICATE_LIB_OK']='True'"
      ],
      "execution_count": 3,
      "outputs": []
    },
    {
      "cell_type": "code",
      "metadata": {
        "colab": {
          "base_uri": "https://localhost:8080/"
        },
        "id": "IGAeCwPdIf_O",
        "outputId": "df66d989-318d-4a20-9aab-ced35683dc55"
      },
      "source": [
        "\n",
        "#read data\n",
        "train = pd.read_csv(os.path.join(MAIN_FOLDER,\"data/train.csv\"))\n",
        "test = pd.read_csv(os.path.join(MAIN_FOLDER,\"data/train.csv\"))\n",
        "\n",
        "train.shape, test.shape"
      ],
      "execution_count": 4,
      "outputs": [
        {
          "output_type": "execute_result",
          "data": {
            "text/plain": [
              "((5634, 17), (5634, 17))"
            ]
          },
          "metadata": {},
          "execution_count": 4
        }
      ]
    },
    {
      "cell_type": "code",
      "metadata": {
        "colab": {
          "base_uri": "https://localhost:8080/",
          "height": 313
        },
        "id": "0BAY0j_ZIf_P",
        "outputId": "2a5c0fe3-ccc8-40b1-d323-6438b649cae2"
      },
      "source": [
        "train.head()"
      ],
      "execution_count": 5,
      "outputs": [
        {
          "output_type": "execute_result",
          "data": {
            "text/html": [
              "<div>\n",
              "<style scoped>\n",
              "    .dataframe tbody tr th:only-of-type {\n",
              "        vertical-align: middle;\n",
              "    }\n",
              "\n",
              "    .dataframe tbody tr th {\n",
              "        vertical-align: top;\n",
              "    }\n",
              "\n",
              "    .dataframe thead th {\n",
              "        text-align: right;\n",
              "    }\n",
              "</style>\n",
              "<table border=\"1\" class=\"dataframe\">\n",
              "  <thead>\n",
              "    <tr style=\"text-align: right;\">\n",
              "      <th></th>\n",
              "      <th>SeniorCitizen</th>\n",
              "      <th>Partner</th>\n",
              "      <th>Dependents</th>\n",
              "      <th>tenure</th>\n",
              "      <th>MultipleLines</th>\n",
              "      <th>InternetService</th>\n",
              "      <th>OnlineSecurity</th>\n",
              "      <th>OnlineBackup</th>\n",
              "      <th>DeviceProtection</th>\n",
              "      <th>TechSupport</th>\n",
              "      <th>StreamingTV</th>\n",
              "      <th>StreamingMovies</th>\n",
              "      <th>Contract</th>\n",
              "      <th>PaperlessBilling</th>\n",
              "      <th>PaymentMethod</th>\n",
              "      <th>MonthlyCharges</th>\n",
              "      <th>Churn</th>\n",
              "    </tr>\n",
              "  </thead>\n",
              "  <tbody>\n",
              "    <tr>\n",
              "      <th>0</th>\n",
              "      <td>0</td>\n",
              "      <td>Yes</td>\n",
              "      <td>Yes</td>\n",
              "      <td>43</td>\n",
              "      <td>No</td>\n",
              "      <td>DSL</td>\n",
              "      <td>No</td>\n",
              "      <td>Yes</td>\n",
              "      <td>No</td>\n",
              "      <td>No</td>\n",
              "      <td>No</td>\n",
              "      <td>No</td>\n",
              "      <td>Month-to-month</td>\n",
              "      <td>No</td>\n",
              "      <td>Mailed check</td>\n",
              "      <td>50.20</td>\n",
              "      <td>0</td>\n",
              "    </tr>\n",
              "    <tr>\n",
              "      <th>1</th>\n",
              "      <td>0</td>\n",
              "      <td>Yes</td>\n",
              "      <td>Yes</td>\n",
              "      <td>37</td>\n",
              "      <td>Yes</td>\n",
              "      <td>Fiber optic</td>\n",
              "      <td>No</td>\n",
              "      <td>Yes</td>\n",
              "      <td>Yes</td>\n",
              "      <td>No</td>\n",
              "      <td>No</td>\n",
              "      <td>Yes</td>\n",
              "      <td>Month-to-month</td>\n",
              "      <td>Yes</td>\n",
              "      <td>Electronic check</td>\n",
              "      <td>95.15</td>\n",
              "      <td>0</td>\n",
              "    </tr>\n",
              "    <tr>\n",
              "      <th>2</th>\n",
              "      <td>0</td>\n",
              "      <td>No</td>\n",
              "      <td>No</td>\n",
              "      <td>35</td>\n",
              "      <td>Yes</td>\n",
              "      <td>DSL</td>\n",
              "      <td>Yes</td>\n",
              "      <td>No</td>\n",
              "      <td>Yes</td>\n",
              "      <td>Yes</td>\n",
              "      <td>Yes</td>\n",
              "      <td>Yes</td>\n",
              "      <td>One year</td>\n",
              "      <td>Yes</td>\n",
              "      <td>Credit card (automatic)</td>\n",
              "      <td>85.95</td>\n",
              "      <td>1</td>\n",
              "    </tr>\n",
              "    <tr>\n",
              "      <th>3</th>\n",
              "      <td>0</td>\n",
              "      <td>Yes</td>\n",
              "      <td>No</td>\n",
              "      <td>69</td>\n",
              "      <td>No phone service</td>\n",
              "      <td>DSL</td>\n",
              "      <td>Yes</td>\n",
              "      <td>No</td>\n",
              "      <td>Yes</td>\n",
              "      <td>Yes</td>\n",
              "      <td>Yes</td>\n",
              "      <td>Yes</td>\n",
              "      <td>Two year</td>\n",
              "      <td>No</td>\n",
              "      <td>Bank transfer (automatic)</td>\n",
              "      <td>60.25</td>\n",
              "      <td>0</td>\n",
              "    </tr>\n",
              "    <tr>\n",
              "      <th>4</th>\n",
              "      <td>0</td>\n",
              "      <td>Yes</td>\n",
              "      <td>Yes</td>\n",
              "      <td>69</td>\n",
              "      <td>No</td>\n",
              "      <td>No</td>\n",
              "      <td>No internet service</td>\n",
              "      <td>No internet service</td>\n",
              "      <td>No internet service</td>\n",
              "      <td>No internet service</td>\n",
              "      <td>No internet service</td>\n",
              "      <td>No internet service</td>\n",
              "      <td>Two year</td>\n",
              "      <td>No</td>\n",
              "      <td>Bank transfer (automatic)</td>\n",
              "      <td>20.20</td>\n",
              "      <td>0</td>\n",
              "    </tr>\n",
              "  </tbody>\n",
              "</table>\n",
              "</div>"
            ],
            "text/plain": [
              "   SeniorCitizen Partner  ... MonthlyCharges  Churn\n",
              "0              0     Yes  ...          50.20      0\n",
              "1              0     Yes  ...          95.15      0\n",
              "2              0      No  ...          85.95      1\n",
              "3              0     Yes  ...          60.25      0\n",
              "4              0     Yes  ...          20.20      0\n",
              "\n",
              "[5 rows x 17 columns]"
            ]
          },
          "metadata": {},
          "execution_count": 5
        }
      ]
    },
    {
      "cell_type": "code",
      "metadata": {
        "colab": {
          "base_uri": "https://localhost:8080/"
        },
        "id": "2EevXoDfIf_Q",
        "outputId": "15c4bdbf-b6fb-425a-886c-4262c8a3937b"
      },
      "source": [
        "train.info()"
      ],
      "execution_count": 6,
      "outputs": [
        {
          "output_type": "stream",
          "name": "stdout",
          "text": [
            "<class 'pandas.core.frame.DataFrame'>\n",
            "RangeIndex: 5634 entries, 0 to 5633\n",
            "Data columns (total 17 columns):\n",
            " #   Column            Non-Null Count  Dtype  \n",
            "---  ------            --------------  -----  \n",
            " 0   SeniorCitizen     5634 non-null   int64  \n",
            " 1   Partner           5634 non-null   object \n",
            " 2   Dependents        5634 non-null   object \n",
            " 3   tenure            5634 non-null   int64  \n",
            " 4   MultipleLines     5634 non-null   object \n",
            " 5   InternetService   5634 non-null   object \n",
            " 6   OnlineSecurity    5634 non-null   object \n",
            " 7   OnlineBackup      5634 non-null   object \n",
            " 8   DeviceProtection  5634 non-null   object \n",
            " 9   TechSupport       5634 non-null   object \n",
            " 10  StreamingTV       5634 non-null   object \n",
            " 11  StreamingMovies   5634 non-null   object \n",
            " 12  Contract          5634 non-null   object \n",
            " 13  PaperlessBilling  5634 non-null   object \n",
            " 14  PaymentMethod     5634 non-null   object \n",
            " 15  MonthlyCharges    5634 non-null   float64\n",
            " 16  Churn             5634 non-null   int64  \n",
            "dtypes: float64(1), int64(3), object(13)\n",
            "memory usage: 748.4+ KB\n"
          ]
        }
      ]
    },
    {
      "cell_type": "markdown",
      "metadata": {
        "id": "-UrLEDLdRn7f"
      },
      "source": [
        "Get those columns which are of object type and those columns which are of int type"
      ]
    },
    {
      "cell_type": "code",
      "metadata": {
        "id": "VldUAEmOIf_Q"
      },
      "source": [
        "get_obj_cols = [col for col in train.columns if train[col].dtype == 'object']\n",
        "get_int_cols = [col for col in train.columns if train[col].dtype != 'object']"
      ],
      "execution_count": 7,
      "outputs": []
    },
    {
      "cell_type": "markdown",
      "metadata": {
        "id": "1gir00G3If_Q"
      },
      "source": [
        "# Response Encoding\n",
        "\n",
        "[More info check this link](https://medium.com/@thewingedwolf.winterfell/response-coding-for-categorical-data-7bb8916c6dc1)"
      ]
    },
    {
      "cell_type": "markdown",
      "metadata": {
        "id": "V3COZZUTRn7h"
      },
      "source": [
        "We will response encode the categorical data instead of using one hot encoding the categorical data. The below is the code for that."
      ]
    },
    {
      "cell_type": "code",
      "metadata": {
        "id": "xXw0zWCMIf_S"
      },
      "source": [
        "#create a class response_encoding which fit and transform the categorical columns\n",
        "\n",
        "class response_encoding:\n",
        "  \"\"\"\n",
        "  This function is used to fit and transform the dataframe in one go.\n",
        "  This is only made for binary classification problems.\n",
        "  \"\"\"\n",
        "  def __init__(self,cols,target = 'Churn',alpha = 0, target_value = 1):\n",
        "    \"\"\"\n",
        "    Parameters:\n",
        "    -----------\n",
        "    cols: list of categorical columns\n",
        "    target: the target column\n",
        "    alpha: the smoothing parameter\n",
        "    target_value: the target value\n",
        "    \"\"\"\n",
        "    self.cols = cols\n",
        "    self.master_dict = {} #storing the original values\n",
        "    self.alpha = alpha #smoothing parameter\n",
        "    self.target = target\n",
        "    self.target_value = 1\n",
        "    \n",
        "  def fit(self,df):\n",
        "    alpha = self.alpha\n",
        "    target = self.target\n",
        "    for column in self.cols:\n",
        "      unique_values = df[column].unique() #all unique values in that categorical column\n",
        "      dict_values = {} #storing the response encoding values for target=1\n",
        "      for value in unique_values:\n",
        "        total = len(df[df[column]==value]) #the total no. of datapoints with 'value' catgeory\n",
        "        sum_promoted = len(df[(df[column]==value) & (df[target]==self.target_value)]) #no. of all datapoints with category being 'value' and target=='yes'\n",
        "        dict_values[value] = np.round((sum_promoted+alpha)/(total+alpha*len(unique_values)),2) #storing the obtained result in a dictionary\n",
        "      dict_values['UNK']=0.5 #unknown categories that are not seen in train will be assigned a score of 0.5\n",
        "      self.master_dict[column] = dict_values.copy() #storing the original values in a dictionary\n",
        "    \n",
        "    return None\n",
        "    \n",
        "  def transform(self,df):\n",
        "    for column in self.cols:\n",
        "      df[column] = df[column].map(self.master_dict[column]) #map the values in the column to the dictionary\n",
        "    return df"
      ],
      "execution_count": 8,
      "outputs": []
    },
    {
      "cell_type": "code",
      "metadata": {
        "colab": {
          "base_uri": "https://localhost:8080/",
          "height": 226
        },
        "id": "F5YVzL9tIf_T",
        "outputId": "debb7b9f-8280-48f1-f1dc-f71c56069057"
      },
      "source": [
        "#fit the response_encoding class to the train data\n",
        "#response encoding all the categorical columns\n",
        "resp_enc = response_encoding(cols=get_obj_cols,target='Churn',alpha=0.1)\n",
        "resp_enc.fit(train)\n",
        "\n",
        "train = resp_enc.transform(train)\n",
        "test = resp_enc.transform(test)\n",
        "\n",
        "train.head()"
      ],
      "execution_count": 9,
      "outputs": [
        {
          "output_type": "execute_result",
          "data": {
            "text/html": [
              "<div>\n",
              "<style scoped>\n",
              "    .dataframe tbody tr th:only-of-type {\n",
              "        vertical-align: middle;\n",
              "    }\n",
              "\n",
              "    .dataframe tbody tr th {\n",
              "        vertical-align: top;\n",
              "    }\n",
              "\n",
              "    .dataframe thead th {\n",
              "        text-align: right;\n",
              "    }\n",
              "</style>\n",
              "<table border=\"1\" class=\"dataframe\">\n",
              "  <thead>\n",
              "    <tr style=\"text-align: right;\">\n",
              "      <th></th>\n",
              "      <th>SeniorCitizen</th>\n",
              "      <th>Partner</th>\n",
              "      <th>Dependents</th>\n",
              "      <th>tenure</th>\n",
              "      <th>MultipleLines</th>\n",
              "      <th>InternetService</th>\n",
              "      <th>OnlineSecurity</th>\n",
              "      <th>OnlineBackup</th>\n",
              "      <th>DeviceProtection</th>\n",
              "      <th>TechSupport</th>\n",
              "      <th>StreamingTV</th>\n",
              "      <th>StreamingMovies</th>\n",
              "      <th>Contract</th>\n",
              "      <th>PaperlessBilling</th>\n",
              "      <th>PaymentMethod</th>\n",
              "      <th>MonthlyCharges</th>\n",
              "      <th>Churn</th>\n",
              "    </tr>\n",
              "  </thead>\n",
              "  <tbody>\n",
              "    <tr>\n",
              "      <th>0</th>\n",
              "      <td>0</td>\n",
              "      <td>0.20</td>\n",
              "      <td>0.15</td>\n",
              "      <td>43</td>\n",
              "      <td>0.25</td>\n",
              "      <td>0.19</td>\n",
              "      <td>0.41</td>\n",
              "      <td>0.22</td>\n",
              "      <td>0.39</td>\n",
              "      <td>0.41</td>\n",
              "      <td>0.34</td>\n",
              "      <td>0.33</td>\n",
              "      <td>0.43</td>\n",
              "      <td>0.17</td>\n",
              "      <td>0.19</td>\n",
              "      <td>50.20</td>\n",
              "      <td>0</td>\n",
              "    </tr>\n",
              "    <tr>\n",
              "      <th>1</th>\n",
              "      <td>0</td>\n",
              "      <td>0.20</td>\n",
              "      <td>0.15</td>\n",
              "      <td>37</td>\n",
              "      <td>0.29</td>\n",
              "      <td>0.42</td>\n",
              "      <td>0.41</td>\n",
              "      <td>0.22</td>\n",
              "      <td>0.23</td>\n",
              "      <td>0.41</td>\n",
              "      <td>0.34</td>\n",
              "      <td>0.31</td>\n",
              "      <td>0.43</td>\n",
              "      <td>0.33</td>\n",
              "      <td>0.46</td>\n",
              "      <td>95.15</td>\n",
              "      <td>0</td>\n",
              "    </tr>\n",
              "    <tr>\n",
              "      <th>2</th>\n",
              "      <td>0</td>\n",
              "      <td>0.33</td>\n",
              "      <td>0.31</td>\n",
              "      <td>35</td>\n",
              "      <td>0.29</td>\n",
              "      <td>0.19</td>\n",
              "      <td>0.15</td>\n",
              "      <td>0.40</td>\n",
              "      <td>0.23</td>\n",
              "      <td>0.16</td>\n",
              "      <td>0.30</td>\n",
              "      <td>0.31</td>\n",
              "      <td>0.11</td>\n",
              "      <td>0.33</td>\n",
              "      <td>0.15</td>\n",
              "      <td>85.95</td>\n",
              "      <td>1</td>\n",
              "    </tr>\n",
              "    <tr>\n",
              "      <th>3</th>\n",
              "      <td>0</td>\n",
              "      <td>0.20</td>\n",
              "      <td>0.31</td>\n",
              "      <td>69</td>\n",
              "      <td>0.26</td>\n",
              "      <td>0.19</td>\n",
              "      <td>0.15</td>\n",
              "      <td>0.40</td>\n",
              "      <td>0.23</td>\n",
              "      <td>0.16</td>\n",
              "      <td>0.30</td>\n",
              "      <td>0.31</td>\n",
              "      <td>0.03</td>\n",
              "      <td>0.17</td>\n",
              "      <td>0.17</td>\n",
              "      <td>60.25</td>\n",
              "      <td>0</td>\n",
              "    </tr>\n",
              "    <tr>\n",
              "      <th>4</th>\n",
              "      <td>0</td>\n",
              "      <td>0.20</td>\n",
              "      <td>0.15</td>\n",
              "      <td>69</td>\n",
              "      <td>0.25</td>\n",
              "      <td>0.07</td>\n",
              "      <td>0.07</td>\n",
              "      <td>0.07</td>\n",
              "      <td>0.07</td>\n",
              "      <td>0.07</td>\n",
              "      <td>0.07</td>\n",
              "      <td>0.07</td>\n",
              "      <td>0.03</td>\n",
              "      <td>0.17</td>\n",
              "      <td>0.17</td>\n",
              "      <td>20.20</td>\n",
              "      <td>0</td>\n",
              "    </tr>\n",
              "  </tbody>\n",
              "</table>\n",
              "</div>"
            ],
            "text/plain": [
              "   SeniorCitizen  Partner  Dependents  ...  PaymentMethod  MonthlyCharges  Churn\n",
              "0              0     0.20        0.15  ...           0.19           50.20      0\n",
              "1              0     0.20        0.15  ...           0.46           95.15      0\n",
              "2              0     0.33        0.31  ...           0.15           85.95      1\n",
              "3              0     0.20        0.31  ...           0.17           60.25      0\n",
              "4              0     0.20        0.15  ...           0.17           20.20      0\n",
              "\n",
              "[5 rows x 17 columns]"
            ]
          },
          "metadata": {},
          "execution_count": 9
        }
      ]
    },
    {
      "cell_type": "code",
      "metadata": {
        "id": "JXjcsRhFRn7i"
      },
      "source": [
        "#save the resp_enc object to a file\n",
        "# with open('../model/resp_enc.pkl','wb') as f:\n",
        "#     joblib.dump(resp_enc,f)"
      ],
      "execution_count": 10,
      "outputs": []
    },
    {
      "cell_type": "code",
      "metadata": {
        "id": "jEJvKoM1Rn7j"
      },
      "source": [
        "# train.to_csv('../data/train_encoded.csv',index=False)\n",
        "# test.to_csv('../data/test_encoded.csv',index=False)"
      ],
      "execution_count": 11,
      "outputs": []
    },
    {
      "cell_type": "markdown",
      "metadata": {
        "id": "LbW2RuVLIf_T"
      },
      "source": [
        "# Modelling"
      ]
    },
    {
      "cell_type": "code",
      "metadata": {
        "id": "knHgl3-6If_U"
      },
      "source": [
        "#split the data into x and y\n",
        "x_train = train.drop(['Churn'],axis=1)\n",
        "y_train = train['Churn']\n",
        "\n",
        "x_test = test.drop(['Churn'],axis=1)\n",
        "y_test = test['Churn']"
      ],
      "execution_count": 12,
      "outputs": []
    },
    {
      "cell_type": "markdown",
      "metadata": {
        "id": "md9beqGoRn7j"
      },
      "source": [
        "Since this is an imbalanced classification we need to assign weights to the classes. We will use the below code to do that. This is specifically for XGBoost and it is not applicable for other models as specified in the official documentation. For other models we will use 'balanced'."
      ]
    },
    {
      "cell_type": "code",
      "metadata": {
        "id": "7i0GvvTYIf_U"
      },
      "source": [
        "#for xgboost\n",
        "#weight = no. of negative classes/no. of positive classes\n",
        "weight = (y_train == 0).sum()/(y_train == 1).sum() "
      ],
      "execution_count": 13,
      "outputs": []
    },
    {
      "cell_type": "markdown",
      "metadata": {
        "id": "uqi9reC4Rn7j"
      },
      "source": [
        "We will be fitting Decision Tree Classifier, Random Forest Classifier, XGBoost Classifier and LightGBM Classifier."
      ]
    },
    {
      "cell_type": "code",
      "metadata": {
        "colab": {
          "base_uri": "https://localhost:8080/"
        },
        "id": "DzydSbFnIf_V",
        "outputId": "76c3795a-74a8-46bc-eb89-cbf63130442b"
      },
      "source": [
        "models = {\n",
        "    'Decision Tree': DecisionTreeClassifier(class_weight='balanced', random_state=420),\n",
        "    'Random Forest': RandomForestClassifier(class_weight='balanced_subsample',n_jobs = -1,\n",
        "                                            n_estimators=50, max_depth=10, random_state=420),  \n",
        "    'XGBoost': xgb.XGBClassifier(scale_pos_weight = weight,use_label_encoder=False,\n",
        "                                n_jobs = -1, random_state=420),\n",
        "    'LightGBM': lgb.LGBMClassifier(class_weight='balanced', n_jobs = -1, random_state=420)\n",
        "}\n",
        "\n",
        "cv = model_selection.RepeatedStratifiedKFold(n_splits=3, n_repeats=2, random_state=420)\n",
        "\n",
        "for model_name, model in models.items():\n",
        "    print(model_name)\n",
        "    for score in [\"roc_auc\", \"f1\", \"precision\", \"recall\"]:\n",
        "        scores = model_selection.cross_val_score(model, x_train, y_train, scoring=score, cv=cv, n_jobs=-1)\n",
        "        print(f\"Mean {score}: {np.mean(scores):.2f}\")\n",
        "    print('\\n')"
      ],
      "execution_count": 152,
      "outputs": [
        {
          "output_type": "stream",
          "name": "stdout",
          "text": [
            "Decision Tree\n",
            "Mean roc_auc: 0.65\n",
            "Mean f1: 0.48\n",
            "Mean precision: 0.48\n",
            "Mean recall: 0.48\n",
            "\n",
            "\n",
            "Random Forest\n",
            "Mean roc_auc: 0.83\n",
            "Mean f1: 0.61\n",
            "Mean precision: 0.57\n",
            "Mean recall: 0.67\n",
            "\n",
            "\n",
            "XGBoost\n",
            "Mean roc_auc: 0.84\n",
            "Mean f1: 0.63\n",
            "Mean precision: 0.52\n",
            "Mean recall: 0.80\n",
            "\n",
            "\n",
            "LightGBM\n",
            "Mean roc_auc: 0.82\n",
            "Mean f1: 0.60\n",
            "Mean precision: 0.52\n",
            "Mean recall: 0.71\n",
            "\n",
            "\n"
          ]
        }
      ]
    },
    {
      "cell_type": "markdown",
      "metadata": {
        "id": "CbUWE5ydj3rC"
      },
      "source": [
        "The best model is found to be XGBoost which had the large scores in both roc-auc, f1, precision and recall.\n",
        "\n",
        "# Next Steps\n",
        "\n",
        "* Hyperparameter tune the XGBoost model and validate it on test data.\n",
        "* Study feature importance using Shapley values.\n",
        "* Build python scripts to ensure future training can be done smoothly and can be reproduced.\n",
        "\n",
        "# Hyperparameter tune the XGBoost"
      ]
    },
    {
      "cell_type": "code",
      "metadata": {
        "id": "a-4xi9AKyOOk"
      },
      "source": [
        "# !pip install optuna \n",
        "import optuna"
      ],
      "execution_count": 153,
      "outputs": []
    },
    {
      "cell_type": "code",
      "metadata": {
        "id": "yhPnIAksUo7a"
      },
      "source": [
        "def objective(trial,data=x_train,target=y_train):\n",
        "    param = {\n",
        "        #'tree_method':'gpu_hist',  # this parameter means using the GPU when training our model to speedup the training process\n",
        "        'colsample_bytree': trial.suggest_categorical('colsample_bytree', [0.3,0.4,0.5,0.6,0.7,0.8,0.9, 1.0]),\n",
        "        'subsample': trial.suggest_categorical('subsample', [0.4,0.5,0.6,0.7,0.8,1.0]),\n",
        "        'learning_rate': trial.suggest_categorical('learning_rate', [0.008,0.009,0.01,0.012,0.014,0.016,0.018, 0.02]),\n",
        "        'n_estimators': trial.suggest_int('n_estimators',100,1000),\n",
        "        'max_depth': trial.suggest_categorical('max_depth', [i+1 for i in range(9)]),\n",
        "        'random_state': 420,\n",
        "        'min_child_weight': trial.suggest_int('min_child_weight', 1, 300),\n",
        "        'scale_pos_weight': weight\n",
        "    }\n",
        "    model = xgb.XGBClassifier(**param)  \n",
        "    \n",
        "    cv = model_selection.RepeatedStratifiedKFold(n_splits=3, n_repeats=2, random_state=420)\n",
        "\n",
        "    scores = model_selection.cross_val_score(model, data, target, scoring=\"f1\", cv=cv, n_jobs=-1)\n",
        "    \n",
        "    return np.mean(scores)"
      ],
      "execution_count": 155,
      "outputs": []
    },
    {
      "cell_type": "code",
      "metadata": {
        "colab": {
          "base_uri": "https://localhost:8080/"
        },
        "id": "6LBtuJywy3Gm",
        "outputId": "29cbb647-91e9-4c62-97ce-71648051a9f4"
      },
      "source": [
        "study = optuna.create_study(direction='maximize')\n",
        "study.optimize(objective, n_trials=50)\n",
        "print('Number of finished trials:', len(study.trials))\n",
        "print('Best trial:', study.best_trial.params)"
      ],
      "execution_count": 156,
      "outputs": [
        {
          "output_type": "stream",
          "name": "stderr",
          "text": [
            "\u001b[32m[I 2021-10-11 22:54:10,134]\u001b[0m A new study created in memory with name: no-name-500fa055-75d5-43e6-a6b0-c66e2d9f21b4\u001b[0m\n",
            "\u001b[32m[I 2021-10-11 22:54:13,592]\u001b[0m Trial 0 finished with value: 0.6243299501202937 and parameters: {'colsample_bytree': 0.5, 'subsample': 0.8, 'learning_rate': 0.01, 'n_estimators': 276, 'max_depth': 6, 'min_child_weight': 98}. Best is trial 0 with value: 0.6243299501202937.\u001b[0m\n",
            "\u001b[32m[I 2021-10-11 22:54:20,304]\u001b[0m Trial 1 finished with value: 0.6274569103745834 and parameters: {'colsample_bytree': 0.7, 'subsample': 0.6, 'learning_rate': 0.009, 'n_estimators': 443, 'max_depth': 4, 'min_child_weight': 13}. Best is trial 1 with value: 0.6274569103745834.\u001b[0m\n",
            "\u001b[32m[I 2021-10-11 22:54:26,891]\u001b[0m Trial 2 finished with value: 0.6194273709952506 and parameters: {'colsample_bytree': 1.0, 'subsample': 0.6, 'learning_rate': 0.02, 'n_estimators': 923, 'max_depth': 1, 'min_child_weight': 242}. Best is trial 1 with value: 0.6274569103745834.\u001b[0m\n",
            "\u001b[32m[I 2021-10-11 22:54:32,178]\u001b[0m Trial 3 finished with value: 0.6073111499764461 and parameters: {'colsample_bytree': 0.4, 'subsample': 0.4, 'learning_rate': 0.018, 'n_estimators': 842, 'max_depth': 7, 'min_child_weight': 197}. Best is trial 1 with value: 0.6274569103745834.\u001b[0m\n",
            "\u001b[32m[I 2021-10-11 22:54:37,188]\u001b[0m Trial 4 finished with value: 0.6271434156945911 and parameters: {'colsample_bytree': 0.8, 'subsample': 0.4, 'learning_rate': 0.008, 'n_estimators': 265, 'max_depth': 8, 'min_child_weight': 24}. Best is trial 1 with value: 0.6274569103745834.\u001b[0m\n",
            "\u001b[32m[I 2021-10-11 22:54:45,379]\u001b[0m Trial 5 finished with value: 0.6269295485813843 and parameters: {'colsample_bytree': 0.5, 'subsample': 0.6, 'learning_rate': 0.016, 'n_estimators': 991, 'max_depth': 7, 'min_child_weight': 163}. Best is trial 1 with value: 0.6274569103745834.\u001b[0m\n",
            "\u001b[32m[I 2021-10-11 22:54:49,663]\u001b[0m Trial 6 finished with value: 0.6276603335337653 and parameters: {'colsample_bytree': 0.4, 'subsample': 0.5, 'learning_rate': 0.014, 'n_estimators': 441, 'max_depth': 3, 'min_child_weight': 20}. Best is trial 6 with value: 0.6276603335337653.\u001b[0m\n",
            "\u001b[32m[I 2021-10-11 22:54:56,465]\u001b[0m Trial 7 finished with value: 0.6282614616351695 and parameters: {'colsample_bytree': 0.7, 'subsample': 1.0, 'learning_rate': 0.01, 'n_estimators': 528, 'max_depth': 5, 'min_child_weight': 114}. Best is trial 7 with value: 0.6282614616351695.\u001b[0m\n",
            "\u001b[32m[I 2021-10-11 22:55:04,540]\u001b[0m Trial 8 finished with value: 0.6268075564179302 and parameters: {'colsample_bytree': 0.6, 'subsample': 0.7, 'learning_rate': 0.014, 'n_estimators': 985, 'max_depth': 2, 'min_child_weight': 4}. Best is trial 7 with value: 0.6282614616351695.\u001b[0m\n",
            "\u001b[32m[I 2021-10-11 22:55:07,991]\u001b[0m Trial 9 finished with value: 0.6245176501450056 and parameters: {'colsample_bytree': 0.8, 'subsample': 0.7, 'learning_rate': 0.014, 'n_estimators': 372, 'max_depth': 2, 'min_child_weight': 3}. Best is trial 7 with value: 0.6282614616351695.\u001b[0m\n",
            "\u001b[32m[I 2021-10-11 22:55:16,409]\u001b[0m Trial 10 finished with value: 0.624992846738644 and parameters: {'colsample_bytree': 0.7, 'subsample': 1.0, 'learning_rate': 0.012, 'n_estimators': 641, 'max_depth': 5, 'min_child_weight': 100}. Best is trial 7 with value: 0.6282614616351695.\u001b[0m\n",
            "\u001b[32m[I 2021-10-11 22:55:21,503]\u001b[0m Trial 11 finished with value: 0.6272870698694905 and parameters: {'colsample_bytree': 0.3, 'subsample': 0.5, 'learning_rate': 0.01, 'n_estimators': 632, 'max_depth': 3, 'min_child_weight': 86}. Best is trial 7 with value: 0.6282614616351695.\u001b[0m\n",
            "\u001b[32m[I 2021-10-11 22:55:27,350]\u001b[0m Trial 12 finished with value: 0.6243469880227347 and parameters: {'colsample_bytree': 0.9, 'subsample': 1.0, 'learning_rate': 0.01, 'n_estimators': 549, 'max_depth': 3, 'min_child_weight': 64}. Best is trial 7 with value: 0.6282614616351695.\u001b[0m\n",
            "\u001b[32m[I 2021-10-11 22:55:28,683]\u001b[0m Trial 13 finished with value: 0.6188564685183163 and parameters: {'colsample_bytree': 0.4, 'subsample': 0.5, 'learning_rate': 0.014, 'n_estimators': 148, 'max_depth': 9, 'min_child_weight': 140}. Best is trial 7 with value: 0.6282614616351695.\u001b[0m\n",
            "\u001b[32m[I 2021-10-11 22:55:36,895]\u001b[0m Trial 14 finished with value: 0.6258455201757984 and parameters: {'colsample_bytree': 0.4, 'subsample': 1.0, 'learning_rate': 0.012, 'n_estimators': 729, 'max_depth': 5, 'min_child_weight': 55}. Best is trial 7 with value: 0.6282614616351695.\u001b[0m\n",
            "\u001b[32m[I 2021-10-11 22:55:40,368]\u001b[0m Trial 15 finished with value: 0.5870509487567921 and parameters: {'colsample_bytree': 0.7, 'subsample': 0.5, 'learning_rate': 0.016, 'n_estimators': 491, 'max_depth': 5, 'min_child_weight': 296}. Best is trial 7 with value: 0.6282614616351695.\u001b[0m\n",
            "\u001b[32m[I 2021-10-11 22:55:43,304]\u001b[0m Trial 16 finished with value: 0.6254960857427709 and parameters: {'colsample_bytree': 0.3, 'subsample': 0.8, 'learning_rate': 0.02, 'n_estimators': 370, 'max_depth': 3, 'min_child_weight': 129}. Best is trial 7 with value: 0.6282614616351695.\u001b[0m\n",
            "\u001b[32m[I 2021-10-11 22:55:49,930]\u001b[0m Trial 17 finished with value: 0.6262445931143373 and parameters: {'colsample_bytree': 0.6, 'subsample': 1.0, 'learning_rate': 0.018, 'n_estimators': 717, 'max_depth': 4, 'min_child_weight': 184}. Best is trial 7 with value: 0.6282614616351695.\u001b[0m\n",
            "\u001b[32m[I 2021-10-11 22:55:52,680]\u001b[0m Trial 18 finished with value: 0.6184976965625986 and parameters: {'colsample_bytree': 1.0, 'subsample': 0.5, 'learning_rate': 0.009, 'n_estimators': 138, 'max_depth': 6, 'min_child_weight': 48}. Best is trial 7 with value: 0.6282614616351695.\u001b[0m\n",
            "\u001b[32m[I 2021-10-11 22:55:57,926]\u001b[0m Trial 19 finished with value: 0.6192131078928799 and parameters: {'colsample_bytree': 0.9, 'subsample': 0.5, 'learning_rate': 0.008, 'n_estimators': 583, 'max_depth': 8, 'min_child_weight': 226}. Best is trial 7 with value: 0.6282614616351695.\u001b[0m\n",
            "\u001b[32m[I 2021-10-11 22:56:00,178]\u001b[0m Trial 20 finished with value: 0.6176152623722307 and parameters: {'colsample_bytree': 0.4, 'subsample': 1.0, 'learning_rate': 0.014, 'n_estimators': 439, 'max_depth': 1, 'min_child_weight': 119}. Best is trial 7 with value: 0.6282614616351695.\u001b[0m\n",
            "\u001b[32m[I 2021-10-11 22:56:06,954]\u001b[0m Trial 21 finished with value: 0.6266191998619705 and parameters: {'colsample_bytree': 0.7, 'subsample': 0.6, 'learning_rate': 0.009, 'n_estimators': 463, 'max_depth': 4, 'min_child_weight': 33}. Best is trial 7 with value: 0.6282614616351695.\u001b[0m\n",
            "\u001b[32m[I 2021-10-11 22:56:11,809]\u001b[0m Trial 22 finished with value: 0.6265990331787054 and parameters: {'colsample_bytree': 0.7, 'subsample': 0.6, 'learning_rate': 0.009, 'n_estimators': 357, 'max_depth': 4, 'min_child_weight': 74}. Best is trial 7 with value: 0.6282614616351695.\u001b[0m\n",
            "\u001b[32m[I 2021-10-11 22:56:22,333]\u001b[0m Trial 23 finished with value: 0.6274295200948533 and parameters: {'colsample_bytree': 0.7, 'subsample': 0.6, 'learning_rate': 0.009, 'n_estimators': 530, 'max_depth': 9, 'min_child_weight': 30}. Best is trial 7 with value: 0.6282614616351695.\u001b[0m\n",
            "\u001b[32m[I 2021-10-11 22:56:26,532]\u001b[0m Trial 24 finished with value: 0.6275382950514338 and parameters: {'colsample_bytree': 0.7, 'subsample': 0.7, 'learning_rate': 0.01, 'n_estimators': 281, 'max_depth': 4, 'min_child_weight': 20}. Best is trial 7 with value: 0.6282614616351695.\u001b[0m\n",
            "\u001b[32m[I 2021-10-11 22:56:30,663]\u001b[0m Trial 25 finished with value: 0.6262554341605676 and parameters: {'colsample_bytree': 0.7, 'subsample': 0.7, 'learning_rate': 0.01, 'n_estimators': 247, 'max_depth': 5, 'min_child_weight': 47}. Best is trial 7 with value: 0.6282614616351695.\u001b[0m\n",
            "\u001b[32m[I 2021-10-11 22:56:32,655]\u001b[0m Trial 26 finished with value: 0.6201815477152639 and parameters: {'colsample_bytree': 0.4, 'subsample': 0.7, 'learning_rate': 0.01, 'n_estimators': 210, 'max_depth': 3, 'min_child_weight': 115}. Best is trial 7 with value: 0.6282614616351695.\u001b[0m\n",
            "\u001b[32m[I 2021-10-11 22:56:36,623]\u001b[0m Trial 27 finished with value: 0.6206315169895894 and parameters: {'colsample_bytree': 0.7, 'subsample': 0.7, 'learning_rate': 0.01, 'n_estimators': 377, 'max_depth': 3, 'min_child_weight': 166}. Best is trial 7 with value: 0.6282614616351695.\u001b[0m\n",
            "\u001b[32m[I 2021-10-11 22:56:41,951]\u001b[0m Trial 28 finished with value: 0.6247607240036951 and parameters: {'colsample_bytree': 1.0, 'subsample': 0.8, 'learning_rate': 0.01, 'n_estimators': 335, 'max_depth': 4, 'min_child_weight': 77}. Best is trial 7 with value: 0.6282614616351695.\u001b[0m\n",
            "\u001b[32m[I 2021-10-11 22:56:44,828]\u001b[0m Trial 29 finished with value: 0.6201621274297054 and parameters: {'colsample_bytree': 0.5, 'subsample': 0.4, 'learning_rate': 0.01, 'n_estimators': 319, 'max_depth': 6, 'min_child_weight': 106}. Best is trial 7 with value: 0.6282614616351695.\u001b[0m\n",
            "\u001b[32m[I 2021-10-11 22:56:53,802]\u001b[0m Trial 30 finished with value: 0.6275498730337989 and parameters: {'colsample_bytree': 0.6, 'subsample': 0.8, 'learning_rate': 0.014, 'n_estimators': 725, 'max_depth': 5, 'min_child_weight': 90}. Best is trial 7 with value: 0.6282614616351695.\u001b[0m\n",
            "\u001b[32m[I 2021-10-11 22:57:03,064]\u001b[0m Trial 31 finished with value: 0.6270023796585732 and parameters: {'colsample_bytree': 0.6, 'subsample': 0.8, 'learning_rate': 0.014, 'n_estimators': 751, 'max_depth': 5, 'min_child_weight': 91}. Best is trial 7 with value: 0.6282614616351695.\u001b[0m\n",
            "\u001b[32m[I 2021-10-11 22:57:12,451]\u001b[0m Trial 32 finished with value: 0.6260740179556836 and parameters: {'colsample_bytree': 0.6, 'subsample': 0.8, 'learning_rate': 0.014, 'n_estimators': 636, 'max_depth': 5, 'min_child_weight': 32}. Best is trial 7 with value: 0.6282614616351695.\u001b[0m\n",
            "\u001b[32m[I 2021-10-11 22:57:23,497]\u001b[0m Trial 33 finished with value: 0.6280866188639963 and parameters: {'colsample_bytree': 0.6, 'subsample': 0.8, 'learning_rate': 0.014, 'n_estimators': 822, 'max_depth': 5, 'min_child_weight': 63}. Best is trial 7 with value: 0.6282614616351695.\u001b[0m\n",
            "\u001b[32m[I 2021-10-11 22:57:34,429]\u001b[0m Trial 34 finished with value: 0.6285650782823075 and parameters: {'colsample_bytree': 0.6, 'subsample': 0.8, 'learning_rate': 0.014, 'n_estimators': 821, 'max_depth': 5, 'min_child_weight': 66}. Best is trial 34 with value: 0.6285650782823075.\u001b[0m\n",
            "\u001b[32m[I 2021-10-11 22:57:46,524]\u001b[0m Trial 35 finished with value: 0.6287275221794009 and parameters: {'colsample_bytree': 0.6, 'subsample': 0.8, 'learning_rate': 0.014, 'n_estimators': 896, 'max_depth': 5, 'min_child_weight': 61}. Best is trial 35 with value: 0.6287275221794009.\u001b[0m\n",
            "\u001b[32m[I 2021-10-11 22:57:57,682]\u001b[0m Trial 36 finished with value: 0.6258202243279659 and parameters: {'colsample_bytree': 0.6, 'subsample': 0.8, 'learning_rate': 0.02, 'n_estimators': 847, 'max_depth': 5, 'min_child_weight': 66}. Best is trial 35 with value: 0.6287275221794009.\u001b[0m\n",
            "\u001b[32m[I 2021-10-11 22:58:06,456]\u001b[0m Trial 37 finished with value: 0.6274812209444357 and parameters: {'colsample_bytree': 0.6, 'subsample': 0.8, 'learning_rate': 0.014, 'n_estimators': 877, 'max_depth': 5, 'min_child_weight': 149}. Best is trial 35 with value: 0.6287275221794009.\u001b[0m\n",
            "\u001b[32m[I 2021-10-11 22:58:17,616]\u001b[0m Trial 38 finished with value: 0.6266455918414997 and parameters: {'colsample_bytree': 0.6, 'subsample': 0.8, 'learning_rate': 0.018, 'n_estimators': 797, 'max_depth': 5, 'min_child_weight': 49}. Best is trial 35 with value: 0.6287275221794009.\u001b[0m\n",
            "\u001b[32m[I 2021-10-11 22:58:23,365]\u001b[0m Trial 39 finished with value: 0.6225830918815072 and parameters: {'colsample_bytree': 0.8, 'subsample': 0.8, 'learning_rate': 0.008, 'n_estimators': 923, 'max_depth': 1, 'min_child_weight': 130}. Best is trial 35 with value: 0.6287275221794009.\u001b[0m\n",
            "\u001b[32m[I 2021-10-11 22:58:31,333]\u001b[0m Trial 40 finished with value: 0.6252656602626754 and parameters: {'colsample_bytree': 0.6, 'subsample': 0.4, 'learning_rate': 0.014, 'n_estimators': 924, 'max_depth': 5, 'min_child_weight': 102}. Best is trial 35 with value: 0.6287275221794009.\u001b[0m\n",
            "\u001b[32m[I 2021-10-11 22:58:46,296]\u001b[0m Trial 41 finished with value: 0.6128719152165069 and parameters: {'colsample_bytree': 0.5, 'subsample': 0.8, 'learning_rate': 0.014, 'n_estimators': 785, 'max_depth': 7, 'min_child_weight': 12}. Best is trial 35 with value: 0.6287275221794009.\u001b[0m\n",
            "\u001b[32m[I 2021-10-11 22:58:51,083]\u001b[0m Trial 42 finished with value: 0.6266917779381761 and parameters: {'colsample_bytree': 0.6, 'subsample': 1.0, 'learning_rate': 0.014, 'n_estimators': 672, 'max_depth': 2, 'min_child_weight': 40}. Best is trial 35 with value: 0.6287275221794009.\u001b[0m\n",
            "\u001b[32m[I 2021-10-11 22:58:59,410]\u001b[0m Trial 43 finished with value: 0.6282481204010925 and parameters: {'colsample_bytree': 0.3, 'subsample': 0.5, 'learning_rate': 0.016, 'n_estimators': 930, 'max_depth': 8, 'min_child_weight': 63}. Best is trial 35 with value: 0.6287275221794009.\u001b[0m\n",
            "\u001b[32m[I 2021-10-11 22:59:09,068]\u001b[0m Trial 44 finished with value: 0.6272791038683572 and parameters: {'colsample_bytree': 0.3, 'subsample': 0.8, 'learning_rate': 0.016, 'n_estimators': 953, 'max_depth': 8, 'min_child_weight': 64}. Best is trial 35 with value: 0.6287275221794009.\u001b[0m\n",
            "\u001b[32m[I 2021-10-11 22:59:16,432]\u001b[0m Trial 45 finished with value: 0.6290408287692634 and parameters: {'colsample_bytree': 0.3, 'subsample': 0.5, 'learning_rate': 0.016, 'n_estimators': 879, 'max_depth': 8, 'min_child_weight': 78}. Best is trial 45 with value: 0.6290408287692634.\u001b[0m\n",
            "\u001b[32m[I 2021-10-11 22:59:23,740]\u001b[0m Trial 46 finished with value: 0.6286862111886308 and parameters: {'colsample_bytree': 0.3, 'subsample': 0.5, 'learning_rate': 0.016, 'n_estimators': 877, 'max_depth': 8, 'min_child_weight': 79}. Best is trial 45 with value: 0.6290408287692634.\u001b[0m\n",
            "\u001b[32m[I 2021-10-11 22:59:30,924]\u001b[0m Trial 47 finished with value: 0.6294655432197247 and parameters: {'colsample_bytree': 0.3, 'subsample': 0.5, 'learning_rate': 0.016, 'n_estimators': 868, 'max_depth': 8, 'min_child_weight': 81}. Best is trial 47 with value: 0.6294655432197247.\u001b[0m\n",
            "\u001b[32m[I 2021-10-11 22:59:38,243]\u001b[0m Trial 48 finished with value: 0.6285757291323425 and parameters: {'colsample_bytree': 0.3, 'subsample': 0.5, 'learning_rate': 0.016, 'n_estimators': 875, 'max_depth': 8, 'min_child_weight': 79}. Best is trial 47 with value: 0.6294655432197247.\u001b[0m\n",
            "\u001b[32m[I 2021-10-11 22:59:45,324]\u001b[0m Trial 49 finished with value: 0.6302810779484008 and parameters: {'colsample_bytree': 0.3, 'subsample': 0.5, 'learning_rate': 0.016, 'n_estimators': 884, 'max_depth': 8, 'min_child_weight': 89}. Best is trial 49 with value: 0.6302810779484008.\u001b[0m\n"
          ]
        },
        {
          "output_type": "stream",
          "name": "stdout",
          "text": [
            "Number of finished trials: 50\n",
            "Best trial: {'colsample_bytree': 0.3, 'subsample': 0.5, 'learning_rate': 0.016, 'n_estimators': 884, 'max_depth': 8, 'min_child_weight': 89}\n"
          ]
        }
      ]
    },
    {
      "cell_type": "code",
      "metadata": {
        "id": "-SX7cQauyCD3"
      },
      "source": [
        "params = study.best_params\n",
        "params['scale_pos_weight'] = weight\n",
        "params['random_state'] = 420\n",
        "model = xgb.XGBClassifier(**params)\n",
        "cv = model_selection.RepeatedStratifiedKFold(n_splits=3, n_repeats=2, random_state=420)"
      ],
      "execution_count": 157,
      "outputs": []
    },
    {
      "cell_type": "code",
      "metadata": {
        "colab": {
          "base_uri": "https://localhost:8080/"
        },
        "id": "I7JVM8Gg6Z4G",
        "outputId": "02217294-d40d-4254-8190-471230dec530"
      },
      "source": [
        "for score in [\"roc_auc\", \"f1\", \"precision\", \"recall\"]:\n",
        "  scores = model_selection.cross_val_score(model, x_train, y_train, scoring=score, cv=cv, n_jobs=-1)\n",
        "  print(f\"Mean {score}: {np.mean(scores):.2f}\")"
      ],
      "execution_count": 158,
      "outputs": [
        {
          "output_type": "stream",
          "name": "stdout",
          "text": [
            "Mean roc_auc: 0.84\n",
            "Mean f1: 0.63\n",
            "Mean precision: 0.53\n",
            "Mean recall: 0.78\n"
          ]
        }
      ]
    },
    {
      "cell_type": "code",
      "metadata": {
        "colab": {
          "base_uri": "https://localhost:8080/",
          "height": 405
        },
        "id": "y_LzN9Ot7CDu",
        "outputId": "5cd1a362-f273-4cbb-e97e-b7d480e2bcf6"
      },
      "source": [
        "model.fit(x_train,y_test)\n",
        "y_pred = model.predict(x_test)\n",
        "y_pred_proba = model.predict_proba(x_test)[:,1]\n",
        "\n",
        "aoc = metrics.roc_auc_score(y_test,y_pred_proba)\n",
        "f1 = metrics.f1_score(y_test,y_pred)\n",
        "precision = metrics.precision_score(y_test,y_pred)\n",
        "recall = metrics.recall_score(y_test,y_pred)\n",
        "print(\"Model performance on Test data\")\n",
        "print(\"-\"*35)\n",
        "print(f\"aoc: {aoc:.2}\")\n",
        "print(f\"f1: {f1:.2}\")\n",
        "print(f\"precision: {precision:.2}\")\n",
        "print(f\"recall: {recall:.2}\")\n",
        "\n",
        "import matplotlib.pyplot as plt\n",
        "import seaborn as sns\n",
        "\n",
        "sns.heatmap(metrics.confusion_matrix(y_test,y_pred),\n",
        "annot=True,\n",
        "cmap='Blues',\n",
        "fmt = 'd',\n",
        "xticklabels=['No', 'Yes'],\n",
        "yticklabels=['No', 'Yes']\n",
        ")\n",
        "plt.xlabel('Predicted')\n",
        "plt.ylabel('True')\n",
        "plt.title('Confustion Matrix for test data')\n",
        "plt.show()"
      ],
      "execution_count": 159,
      "outputs": [
        {
          "output_type": "stream",
          "name": "stdout",
          "text": [
            "Model performance on Test data\n",
            "-----------------------------------\n",
            "aoc: 0.86\n",
            "f1: 0.65\n",
            "precision: 0.54\n",
            "recall: 0.81\n"
          ]
        },
        {
          "output_type": "display_data",
          "data": {
            "image/png": "[encoded data removed]",
            "text/plain": [
              "<Figure size 432x288 with 2 Axes>"
            ]
          },
          "metadata": {
            "needs_background": "light"
          }
        }
      ]
    },
    {
      "cell_type": "markdown",
      "metadata": {
        "id": "T0jiB2BtCDCK"
      },
      "source": [
        "# Model inferencing using SHAP"
      ]
    },
    {
      "cell_type": "code",
      "metadata": {
        "id": "FwbWFEaKCFDK"
      },
      "source": [
        "# !pip install shap"
      ],
      "execution_count": 160,
      "outputs": []
    },
    {
      "cell_type": "code",
      "metadata": {
        "id": "WwV1LClrHPqJ"
      },
      "source": [
        "import shap"
      ],
      "execution_count": 161,
      "outputs": []
    },
    {
      "cell_type": "code",
      "metadata": {
        "id": "c8rYKRrXHQqS"
      },
      "source": [
        "# explain the model's predictions using SHAP\n",
        "explainer = shap.Explainer(model)\n",
        "shap_values = explainer(x_train)"
      ],
      "execution_count": 162,
      "outputs": []
    },
    {
      "cell_type": "code",
      "metadata": {
        "colab": {
          "base_uri": "https://localhost:8080/",
          "height": 418
        },
        "id": "iRxoBEwzHY_q",
        "outputId": "d846f428-b368-4f47-ecec-6e6144c05a98"
      },
      "source": [
        "shap.plots.bar(shap_values)"
      ],
      "execution_count": 163,
      "outputs": [
        {
          "output_type": "display_data",
          "data": {
            "image/png": "[encoded data removed]",
            "text/plain": [
              "<Figure size 576x468 with 1 Axes>"
            ]
          },
          "metadata": {}
        }
      ]
    },
    {
      "cell_type": "code",
      "metadata": {
        "id": "AA-wTDLvHcWb"
      },
      "source": [
        "#get top features with highest magnitude shap values\n",
        "mean_shap = np.abs(shap_values.values).mean(0)\n",
        "\n",
        "#getting those indices where mean shap values is greater than 0\n",
        "imp_feat = np.argwhere(mean_shap>0)\n",
        "\n",
        "#getting those indices of mean_shap values descending\n",
        "vals_indice = np.argsort(mean_shap)[::-1] #descending\n",
        "\n",
        "#the features with high magnitude\n",
        "top_feat = x_train.columns[[i for i in vals_indice if i in imp_feat]]\n",
        "x_train = x_train.loc[:,top_feat].copy()\n",
        "x_test = x_test.loc[:,top_feat].copy()\n",
        "\n",
        "print(f\"No. of columns remove because of 0 mean Shapley Values: {len(imp_feat)}\")"
      ],
      "execution_count": 164,
      "outputs": []
    },
    {
      "cell_type": "code",
      "metadata": {
        "id": "vOGySxSjXAO4"
      },
      "source": [
        "def objective(trial,data=x_train,target=y_train):\n",
        "    param = {\n",
        "        #'tree_method':'gpu_hist',  # this parameter means using the GPU when training our model to speedup the training process\n",
        "        'colsample_bytree': trial.suggest_categorical('colsample_bytree', [0.3,0.4,0.5,0.6,0.7,0.8,0.9, 1.0]),\n",
        "        'subsample': trial.suggest_categorical('subsample', [0.4,0.5,0.6,0.7,0.8,1.0]),\n",
        "        'learning_rate': trial.suggest_categorical('learning_rate', [0.008,0.009,0.01,0.012,0.014,0.016,0.018, 0.02]),\n",
        "        'n_estimators': trial.suggest_int('n_estimators',100,1000),\n",
        "        'max_depth': trial.suggest_categorical('max_depth', [i+1 for i in range(9)]),\n",
        "        'random_state': 420,\n",
        "        'min_child_weight': trial.suggest_int('min_child_weight', 1, 300),\n",
        "        'scale_pos_weight': weight\n",
        "    }\n",
        "    model = xgb.XGBClassifier(**param)  \n",
        "    \n",
        "    cv = model_selection.RepeatedStratifiedKFold(n_splits=3, n_repeats=2, random_state=420)\n",
        "\n",
        "    scores = model_selection.cross_val_score(model, data, target, scoring=\"f1\", cv=cv, n_jobs=-1)\n",
        "    \n",
        "    return np.mean(scores)"
      ],
      "execution_count": 165,
      "outputs": []
    },
    {
      "cell_type": "code",
      "metadata": {
        "colab": {
          "base_uri": "https://localhost:8080/"
        },
        "id": "JEz_cZZ3T-S8",
        "outputId": "a0e1df85-b8f7-4e35-b2ec-e894bc5fa56e"
      },
      "source": [
        "study = optuna.create_study(direction='maximize')\n",
        "study.optimize(objective, n_trials=50)\n",
        "print('Number of finished trials:', len(study.trials))\n",
        "print('Best trial:', study.best_trial.params)"
      ],
      "execution_count": 166,
      "outputs": [
        {
          "output_type": "stream",
          "name": "stderr",
          "text": [
            "\u001b[32m[I 2021-10-11 23:00:20,942]\u001b[0m A new study created in memory with name: no-name-ea62b65f-ef15-4e05-bc11-d343ebc1e16d\u001b[0m\n",
            "\u001b[32m[I 2021-10-11 23:00:24,494]\u001b[0m Trial 0 finished with value: 0.6275350921670838 and parameters: {'colsample_bytree': 0.8, 'subsample': 1.0, 'learning_rate': 0.018, 'n_estimators': 309, 'max_depth': 4, 'min_child_weight': 175}. Best is trial 0 with value: 0.6275350921670838.\u001b[0m\n",
            "\u001b[32m[I 2021-10-11 23:00:32,602]\u001b[0m Trial 1 finished with value: 0.6275837343520673 and parameters: {'colsample_bytree': 0.4, 'subsample': 0.5, 'learning_rate': 0.016, 'n_estimators': 736, 'max_depth': 6, 'min_child_weight': 53}. Best is trial 1 with value: 0.6275837343520673.\u001b[0m\n",
            "\u001b[32m[I 2021-10-11 23:00:43,659]\u001b[0m Trial 2 finished with value: 0.6152972994649669 and parameters: {'colsample_bytree': 0.9, 'subsample': 0.6, 'learning_rate': 0.016, 'n_estimators': 454, 'max_depth': 6, 'min_child_weight': 3}. Best is trial 1 with value: 0.6275837343520673.\u001b[0m\n",
            "\u001b[32m[I 2021-10-11 23:00:49,618]\u001b[0m Trial 3 finished with value: 0.618935910312284 and parameters: {'colsample_bytree': 0.7, 'subsample': 0.8, 'learning_rate': 0.012, 'n_estimators': 759, 'max_depth': 6, 'min_child_weight': 297}. Best is trial 1 with value: 0.6275837343520673.\u001b[0m\n",
            "\u001b[32m[I 2021-10-11 23:00:54,393]\u001b[0m Trial 4 finished with value: 0.6221443894841686 and parameters: {'colsample_bytree': 0.3, 'subsample': 0.6, 'learning_rate': 0.012, 'n_estimators': 766, 'max_depth': 6, 'min_child_weight': 228}. Best is trial 1 with value: 0.6275837343520673.\u001b[0m\n",
            "\u001b[32m[I 2021-10-11 23:00:58,467]\u001b[0m Trial 5 finished with value: 0.624807362760052 and parameters: {'colsample_bytree': 0.4, 'subsample': 1.0, 'learning_rate': 0.014, 'n_estimators': 535, 'max_depth': 8, 'min_child_weight': 231}. Best is trial 1 with value: 0.6275837343520673.\u001b[0m\n",
            "\u001b[32m[I 2021-10-11 23:01:03,514]\u001b[0m Trial 6 finished with value: 0.6296230051539055 and parameters: {'colsample_bytree': 0.9, 'subsample': 1.0, 'learning_rate': 0.016, 'n_estimators': 402, 'max_depth': 7, 'min_child_weight': 162}. Best is trial 6 with value: 0.6296230051539055.\u001b[0m\n",
            "\u001b[32m[I 2021-10-11 23:01:06,127]\u001b[0m Trial 7 finished with value: 0.6203413435189487 and parameters: {'colsample_bytree': 0.3, 'subsample': 0.6, 'learning_rate': 0.012, 'n_estimators': 470, 'max_depth': 1, 'min_child_weight': 231}. Best is trial 6 with value: 0.6296230051539055.\u001b[0m\n",
            "\u001b[32m[I 2021-10-11 23:01:07,790]\u001b[0m Trial 8 finished with value: 0.5891779193854775 and parameters: {'colsample_bytree': 1.0, 'subsample': 0.5, 'learning_rate': 0.016, 'n_estimators': 167, 'max_depth': 9, 'min_child_weight': 300}. Best is trial 6 with value: 0.6296230051539055.\u001b[0m\n",
            "\u001b[32m[I 2021-10-11 23:01:12,225]\u001b[0m Trial 9 finished with value: 0.6256130818875493 and parameters: {'colsample_bytree': 0.7, 'subsample': 0.7, 'learning_rate': 0.02, 'n_estimators': 300, 'max_depth': 6, 'min_child_weight': 79}. Best is trial 6 with value: 0.6296230051539055.\u001b[0m\n",
            "\u001b[32m[I 2021-10-11 23:01:13,292]\u001b[0m Trial 10 finished with value: 0.6118947853688335 and parameters: {'colsample_bytree': 0.6, 'subsample': 0.4, 'learning_rate': 0.008, 'n_estimators': 106, 'max_depth': 7, 'min_child_weight': 130}. Best is trial 6 with value: 0.6296230051539055.\u001b[0m\n",
            "\u001b[32m[I 2021-10-11 23:01:28,017]\u001b[0m Trial 11 finished with value: 0.6259615034035907 and parameters: {'colsample_bytree': 0.9, 'subsample': 0.5, 'learning_rate': 0.01, 'n_estimators': 918, 'max_depth': 5, 'min_child_weight': 51}. Best is trial 6 with value: 0.6296230051539055.\u001b[0m\n",
            "\u001b[32m[I 2021-10-11 23:01:35,634]\u001b[0m Trial 12 finished with value: 0.6262422199248149 and parameters: {'colsample_bytree': 0.5, 'subsample': 1.0, 'learning_rate': 0.009, 'n_estimators': 709, 'max_depth': 7, 'min_child_weight': 131}. Best is trial 6 with value: 0.6296230051539055.\u001b[0m\n",
            "\u001b[32m[I 2021-10-11 23:01:43,078]\u001b[0m Trial 13 finished with value: 0.62790686100633 and parameters: {'colsample_bytree': 0.4, 'subsample': 0.5, 'learning_rate': 0.016, 'n_estimators': 997, 'max_depth': 2, 'min_child_weight': 85}. Best is trial 6 with value: 0.6296230051539055.\u001b[0m\n",
            "\u001b[32m[I 2021-10-11 23:01:51,254]\u001b[0m Trial 14 finished with value: 0.6281422450483051 and parameters: {'colsample_bytree': 0.9, 'subsample': 0.8, 'learning_rate': 0.016, 'n_estimators': 904, 'max_depth': 2, 'min_child_weight': 171}. Best is trial 6 with value: 0.6296230051539055.\u001b[0m\n",
            "\u001b[32m[I 2021-10-11 23:01:58,302]\u001b[0m Trial 15 finished with value: 0.6250920006873606 and parameters: {'colsample_bytree': 0.9, 'subsample': 0.8, 'learning_rate': 0.016, 'n_estimators': 636, 'max_depth': 3, 'min_child_weight': 180}. Best is trial 6 with value: 0.6296230051539055.\u001b[0m\n",
            "\u001b[32m[I 2021-10-11 23:02:01,581]\u001b[0m Trial 16 finished with value: 0.6246363483982895 and parameters: {'colsample_bytree': 0.9, 'subsample': 0.8, 'learning_rate': 0.018, 'n_estimators': 353, 'max_depth': 2, 'min_child_weight': 180}. Best is trial 6 with value: 0.6296230051539055.\u001b[0m\n",
            "\u001b[32m[I 2021-10-11 23:02:12,265]\u001b[0m Trial 17 finished with value: 0.6275049404201734 and parameters: {'colsample_bytree': 0.9, 'subsample': 0.7, 'learning_rate': 0.01, 'n_estimators': 876, 'max_depth': 7, 'min_child_weight': 147}. Best is trial 6 with value: 0.6296230051539055.\u001b[0m\n",
            "\u001b[32m[I 2021-10-11 23:02:15,277]\u001b[0m Trial 18 finished with value: 0.6047297996530941 and parameters: {'colsample_bytree': 0.6, 'subsample': 0.4, 'learning_rate': 0.014, 'n_estimators': 407, 'max_depth': 2, 'min_child_weight': 209}. Best is trial 6 with value: 0.6296230051539055.\u001b[0m\n",
            "\u001b[32m[I 2021-10-11 23:02:21,787]\u001b[0m Trial 19 finished with value: 0.6264008893491423 and parameters: {'colsample_bytree': 0.5, 'subsample': 0.8, 'learning_rate': 0.009, 'n_estimators': 570, 'max_depth': 5, 'min_child_weight': 110}. Best is trial 6 with value: 0.6296230051539055.\u001b[0m\n",
            "\u001b[32m[I 2021-10-11 23:02:24,585]\u001b[0m Trial 20 finished with value: 0.6272747084508725 and parameters: {'colsample_bytree': 1.0, 'subsample': 1.0, 'learning_rate': 0.02, 'n_estimators': 228, 'max_depth': 9, 'min_child_weight': 205}. Best is trial 6 with value: 0.6296230051539055.\u001b[0m\n",
            "\u001b[32m[I 2021-10-11 23:02:31,958]\u001b[0m Trial 21 finished with value: 0.6296938163057896 and parameters: {'colsample_bytree': 0.4, 'subsample': 0.5, 'learning_rate': 0.016, 'n_estimators': 986, 'max_depth': 2, 'min_child_weight': 98}. Best is trial 21 with value: 0.6296938163057896.\u001b[0m\n",
            "\u001b[32m[I 2021-10-11 23:02:38,306]\u001b[0m Trial 22 finished with value: 0.6281405136761964 and parameters: {'colsample_bytree': 0.4, 'subsample': 1.0, 'learning_rate': 0.016, 'n_estimators': 996, 'max_depth': 2, 'min_child_weight': 108}. Best is trial 21 with value: 0.6296938163057896.\u001b[0m\n",
            "\u001b[32m[I 2021-10-11 23:02:45,892]\u001b[0m Trial 23 finished with value: 0.6236961868948985 and parameters: {'colsample_bytree': 0.8, 'subsample': 0.5, 'learning_rate': 0.016, 'n_estimators': 893, 'max_depth': 2, 'min_child_weight': 162}. Best is trial 21 with value: 0.6296938163057896.\u001b[0m\n",
            "\u001b[32m[I 2021-10-11 23:02:53,603]\u001b[0m Trial 24 finished with value: 0.6190211070015992 and parameters: {'colsample_bytree': 0.9, 'subsample': 0.8, 'learning_rate': 0.008, 'n_estimators': 818, 'max_depth': 4, 'min_child_weight': 259}. Best is trial 21 with value: 0.6296938163057896.\u001b[0m\n",
            "\u001b[32m[I 2021-10-11 23:03:00,839]\u001b[0m Trial 25 finished with value: 0.6282603713728028 and parameters: {'colsample_bytree': 0.9, 'subsample': 0.7, 'learning_rate': 0.016, 'n_estimators': 621, 'max_depth': 3, 'min_child_weight': 145}. Best is trial 21 with value: 0.6296938163057896.\u001b[0m\n",
            "\u001b[32m[I 2021-10-11 23:03:06,543]\u001b[0m Trial 26 finished with value: 0.6282897019360484 and parameters: {'colsample_bytree': 0.4, 'subsample': 0.7, 'learning_rate': 0.016, 'n_estimators': 643, 'max_depth': 3, 'min_child_weight': 108}. Best is trial 21 with value: 0.6296938163057896.\u001b[0m\n",
            "\u001b[32m[I 2021-10-11 23:03:11,502]\u001b[0m Trial 27 finished with value: 0.623381519355105 and parameters: {'colsample_bytree': 0.4, 'subsample': 0.7, 'learning_rate': 0.016, 'n_estimators': 531, 'max_depth': 3, 'min_child_weight': 53}. Best is trial 21 with value: 0.6296938163057896.\u001b[0m\n",
            "\u001b[32m[I 2021-10-11 23:03:14,140]\u001b[0m Trial 28 finished with value: 0.6195940412759341 and parameters: {'colsample_bytree': 0.4, 'subsample': 0.7, 'learning_rate': 0.016, 'n_estimators': 457, 'max_depth': 1, 'min_child_weight': 91}. Best is trial 21 with value: 0.6296938163057896.\u001b[0m\n",
            "\u001b[32m[I 2021-10-11 23:03:20,879]\u001b[0m Trial 29 finished with value: 0.6242913763523182 and parameters: {'colsample_bytree': 0.8, 'subsample': 1.0, 'learning_rate': 0.018, 'n_estimators': 290, 'max_depth': 8, 'min_child_weight': 21}. Best is trial 21 with value: 0.6296938163057896.\u001b[0m\n",
            "\u001b[32m[I 2021-10-11 23:03:25,548]\u001b[0m Trial 30 finished with value: 0.6263162391849605 and parameters: {'colsample_bytree': 0.4, 'subsample': 0.4, 'learning_rate': 0.02, 'n_estimators': 629, 'max_depth': 4, 'min_child_weight': 112}. Best is trial 21 with value: 0.6296938163057896.\u001b[0m\n",
            "\u001b[32m[I 2021-10-11 23:03:30,841]\u001b[0m Trial 31 finished with value: 0.6294624946112163 and parameters: {'colsample_bytree': 0.4, 'subsample': 0.7, 'learning_rate': 0.016, 'n_estimators': 629, 'max_depth': 3, 'min_child_weight': 146}. Best is trial 21 with value: 0.6296938163057896.\u001b[0m\n",
            "\u001b[32m[I 2021-10-11 23:03:34,380]\u001b[0m Trial 32 finished with value: 0.627495286555631 and parameters: {'colsample_bytree': 0.4, 'subsample': 0.7, 'learning_rate': 0.016, 'n_estimators': 401, 'max_depth': 3, 'min_child_weight': 129}. Best is trial 21 with value: 0.6296938163057896.\u001b[0m\n",
            "\u001b[32m[I 2021-10-11 23:03:41,909]\u001b[0m Trial 33 finished with value: 0.626071377547493 and parameters: {'colsample_bytree': 0.4, 'subsample': 0.7, 'learning_rate': 0.016, 'n_estimators': 821, 'max_depth': 3, 'min_child_weight': 58}. Best is trial 21 with value: 0.6296938163057896.\u001b[0m\n",
            "\u001b[32m[I 2021-10-11 23:03:48,825]\u001b[0m Trial 34 finished with value: 0.6283201615294414 and parameters: {'colsample_bytree': 0.4, 'subsample': 0.5, 'learning_rate': 0.016, 'n_estimators': 689, 'max_depth': 7, 'min_child_weight': 70}. Best is trial 21 with value: 0.6296938163057896.\u001b[0m\n",
            "\u001b[32m[I 2021-10-11 23:04:00,392]\u001b[0m Trial 35 finished with value: 0.626341253455155 and parameters: {'colsample_bytree': 0.7, 'subsample': 0.5, 'learning_rate': 0.016, 'n_estimators': 685, 'max_depth': 7, 'min_child_weight': 34}. Best is trial 21 with value: 0.6296938163057896.\u001b[0m\n",
            "\u001b[32m[I 2021-10-11 23:04:04,738]\u001b[0m Trial 36 finished with value: 0.6268882165838664 and parameters: {'colsample_bytree': 0.3, 'subsample': 0.5, 'learning_rate': 0.014, 'n_estimators': 494, 'max_depth': 7, 'min_child_weight': 76}. Best is trial 21 with value: 0.6296938163057896.\u001b[0m\n",
            "\u001b[32m[I 2021-10-11 23:04:08,856]\u001b[0m Trial 37 finished with value: 0.6210133604167317 and parameters: {'colsample_bytree': 0.4, 'subsample': 0.5, 'learning_rate': 0.009, 'n_estimators': 593, 'max_depth': 7, 'min_child_weight': 202}. Best is trial 21 with value: 0.6296938163057896.\u001b[0m\n",
            "\u001b[32m[I 2021-10-11 23:04:16,995]\u001b[0m Trial 38 finished with value: 0.6209775233157799 and parameters: {'colsample_bytree': 1.0, 'subsample': 0.5, 'learning_rate': 0.012, 'n_estimators': 789, 'max_depth': 7, 'min_child_weight': 159}. Best is trial 21 with value: 0.6296938163057896.\u001b[0m\n",
            "\u001b[32m[I 2021-10-11 23:04:31,095]\u001b[0m Trial 39 finished with value: 0.621374737936555 and parameters: {'colsample_bytree': 0.4, 'subsample': 0.6, 'learning_rate': 0.008, 'n_estimators': 686, 'max_depth': 8, 'min_child_weight': 4}. Best is trial 21 with value: 0.6296938163057896.\u001b[0m\n",
            "\u001b[32m[I 2021-10-11 23:04:34,985]\u001b[0m Trial 40 finished with value: 0.6187080837007389 and parameters: {'colsample_bytree': 0.6, 'subsample': 1.0, 'learning_rate': 0.01, 'n_estimators': 731, 'max_depth': 1, 'min_child_weight': 96}. Best is trial 21 with value: 0.6296938163057896.\u001b[0m\n",
            "\u001b[32m[I 2021-10-11 23:04:39,487]\u001b[0m Trial 41 finished with value: 0.6278292890194718 and parameters: {'colsample_bytree': 0.4, 'subsample': 0.7, 'learning_rate': 0.016, 'n_estimators': 516, 'max_depth': 3, 'min_child_weight': 129}. Best is trial 21 with value: 0.6296938163057896.\u001b[0m\n",
            "\u001b[32m[I 2021-10-11 23:04:45,663]\u001b[0m Trial 42 finished with value: 0.6259624053299744 and parameters: {'colsample_bytree': 0.4, 'subsample': 0.6, 'learning_rate': 0.016, 'n_estimators': 668, 'max_depth': 3, 'min_child_weight': 70}. Best is trial 21 with value: 0.6296938163057896.\u001b[0m\n",
            "\u001b[32m[I 2021-10-11 23:04:50,688]\u001b[0m Trial 43 finished with value: 0.6287609345527035 and parameters: {'colsample_bytree': 0.4, 'subsample': 0.5, 'learning_rate': 0.016, 'n_estimators': 566, 'max_depth': 6, 'min_child_weight': 102}. Best is trial 21 with value: 0.6296938163057896.\u001b[0m\n",
            "\u001b[32m[I 2021-10-11 23:04:54,583]\u001b[0m Trial 44 finished with value: 0.6288115649173888 and parameters: {'colsample_bytree': 0.3, 'subsample': 0.5, 'learning_rate': 0.016, 'n_estimators': 423, 'max_depth': 6, 'min_child_weight': 66}. Best is trial 21 with value: 0.6296938163057896.\u001b[0m\n",
            "\u001b[32m[I 2021-10-11 23:04:57,567]\u001b[0m Trial 45 finished with value: 0.6210897294604879 and parameters: {'colsample_bytree': 0.3, 'subsample': 0.5, 'learning_rate': 0.012, 'n_estimators': 405, 'max_depth': 6, 'min_child_weight': 142}. Best is trial 21 with value: 0.6296938163057896.\u001b[0m\n",
            "\u001b[32m[I 2021-10-11 23:05:00,449]\u001b[0m Trial 46 finished with value: 0.6243868590086085 and parameters: {'colsample_bytree': 0.3, 'subsample': 0.5, 'learning_rate': 0.018, 'n_estimators': 352, 'max_depth': 6, 'min_child_weight': 99}. Best is trial 21 with value: 0.6296938163057896.\u001b[0m\n",
            "\u001b[32m[I 2021-10-11 23:05:02,191]\u001b[0m Trial 47 finished with value: 0.6228276688317026 and parameters: {'colsample_bytree': 0.3, 'subsample': 0.5, 'learning_rate': 0.016, 'n_estimators': 260, 'max_depth': 6, 'min_child_weight': 190}. Best is trial 21 with value: 0.6296938163057896.\u001b[0m\n",
            "\u001b[32m[I 2021-10-11 23:05:06,271]\u001b[0m Trial 48 finished with value: 0.6249768510100338 and parameters: {'colsample_bytree': 0.5, 'subsample': 1.0, 'learning_rate': 0.016, 'n_estimators': 358, 'max_depth': 6, 'min_child_weight': 120}. Best is trial 21 with value: 0.6296938163057896.\u001b[0m\n",
            "\u001b[32m[I 2021-10-11 23:05:12,337]\u001b[0m Trial 49 finished with value: 0.6278407485763116 and parameters: {'colsample_bytree': 0.7, 'subsample': 0.5, 'learning_rate': 0.014, 'n_estimators': 436, 'max_depth': 6, 'min_child_weight': 63}. Best is trial 21 with value: 0.6296938163057896.\u001b[0m\n"
          ]
        },
        {
          "output_type": "stream",
          "name": "stdout",
          "text": [
            "Number of finished trials: 50\n",
            "Best trial: {'colsample_bytree': 0.4, 'subsample': 0.5, 'learning_rate': 0.016, 'n_estimators': 986, 'max_depth': 2, 'min_child_weight': 98}\n"
          ]
        }
      ]
    },
    {
      "cell_type": "code",
      "metadata": {
        "id": "LEGJLH5ZX9J0"
      },
      "source": [
        "params = study.best_params\n",
        "params['scale_pos_weight'] = weight\n",
        "params['random_state'] = 420\n",
        "model = xgb.XGBClassifier(**params)\n",
        "cv = model_selection.RepeatedStratifiedKFold(n_splits=3, n_repeats=2, random_state=420)"
      ],
      "execution_count": 167,
      "outputs": []
    },
    {
      "cell_type": "code",
      "metadata": {
        "colab": {
          "base_uri": "https://localhost:8080/"
        },
        "id": "ZCHqj9hBX9J2",
        "outputId": "604b7f81-2348-452c-a097-fc9100d801a1"
      },
      "source": [
        "for score in [\"roc_auc\", \"f1\", \"precision\", \"recall\"]:\n",
        "  scores = model_selection.cross_val_score(model, x_train,\n",
        "                                           y_train, scoring=score, cv=cv, n_jobs=-1)\n",
        "  print(f\"Mean {score}: {np.mean(scores):.2f}\")"
      ],
      "execution_count": 168,
      "outputs": [
        {
          "output_type": "stream",
          "name": "stdout",
          "text": [
            "Mean roc_auc: 0.84\n",
            "Mean f1: 0.63\n",
            "Mean precision: 0.53\n",
            "Mean recall: 0.78\n"
          ]
        }
      ]
    },
    {
      "cell_type": "code",
      "metadata": {
        "colab": {
          "base_uri": "https://localhost:8080/",
          "height": 405
        },
        "id": "vYOEw04UX9J3",
        "outputId": "e19b913f-04ed-4274-a474-e727db3e4699"
      },
      "source": [
        "model.fit(x_train,y_test)\n",
        "y_pred = model.predict(x_test)\n",
        "y_pred_proba = model.predict_proba(x_test)[:,1]\n",
        "\n",
        "aoc = metrics.roc_auc_score(y_test,y_pred_proba)\n",
        "f1 = metrics.f1_score(y_test,y_pred)\n",
        "precision = metrics.precision_score(y_test,y_pred)\n",
        "recall = metrics.recall_score(y_test,y_pred)\n",
        "print(\"Model performance on Test data\")\n",
        "print(\"-\"*35)\n",
        "print(f\"aoc: {aoc:.2}\")\n",
        "print(f\"f1: {f1:.2}\")\n",
        "print(f\"precision: {precision:.2}\")\n",
        "print(f\"recall: {recall:.2}\")\n",
        "\n",
        "import matplotlib.pyplot as plt\n",
        "import seaborn as sns\n",
        "\n",
        "sns.heatmap(metrics.confusion_matrix(y_test,y_pred),\n",
        "annot=True,\n",
        "cmap='Blues',\n",
        "fmt = 'd',\n",
        "xticklabels=['No', 'Yes'],\n",
        "yticklabels=['No', 'Yes']\n",
        ")\n",
        "plt.xlabel('Predicted')\n",
        "plt.ylabel('True')\n",
        "plt.title('Confustion Matrix for test data')\n",
        "plt.show()"
      ],
      "execution_count": 171,
      "outputs": [
        {
          "output_type": "stream",
          "name": "stdout",
          "text": [
            "Model performance on Test data\n",
            "-----------------------------------\n",
            "aoc: 0.86\n",
            "f1: 0.64\n",
            "precision: 0.53\n",
            "recall: 0.8\n"
          ]
        },
        {
          "output_type": "display_data",
          "data": {
            "image/png": "[encoded data removed]",
            "text/plain": [
              "<Figure size 432x288 with 2 Axes>"
            ]
          },
          "metadata": {
            "needs_background": "light"
          }
        }
      ]
    },
    {
      "cell_type": "code",
      "metadata": {
        "id": "cH_0K9e1blq_"
      },
      "source": [
        "# explain the model's predictions using SHAP\n",
        "explainer = shap.Explainer(model)\n",
        "shap_values = explainer(x_train.loc[:,top_feat])"
      ],
      "execution_count": 172,
      "outputs": []
    },
    {
      "cell_type": "code",
      "metadata": {
        "colab": {
          "base_uri": "https://localhost:8080/",
          "height": 498
        },
        "id": "Pd6f-rYebm-e",
        "outputId": "fe63adc5-fa6e-4476-f5e0-3a9c12556846"
      },
      "source": [
        "shap.summary_plot(shap_values)"
      ],
      "execution_count": 174,
      "outputs": [
        {
          "output_type": "display_data",
          "data": {
            "image/png": "[encoded data removed]",
            "text/plain": [
              "<Figure size 576x568.8 with 2 Axes>"
            ]
          },
          "metadata": {
            "needs_background": "light"
          }
        }
      ]
    },
    {
      "cell_type": "code",
      "metadata": {
        "colab": {
          "base_uri": "https://localhost:8080/"
        },
        "id": "_2Cz1Ij8b7pr",
        "outputId": "640e3596-40ee-4949-fb88-965815fe8e2c"
      },
      "source": [
        "resp_enc.master_dict"
      ],
      "execution_count": 146,
      "outputs": [
        {
          "output_type": "execute_result",
          "data": {
            "text/plain": [
              "{'Contract': {'Month-to-month': 0.43,\n",
              "  'One year': 0.11,\n",
              "  'Two year': 0.03,\n",
              "  'UNK': 0.5},\n",
              " 'Dependents': {'No': 0.31, 'UNK': 0.5, 'Yes': 0.15},\n",
              " 'DeviceProtection': {'No': 0.39,\n",
              "  'No internet service': 0.07,\n",
              "  'UNK': 0.5,\n",
              "  'Yes': 0.23},\n",
              " 'InternetService': {'DSL': 0.19, 'Fiber optic': 0.42, 'No': 0.07, 'UNK': 0.5},\n",
              " 'MultipleLines': {'No': 0.25,\n",
              "  'No phone service': 0.26,\n",
              "  'UNK': 0.5,\n",
              "  'Yes': 0.29},\n",
              " 'OnlineBackup': {'No': 0.4,\n",
              "  'No internet service': 0.07,\n",
              "  'UNK': 0.5,\n",
              "  'Yes': 0.22},\n",
              " 'OnlineSecurity': {'No': 0.41,\n",
              "  'No internet service': 0.07,\n",
              "  'UNK': 0.5,\n",
              "  'Yes': 0.15},\n",
              " 'PaperlessBilling': {'No': 0.17, 'UNK': 0.5, 'Yes': 0.33},\n",
              " 'Partner': {'No': 0.33, 'UNK': 0.5, 'Yes': 0.2},\n",
              " 'PaymentMethod': {'Bank transfer (automatic)': 0.17,\n",
              "  'Credit card (automatic)': 0.15,\n",
              "  'Electronic check': 0.46,\n",
              "  'Mailed check': 0.19,\n",
              "  'UNK': 0.5},\n",
              " 'StreamingMovies': {'No': 0.33,\n",
              "  'No internet service': 0.07,\n",
              "  'UNK': 0.5,\n",
              "  'Yes': 0.31},\n",
              " 'StreamingTV': {'No': 0.34,\n",
              "  'No internet service': 0.07,\n",
              "  'UNK': 0.5,\n",
              "  'Yes': 0.3},\n",
              " 'TechSupport': {'No': 0.41,\n",
              "  'No internet service': 0.07,\n",
              "  'UNK': 0.5,\n",
              "  'Yes': 0.16}}"
            ]
          },
          "metadata": {},
          "execution_count": 146
        }
      ]
    },
    {
      "cell_type": "code",
      "metadata": {
        "colab": {
          "base_uri": "https://localhost:8080/"
        },
        "id": "ldzTEMsXcAgE",
        "outputId": "1066ce6a-b0d1-45ad-963b-07cb35444061"
      },
      "source": [
        "top_feat"
      ],
      "execution_count": 141,
      "outputs": [
        {
          "output_type": "execute_result",
          "data": {
            "text/plain": [
              "Index(['Contract', 'OnlineSecurity', 'InternetService', 'TechSupport',\n",
              "       'tenure', 'PaymentMethod', 'OnlineBackup'],\n",
              "      dtype='object')"
            ]
          },
          "metadata": {},
          "execution_count": 141
        }
      ]
    },
    {
      "cell_type": "code",
      "metadata": {
        "id": "KUSJG-AFcKT9"
      },
      "source": [
        ""
      ],
      "execution_count": null,
      "outputs": []
    }
  ]
}